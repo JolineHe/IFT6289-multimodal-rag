{
 "cells": [
  {
   "cell_type": "code",
   "execution_count": 73,
   "metadata": {},
   "outputs": [],
   "source": [
    "import sys\n",
    "import os\n",
    "\n",
    "# 获取当前notebook的绝对路径\n",
    "current_dir = os.path.abspath('')\n",
    "# 获取项目根目录的路径（src的父目录）\n",
    "project_root = os.path.dirname(os.path.dirname(current_dir))\n",
    "sys.path.append(project_root)\n",
    "\n",
    "\n",
    "from src.evaluation.evaluation import *"
   ]
  },
  {
   "cell_type": "markdown",
   "metadata": {},
   "source": [
    "### Get random properties as test set"
   ]
  },
  {
   "cell_type": "code",
   "execution_count": 74,
   "metadata": {},
   "outputs": [
    {
     "data": {
      "text/plain": [
       "({'id': 26549061,\n",
       "  'name': 'NEW LISTING! Beautiful home w/ lanai, central location & easy beach access!',\n",
       "  'description': 'This property is a (Phone number hidden by Airbnb) square feet,  3 Bedroom, 2 bathroom accommodation located in Hanalei.  NEW LISTING! Beautiful home w/ lanai, central location & easy beach access! offers 3 Queen bed. It can host 6 people.  This accommodation features kitchen. Please see the description below or inquire for more details! Hale Kailea is a tastefully furnished modern home in historic Hanalei Bay! Its central location allows you to be in the center of it all, while still providing a private, comfortable sanctuary to recover from your time in the sun, sand, and sea.  Enjoy barbecuing on the shaded, wrap-around lanai and sharing a meal with your ohana (family and friends) around the custom dining table with seating for six. The open kitchen and cathedral ceiling in the living area allow you to entertain with ease. The bedrooms offer ample room for accommodating six people comfortably and each is equipped with a queen bed and the perfect balance of sunlight, shade, and airfl'},\n",
       " [26549061,\n",
       "  6627075,\n",
       "  20736951,\n",
       "  21934440,\n",
       "  19981877,\n",
       "  10141950,\n",
       "  21946009,\n",
       "  23892039,\n",
       "  12317903,\n",
       "  21583732,\n",
       "  17734475,\n",
       "  32745518,\n",
       "  13298973,\n",
       "  1070322,\n",
       "  2298271,\n",
       "  32436791,\n",
       "  15943568,\n",
       "  27366599,\n",
       "  30538139,\n",
       "  1459741])"
      ]
     },
     "execution_count": 74,
     "metadata": {},
     "output_type": "execute_result"
    }
   ],
   "source": [
    "random_properties, random_property_ids = get_random_properties(20)\n",
    "random_properties[0], random_property_ids\n"
   ]
  },
  {
   "cell_type": "markdown",
   "metadata": {},
   "source": [
    "### Generate queries for these properties"
   ]
  },
  {
   "cell_type": "code",
   "execution_count": 75,
   "metadata": {},
   "outputs": [],
   "source": [
    "random_properties_and_queries = generate_queries(random_properties)"
   ]
  },
  {
   "cell_type": "code",
   "execution_count": 76,
   "metadata": {},
   "outputs": [
    {
     "data": {
      "text/plain": [
       "[{'id': 26549061,\n",
       "  'name': 'NEW LISTING! Beautiful home w/ lanai, central location & easy beach access!',\n",
       "  'description': 'This property is a (Phone number hidden by Airbnb) square feet,  3 Bedroom, 2 bathroom accommodation located in Hanalei.  NEW LISTING! Beautiful home w/ lanai, central location & easy beach access! offers 3 Queen bed. It can host 6 people.  This accommodation features kitchen. Please see the description below or inquire for more details! Hale Kailea is a tastefully furnished modern home in historic Hanalei Bay! Its central location allows you to be in the center of it all, while still providing a private, comfortable sanctuary to recover from your time in the sun, sand, and sea.  Enjoy barbecuing on the shaded, wrap-around lanai and sharing a meal with your ohana (family and friends) around the custom dining table with seating for six. The open kitchen and cathedral ceiling in the living area allow you to entertain with ease. The bedrooms offer ample room for accommodating six people comfortably and each is equipped with a queen bed and the perfect balance of sunlight, shade, and airfl',\n",
       "  'generated_query': 'Modern 3-bedroom home in Hanalei with 2 bathrooms, spacious kitchen, wrap-around lanai for barbecues, central location near beaches, comfortable queen beds for six, and a stylish, private sanctuary to relax after beach days.'},\n",
       " {'id': 6627075,\n",
       "  'name': 'Cosy Single room in Beşiktaş!',\n",
       "  'description': 'Think of a space that is sophisticated, understated, comfortable and cosy, with wonderful objects from around the world and peaceful, very quiet yet very lively made with personality and soul. Please enjoy your stay in this relaxing and spacious flat in the heart of the charming and friendly neighborhood Beşiktaş.  Beşiktaş is a central, vibrant but not noisy neighborhood; 2 min walk from the central market and seaside, with a great selection of cafes, restaurants, bars, local shops. It is famous for its Fish Market during the day. This is a 70m2, fully furnished and fully equipped flat onentrance floor of a building. There are three bedrooms, one kitchen and one bathroom and living room.   The living room, bathroom and kitchen are shared areas. You can chill out in the living room and watch many international and turkish channels and movie channels on the TV. You can also connect your external disk or computer to watch movie.  2 minutes walk leads you to the ferry ports, the bus stop ',\n",
       "  'generated_query': 'Cozy, sophisticated flat in Beşiktaş with three bedrooms, fully furnished kitchen, shared living room and bathroom, international TV channels, and peaceful atmosphere. Located just 2 minutes from the seaside, central market, cafes, restaurants, bars, and ferry ports in a lively yet quiet neighborhood.'},\n",
       " {'id': 20736951,\n",
       "  'name': 'Lucky House 2 Bed Rooms, 5 mins to MTR',\n",
       "  'description': 'Newly renovated, located at the center of Mong Kok, next to the famous Lanham Shopping Arcarde, close to Lady\\'s Street and \"Sneakers Street\", downstairs to quality restaurants ,3min to Mongkok MTR Station. 4min to Yau Ma Tei MTR Station The whole apartment Anytime',\n",
       "  'generated_query': \"Modern renovated apartment in Mong Kok center near Lanham Shopping Arcade, Lady's Street, Sneakers Street, with access to quality restaurants, just 3 minutes to Mongkok MTR and 4 minutes to Yau Ma Tei MTR, perfect for exploring vibrant shopping and dining options anytime.\"},\n",
       " {'id': 21934440,\n",
       "  'name': 'Suitable and centric apartment at Milton Park',\n",
       "  'description': \"One-bedroom loft apartment located just one minute walk from Saint Laurent Boulevard. The balcony gives way to beautiful views up to the Plateau area. You will be just 5 minutes walking from Quartier des Spectacles and 10 minutes to Mont Royal Park. It is a perfect place for a couple, business travelers and up to 4 people to stay comfortably. It is a one bedroom unit, with a sofa-bed located in the living area. The dining area has four chairs. The kitchen is full equipped and the apartment has everything you need for a cozy escape amidst the hustle of the city. You'll have access to the entire apartment. I am always available if you wish to contact me via email or over the phone. Well located to go everywhere walking. Downtown is just 15 minutes walking and metro stations (Sherbrooke) is also 10 minutes away giving you a beautiful walk through one of the most beautiful architectural houses of the Plateau area (Saint-Louis Square). Grocery stores and plenty of restaurants are accessible\",\n",
       "  'generated_query': \"Confortable loft d'une chambre avec balcon offrant une vue sur le Plateau, proche de Saint Laurent, Quartier des Spectacles et Mont Royal, idéal pour couple ou petits groupes, avec cuisine entièrement équipée, accessible à pied du centre-ville, parfait pour découvrir Montréal.\"},\n",
       " {'id': 19981877,\n",
       "  'name': 'Private room (bright and clean) Manhattan NYC',\n",
       "  'description': 'Private Room designed to replicate an industrial style with exposed brick, hard wood floors and metal suspended storage space. The room contains full size memory foam mattress (6\" very comfortable, value $600), desk, dresser and clothes hangers. Upon arrival every guest will be provided with new linen bed sheets, mattress pad, pillows and towels. The room will have been cleaned and disinfected prior to the arrival day. Fully furnished room in a private brownstone. Building full renovated, everything new left only the 1900 original bricks. The bedroom has plenty of shelves and storage space, dresser vinyl and metal suspended from the floor, industrial kitchen well equipped, free 100 mbps internet. Full bathroom to share with one roommate, kitchen and eating area to share with three roommates. Full assistance from me in my brownstone. The building is conveniently located within historic neighborhood of East Harlem. There is plenty to do and see. There is food from many different cultures',\n",
       "  'generated_query': 'Private industrial-style room in a fully renovated brownstone with exposed bricks, hardwood floors, metal storage, comfortable memory foam mattress, shared full bathroom and well-equipped kitchen, high-speed internet, located in vibrant East Harlem with diverse food and cultural attractions.'},\n",
       " {'id': 10141950,\n",
       "  'name': 'Big, Bright & Convenient Sheung Wan',\n",
       "  'description': 'Hollywood Rd Studio Only 1 apartment per floor 650sqft! Fast Wifi and Kitchen! Daily Housekeeping! NEAR 3min walk from MTR 3min walk from Escalators 5min walk from LKF (Please note I live here so some belongings kept in wardrobe) Huge Luxury Studio Serviced Apartment 650sqm! That means daily house keeping and all Amendities! I will be on a holiday trip, but you can access me through email and I can call you if you have any issues LKF Escalators IFC Mall SOHO food Wellington St Food! 3 minutes walk from MTR station I actually live in the studio, so my belongings will be in a wardrobe space',\n",
       "  'generated_query': 'Luxury studio apartment with 650 sqft, fast WiFi, fully equipped kitchen, daily housekeeping, close to MTR, escalators, LKF, IFC Mall, SOHO food, and Wellington Street, with only one apartment per floor for privacy and convenience.'},\n",
       " {'id': 21946009,\n",
       "  'name': 'Mid Century Modern Guesthouse with Pool and Views!',\n",
       "  'description': \"Newly Renovated Mid Century Modern Guesthouse with a Pool and Hot tub. Two beds in a spacious studio with small sitting area, table, wifi, and refrigerator. Only a short walk to Honoli`i Beach park along a historic road past waterfalls and lush tropical vegetation. Just 3 miles north of Hilo with ocean views. The guesthouse is adjacent to our mainhouse and we are happy to fill you in on Hawaii Island's best adventures. Our home is located in Paukaa which three miles away from downtown Hilo. There are several nice restaurants, a farmers market, museums and cultural landmarks in Hilo town. Guest have access to the swimming pool and deck. They are also access to the hot tub and large fenced yard. We are available by phone, text, email and if we are at home guests are welcome to knock on our door. Quiet neighborhood and walking distance to Honolii county beach park. Best to have a car because of limited public transportation and minimal bike lanes. There is a small refrigerator in the pool\",\n",
       "  'generated_query': 'Comfortable renovated mid-century modern guesthouse with ocean views, a pool, hot tub, and spacious studio with Wi-Fi, refrigerator, and sitting area, located near Honoli`i Beach park, waterfalls, and lush tropical scenery, just 3 miles from downtown Hilo in a quiet neighborhood.'},\n",
       " {'id': 23892039,\n",
       "  'name': 'COME INN 2인실B(1더블침대) 침사취이역B1에서 5분거리, 한국어 영어 중국어가능',\n",
       "  'description': '룸에 창문이 있어괘적합니다. tv,무선인터넷  기본 필수품 준비되어 있습니다 숙소바로 뒷편에 구룡의 랑콰이펑이라고 하는 거리가 있어 하루 여행의 피로를 확 날려 버릴수 있습니다 There is a window in the room and it makes the room pleasant. TV, wireless internet and basic necessities are ready in the room. Right behind our accommodation, there is a street called Kowloon’s Lan Kwai Fong and you can relieve the fatigue of your day trip. 房间里有窗户,所以很舒适｡室内已准备好电视､无线网络以及基本必需品｡ 在宿舍后边有一条路叫做九龙的兰桂坊,您可以消除一天旅程的疲劳｡ 한국직원이 상주 하고 있어 연락하시면 언제나 친절히 안내 해 드립니다. 모든 룸에 창문이 있어 쾌적합니다. 차와 식수는 항상 준비되어 있어 언제든지 모님커피와 차를 드실수 있습니다. 구룡공원과,넛츠포드테라스가 숙소 바로 근처에 있어 아침 운동하기에 좋은 위치 입니다. Korean staffs are always in residence, so if you need any help, you will always be more than welcome to contact us. We will always happy to help you. All the rooms are pleasant with a window inside. Tea and water are always available, so you can have a morning coffee or tea anytime. There are Kowloon Park and Knutsford Terrace nearby the accommodation. It’s a good place to exercise in the morning. 我们有常住的韩国职员,所以您需要帮忙的话,我们',\n",
       "  'generated_query': '창문이 있는 쾌적한 객실에서 TV와 무선인터넷이 제공되며, 구룡의 랑콰이펑 거리와 구룡공원, 넛츠포드테라스 근처에 위치한 숙소를 찾는 여행객을 위한 숙소'},\n",
       " {'id': 12317903,\n",
       "  'name': 'Newly Renovated Studio Midtown East',\n",
       "  'description': 'This furnished apartment is a stunning, newly renovated, private and luxurious, studio apartment in the heart of Manhattan. Residential, safe block that is VERY close to all! Fully furnished apartment, with everything one might need! This furnished apartment  is a stunning, newly renovated, private and luxurious, studio apartment in the heart of Manhattan. Residential, safe block that is VERY close to all! Fully furnished apartment, with everything one might need! Just 2 flights up! Please note that the apartment is a studio and has 1 very comfortable queen-size bed and one double size firm sofa bed. The apartment is practically brand-new as everything was completely renovated in 2016. No expense has been spared to make your stay enjoyable and comfortable. All new kitchen with stainless steel appliances including microwave. All new bathroom with rain shower. Hardwood floors, Queen size pillow top mattress, sofa bed for additional guests. Full cable TV w/ WiFi and universal smartphone-t',\n",
       "  'generated_query': 'Furnished luxury studio apartment in the heart of Manhattan on a safe, residential block, featuring a queen-size pillow top bed, double sofa bed, fully equipped kitchen with stainless steel appliances, rain shower bathroom, hardwood floors, WiFi, cable TV, and just two flights up.'},\n",
       " {'id': 21583732,\n",
       "  'name': 'Spacious Room close to the Station and Sydney CBD',\n",
       "  'description': 'Our apartment is a renovated 2 bedroom apartment in a leafy and bright suburb. We have opened up our second bedroom for guests to stay and experience Sydney and the local area. Our accommodation is perfect for those coming to Sydney for business as well as local or international travellers. We are a young professional couple so happy to provide advice on what to do and see in the local area. You will have exclusive use of a large double bedroom in our spacious 2 bedroom apartment. The renovated apartment has all of the necessities including a full kitchen, laundry, 2 bathrooms and connected living room and dining room.  We will supply what we can to make your stay as comfortable as possible! The guest will have access through our front door as well as an access through a sliding door onto the patio. We are quite social hosts so would love to share a drink with you, however, we also want to provide you your own space. Artarmon is a central suburb only 10 kms from Sydney city. Our apartm',\n",
       "  'generated_query': 'Spacious renovated 2-bedroom apartment in leafy Artarmon, close to Sydney city, with a full kitchen, laundry, 2 bathrooms, private large double bedroom, access to patio, and friendly hosts offering local advice, perfect for business travelers and tourists seeking comfort and privacy.'},\n",
       " {'id': 17734475,\n",
       "  'name': 'Romantic Studio at the Wine Cellars',\n",
       "  'description': 'Did you know that on the Douro lie the famous Port Wine cellars? Surrounded by cellars and the river, Casa Flores is a XIX century comfortable building recently renovated. With a simple romantic setting, this second floor offers a confortable and cozy atmosphere, ideal for couples. We welcome the world at Casa Flores! This studio at Casa Flores is situated in a second floor with no elevador, but this small effort will be rewarded by the confortable and cozy setting it offers. Living and Sleeping area Double bed (140X190) Maple Coffe table Luggage storage Cable TV Free Wi-Fi  Kitchenette Induction cooker Fridge Microwave oven Electric Kettle Toaster Table and seats Tableware, cutlery, pots and pans WC Shower Hair dryer  This is not a suitable studio for people with reduced mobility. Around Casa Flores good wine, good food, the most traditional products and all the essentials, the best view, the romantic walks and the main touristic landmarks are guaranteed. Still it is also a quiet resi',\n",
       "  'generated_query': 'Cozy studio in a historic XIX century building near Douro River with a kitchenette, double bed, cable TV, free Wi-Fi, and charming romantic atmosphere, ideal for couples seeking a peaceful stay surrounded by Port Wine cellars, scenic views, good food, and local attractions.'},\n",
       " {'id': 32745518,\n",
       "  'name': '1BD Ocean Front at Mana Kai Maui',\n",
       "  'description': \"Swim, lounge, and snorkel at FABULOUS Mana Kai Maui Resort—the jewel at the end of one of Maui's BEST beaches. The Mana Kai Maui Resort uniquely offers all the advantages of a condo vacation, but with the added amenities of a resort hotel. The Mana Kai Maui Resort has been a guest favorite condo property in South Maui for decades. The property is so highly praised because of its superb location at the start of Keawakapu Beach. The white sand beach stretches for over a mile, right into Wailea, ending in front of the high-end Andaz Resort. Guests can choose to walk along the great beach, catch some rays, or snorkel right in front of the property (where turtles are often spotted). Besides the beachfront location, guests will enjoy a slew of on-site amenities. For starters, the private beachfront pool is a great option for taking a refreshing dip while you still enjoy views of ocean and beachgoers. The ground floor open-air restaurant overlooking Keawakapu Beach enjoys views that are just \",\n",
       "  'generated_query': 'Beachfront condo at Mana Kai Maui Resort with access to a private pool, snorkeling with turtles, stunning ocean views, and direct beach access on Keawakapu Beach, perfect for lounging, swimming, and enjoying Maui’s beautiful white sand beach and resort amenities.'},\n",
       " {'id': 13298973,\n",
       "  'name': 'Cobertura com lazer -  Olimpíadas',\n",
       "  'description': 'Meu espaço é perto de proximo aos parque olímpico. Você vai amar meu espaço por causa de o aconchego. Meu espaço é bom para casais, viajantes de negócios e famílias (com crianças).',\n",
       "  'generated_query': 'Confortável espaço perto do Parque Olímpico, ideal para casais, famílias com crianças e viajantes de negócios, com ambiente aconchegante e acolhedor, perfeito para uma estadia agradável próximo às atrações do parque.'},\n",
       " {'id': 1070322,\n",
       "  'name': 'Triple room Barcelona Guell park',\n",
       "  'description': 'Private room in damily home I own another double room also mentioned on this web room with three beds, one high triple room in an attic (family\\'s home) in the popular district of Gracia Rooms have a small area with fridge and microwave Sunny apartment next to a nice park. Five minutes from the metro station \"Lesseps\" two minutes and buses to anywhere in the city. Bathroom (two rooms share the bathroom)  The room has bed linen and towels guests. FREE WIFI Possible airport pickup. The area is populated by artists and bohemian crowd. It has charming squares around the neighborhood, diversity of races and has a large concentration of international restaurants. Located on the \"Passeig de Gracia\" The Plaça de Sol is the best known of this neighborhood. It\\'s full of cafes, terraces and evening is the place that people choose to go out for a drink. The ideal place to feel at home In the month of AUGUST the neighborhood (Formerly \"Vila de Gràcia\") celebrates its festival, famous for its ornate ',\n",
       "  'generated_query': 'Private room in a family home in Gracia with shared bathroom, small fridge and microwave, sunny apartment near a park, vibrant bohemian neighborhood with international restaurants, lively squares, and close to Lesseps metro station, ideal for exploring Barcelona.'},\n",
       " {'id': 2298271,\n",
       "  'name': 'Apartment IN COPACABANA',\n",
       "  'description': 'Minimun stay: 1 week (7 days) Daily rate: 350 U.S Dollars - 700 Reais Estadia mínima: 1 semana (7 dias) Located in a calm residential neighborhood, one block away from copacabana beach, close to the subway and away frow any slum or favela. ',\n",
       "  'generated_query': 'Stay in a peaceful residential area near Copacabana Beach, with easy subway access, minimum 7-day stay, daily rate around $350, and a safe neighborhood away from slums or favelas.'},\n",
       " {'id': 32436791,\n",
       "  'name': '走路3分钟过关香港罗湖口岸100米两房一厅楼下双地铁口',\n",
       "  'description': '房子交通特别便利,就在罗湖口岸隔壁,步行5分钟,就可以到罗湖口岸过关到香港｡离罗湖口岸有多近呢,就是从住处步行150米到罗湖地铁站E2出口,进入罗湖地铁站,罗湖地铁站A出口出来,就是过关大厅了｡就这么近关口!! 楼下有双地铁口,距离住处20米就是人民南站D出口｡步行150米就是罗湖地铁站E2出口｡如果你来旅行,到深圳湾公园､红树林公园可人民南地铁站直接到达｡世界之窗､欢乐谷､kkmall和万象城可罗湖地铁站直达｡国贸和东门就在附近1公里内,可以摩拜过去或打的不跳表,金光华广场和佳宁娜广场可以步行过去｡这个交通方便太无敌了! 房间从色调到灯饰到所有细小的装扮装饰都是一一挑选的,和平台展示图片一模一样,这套房子主打蓝色色调,装饰粉色的家具,营造一个温馨的家庭环境｡里面的设施设备都是全新的,提供简单厨具可以做简餐,洗漱用品都是全新的五星级酒店一次性高档套装(提供毛巾)｡ 重点强调一下房间卫生,房东找了一个有洁癖和强迫症的阿姨搞卫生,要求每次一定要搞至少1个半小时卫生,床上用品都是精心挑选超舒适的,最重要的是保证一客一换,一客一换! 房间从色调到灯饰到所有细小的装扮装饰都是一一挑选的,这套房子主打蓝色色调,装饰粉色的家具,营造一个温馨的家庭环境｡ 还有就是里面的设施设备都是全新的,提供简单厨具可以做简餐,洗漱用品都是全新的五星级酒店一次性高档套装(提供压缩毛巾),我还找了一个有洁癖和强迫症的阿姨搞卫生,要求每次一定要搞1个半小时最少,床上用品都是全新高档精心挑选的,保证一客一换的,其实说到底我就想强调我的房间卫生超好! 欢迎你的入住! 我不会出现在房间,会提前一天提供入住密码,由客人按照短信,输门锁密码自助入住｡ 周边是繁华的罗湖老区,吃喝玩一应俱全,可步行至金光华广场和佳宁娜广场,可摩拜5分钟到国贸,打的不跳表5分钟到东门 房子就在罗湖口岸隔壁,步行5分钟,就可以到罗湖口岸过关到香港｡离罗湖口岸有多近呢,就是从住处步行150米到罗湖地铁站E2出口,进入罗湖地铁站,罗湖地铁站A出口出来,就是过关大厅了｡ 楼下双地铁口,楼下20米就是人民南站D出口｡150米就是罗湖地铁站E2出口｡如果你来旅行,到深圳湾公园､红树林公园可人民南地铁站直接到达｡世界之窗､欢乐谷､kkmall和万象城可罗湖地铁站直达｡国贸和东门就在附近,可以摩拜过去或打的不跳表,金光华广场和佳宁娜广场可以步行过去',\n",
       "  'generated_query': '舒适温馨的蓝色调房间，配备全新设施和高档洗漱用品，步行150米到罗湖地铁站和罗湖口岸，交通便利，邻近深圳繁华商业区和景点，提供自助入住，卫生非常严格，适合商务和旅游出行。'},\n",
       " {'id': 15943568,\n",
       "  'name': 'Anthurium Alii Gardens Rainforest, Volcano',\n",
       "  'description': \"Park is open! Welcome to this Hawaiian paradise in the middle of a magical rainforest near Volcano Village, one mile away from the Hawaii Volcanoes National Park ! This is the place you have dreamed of among the Ohia Lehua trees and the hapu'u giant ferns. In an ambiance of another age, Anthurium Alii Gardens offers you all the comfort you need for your vacations. The third bedroom is in a separate smaller building and will be accessible on demand for reservations with 3 or more guests :) IN VOLCANO, 5 MINUTES FROM PARK ENTRANCE (not in Mountain View) Delightful : Hot tub in the heart of the rainforest ! My place is good for couples, solo adventurers, business travelers, and families (with kids). The full house is rented to our guests, up to 6. The whole property is yours to enjoy during your stay! :) Via Airbnb, email, text or phone. In the midst of the rainforest, surrounded by fern trees and ohia lehua often blooming trees, white and red anthuriums, roses, hibiscus and more. You can\",\n",
       "  'generated_query': 'Hawaiian rainforest retreat near Volcano Village with a hot tub, full house for up to 6 guests, a separate bedroom available for larger groups, surrounded by lush native trees and vibrant flowers, perfect for couples, families, and adventurers seeking a magical volcanic getaway'},\n",
       " {'id': 27366599,\n",
       "  'name': 'Sublime loft with private roof top @ Old Montreal',\n",
       "  'description': \"Amazing duplex with private roof top  Old Montreal will charme you  Great place for friends or family Breakfast included New HD tv Luxurious unit Situé en plein centre-ville , le quartier du vieux-montreal  saura vous charmer , tout près du fleuve saint-laurent  . Grand stationnement et entouré d'arbres matures et de plusieurs parcs, voici un vrai OASIS à deux pas du bourdonnement des festivals , restaurants et vieux montreal  6eme étage d'un immeuble légendaire (construit en 1870), rénové avec goût tout en conservant son cachet unique: murs de briques, planchers en bois , béton plafond et tuyaux apparents Cuisine complete , décoration épurée, plafonds hauts et plein de lumière naturelle. Internet Wi-Fi inclus. Peut héberger jusqu'à  6 personnes: Nouveau Lit queen dans la chambre + 2 matelas . Idéal pour une famille ou pour 2 couples. Situé dans une rue tranquille du quartier vieux-montreal , tout près de tous les services (supermarché, pharmacie) et d'un parc pour enfants. À 3 min du \",\n",
       "  'generated_query': 'Spacieux duplex avec toit-terrasse privé en plein cœur de Vieux-Montréal, décoration élégante avec murs de briques et plafonds hauts, cuisine complète, Wi-Fi inclus, idéal pour famille ou amis, à proximité des festivals, restaurants, parcs, et du fleuve Saint-Laurent.'},\n",
       " {'id': 30538139,\n",
       "  'name': 'Freshly renovated-3 bedroom-heart of MTL-parking!!',\n",
       "  'description': 'Come enjoy this fully renovated condo style 4 ½ unit, close to downtown Montreal with PARKING included. Can accommodate up to 6 guests. Includes 3 bedrooms, a sofa + TV, fully equipped kitchen and dining area, 1 bathroom, washer and dryer, WIFI, and USB outlets. Located 10 minutes from downtown Montreal, the unit is on the 3rd floor of a 6plex and was fully renovated and furnished in December 2018. It has all the basic amenities, lots of towels and linens, and will always be clean upon arrival. Located in one of the best areas in Montreal close to absolutely everything!!  No matter your reason for visiting Montreal come enjoy this condo style apartment in the Hochelaga-Maisonneuve district of Montreal ( 10 min from D-T and a 7 min walk to subway) suitable up to 6 people. Ideal for friends, couples, business and travelers. The space: Unit has been fully renovated and newly furnished in December 2018. The space is clean, bright and fully equipped. Everything is brand new. Whats included:',\n",
       "  'generated_query': 'Spacious fully renovated condo in Montreal with 3 bedrooms, fully equipped kitchen, WiFi, washer and dryer, parking included, close to downtown, in a vibrant neighborhood, suitable for up to 6 guests, modern furnishings, and convenient location near subway and attractions.'},\n",
       " {'id': 1459741,\n",
       "  'name': 'Loft au centre-ville de Montréal',\n",
       "  'description': 'Superbe loft au coeur de Montréal et de ses activités. Stationnement publique intérieur disponible à quelques mètres pour 20$ par jour ou 10$ apres 18h.',\n",
       "  'generated_query': 'Loft au cœur de Montréal avec accès à un stationnement public intérieur à proximité, idéal pour profiter de la ville, ses activités et son ambiance urbaine, avec options de stationnement abordables en journée et en soirée.'}]"
      ]
     },
     "execution_count": 76,
     "metadata": {},
     "output_type": "execute_result"
    }
   ],
   "source": [
    "random_properties_and_queries"
   ]
  },
  {
   "cell_type": "code",
   "execution_count": 77,
   "metadata": {},
   "outputs": [
    {
     "data": {
      "text/plain": [
       "['Modern 3-bedroom home in Hanalei with 2 bathrooms, spacious kitchen, wrap-around lanai for barbecues, central location near beaches, comfortable queen beds for six, and a stylish, private sanctuary to relax after beach days.',\n",
       " 'Cozy, sophisticated flat in Beşiktaş with three bedrooms, fully furnished kitchen, shared living room and bathroom, international TV channels, and peaceful atmosphere. Located just 2 minutes from the seaside, central market, cafes, restaurants, bars, and ferry ports in a lively yet quiet neighborhood.',\n",
       " \"Modern renovated apartment in Mong Kok center near Lanham Shopping Arcade, Lady's Street, Sneakers Street, with access to quality restaurants, just 3 minutes to Mongkok MTR and 4 minutes to Yau Ma Tei MTR, perfect for exploring vibrant shopping and dining options anytime.\",\n",
       " \"Confortable loft d'une chambre avec balcon offrant une vue sur le Plateau, proche de Saint Laurent, Quartier des Spectacles et Mont Royal, idéal pour couple ou petits groupes, avec cuisine entièrement équipée, accessible à pied du centre-ville, parfait pour découvrir Montréal.\",\n",
       " 'Private industrial-style room in a fully renovated brownstone with exposed bricks, hardwood floors, metal storage, comfortable memory foam mattress, shared full bathroom and well-equipped kitchen, high-speed internet, located in vibrant East Harlem with diverse food and cultural attractions.',\n",
       " 'Luxury studio apartment with 650 sqft, fast WiFi, fully equipped kitchen, daily housekeeping, close to MTR, escalators, LKF, IFC Mall, SOHO food, and Wellington Street, with only one apartment per floor for privacy and convenience.',\n",
       " 'Comfortable renovated mid-century modern guesthouse with ocean views, a pool, hot tub, and spacious studio with Wi-Fi, refrigerator, and sitting area, located near Honoli`i Beach park, waterfalls, and lush tropical scenery, just 3 miles from downtown Hilo in a quiet neighborhood.',\n",
       " '창문이 있는 쾌적한 객실에서 TV와 무선인터넷이 제공되며, 구룡의 랑콰이펑 거리와 구룡공원, 넛츠포드테라스 근처에 위치한 숙소를 찾는 여행객을 위한 숙소',\n",
       " 'Furnished luxury studio apartment in the heart of Manhattan on a safe, residential block, featuring a queen-size pillow top bed, double sofa bed, fully equipped kitchen with stainless steel appliances, rain shower bathroom, hardwood floors, WiFi, cable TV, and just two flights up.',\n",
       " 'Spacious renovated 2-bedroom apartment in leafy Artarmon, close to Sydney city, with a full kitchen, laundry, 2 bathrooms, private large double bedroom, access to patio, and friendly hosts offering local advice, perfect for business travelers and tourists seeking comfort and privacy.',\n",
       " 'Cozy studio in a historic XIX century building near Douro River with a kitchenette, double bed, cable TV, free Wi-Fi, and charming romantic atmosphere, ideal for couples seeking a peaceful stay surrounded by Port Wine cellars, scenic views, good food, and local attractions.',\n",
       " 'Beachfront condo at Mana Kai Maui Resort with access to a private pool, snorkeling with turtles, stunning ocean views, and direct beach access on Keawakapu Beach, perfect for lounging, swimming, and enjoying Maui’s beautiful white sand beach and resort amenities.',\n",
       " 'Confortável espaço perto do Parque Olímpico, ideal para casais, famílias com crianças e viajantes de negócios, com ambiente aconchegante e acolhedor, perfeito para uma estadia agradável próximo às atrações do parque.',\n",
       " 'Private room in a family home in Gracia with shared bathroom, small fridge and microwave, sunny apartment near a park, vibrant bohemian neighborhood with international restaurants, lively squares, and close to Lesseps metro station, ideal for exploring Barcelona.',\n",
       " 'Stay in a peaceful residential area near Copacabana Beach, with easy subway access, minimum 7-day stay, daily rate around $350, and a safe neighborhood away from slums or favelas.',\n",
       " '舒适温馨的蓝色调房间，配备全新设施和高档洗漱用品，步行150米到罗湖地铁站和罗湖口岸，交通便利，邻近深圳繁华商业区和景点，提供自助入住，卫生非常严格，适合商务和旅游出行。',\n",
       " 'Hawaiian rainforest retreat near Volcano Village with a hot tub, full house for up to 6 guests, a separate bedroom available for larger groups, surrounded by lush native trees and vibrant flowers, perfect for couples, families, and adventurers seeking a magical volcanic getaway',\n",
       " 'Spacieux duplex avec toit-terrasse privé en plein cœur de Vieux-Montréal, décoration élégante avec murs de briques et plafonds hauts, cuisine complète, Wi-Fi inclus, idéal pour famille ou amis, à proximité des festivals, restaurants, parcs, et du fleuve Saint-Laurent.',\n",
       " 'Spacious fully renovated condo in Montreal with 3 bedrooms, fully equipped kitchen, WiFi, washer and dryer, parking included, close to downtown, in a vibrant neighborhood, suitable for up to 6 guests, modern furnishings, and convenient location near subway and attractions.',\n",
       " 'Loft au cœur de Montréal avec accès à un stationnement public intérieur à proximité, idéal pour profiter de la ville, ses activités et son ambiance urbaine, avec options de stationnement abordables en journée et en soirée.']"
      ]
     },
     "execution_count": 77,
     "metadata": {},
     "output_type": "execute_result"
    }
   ],
   "source": [
    "sample_queries = [property['generated_query'] for property in random_properties_and_queries]\n",
    "sample_queries"
   ]
  },
  {
   "cell_type": "code",
   "execution_count": 78,
   "metadata": {},
   "outputs": [],
   "source": [
    "from typing import Optional\n",
    "from pydantic import BaseModel, Field\n",
    "from typing import List, Dict, Any\n",
    "from src.data_models import Address, ImageDescrib\n",
    "import pandas as pd \n",
    "from src.hybrid_search import *\n",
    "\n",
    "\n",
    "collection = get_collection()\n",
    "hybrid_searcher = HybridSearch(collection)\n",
    "\n",
    "\n",
    "class SearchResultItem(BaseModel):\n",
    "    id: int = Field(alias='_id')\n",
    "    name: str\n",
    "    accommodates: Optional[int] = None\n",
    "    address: Address\n",
    "    summary: Optional[str] = None\n",
    "    description: Optional[str] = None\n",
    "    neighborhood_overview: Optional[str] = None\n",
    "    notes: Optional[str] = None\n",
    "    images: ImageDescrib\n",
    "    search_score: Optional[float] = None\n",
    "    reviews: Optional[List[Dict[str, Any]]] = None"
   ]
  },
  {
   "cell_type": "markdown",
   "metadata": {},
   "source": [
    "### Retrive top 10 most similar listings from database for each property"
   ]
  },
  {
   "cell_type": "code",
   "execution_count": 79,
   "metadata": {},
   "outputs": [
    {
     "data": {
      "text/plain": [
       "0    This property is a (Phone number hidden by Air...\n",
       "1    Kick back on a sunny deck and see mountains in...\n",
       "2    Completely updated inside, this elegant and sp...\n",
       "3    This newly renovated contemporary modern home ...\n",
       "4    Tasteful Hawaiian decor makes this home away f...\n",
       "5    Newly remodeled! Gorgeous home with fully remo...\n",
       "6    \"Lani Beach House\" Aloha - Please do not reser...\n",
       "7    Located just steps away from breathtaking suns...\n",
       "8    ★ Mar 2-17 and Apr 8-11 are discounted to $454...\n",
       "9    Comfortable 3-bedroom air conditioned home on ...\n",
       "Name: description, dtype: object"
      ]
     },
     "execution_count": 79,
     "metadata": {},
     "output_type": "execute_result"
    }
   ],
   "source": [
    "retrieved_results = []\n",
    "for query in sample_queries:\n",
    "    results = hybrid_searcher.do_search(query)\n",
    "    search_results_models = [SearchResultItem(**result)  for result in results]\n",
    "    search_results_df = pd.DataFrame([item.model_dump() for item in search_results_models])\n",
    "    retrieved_results.append(search_results_df)\n",
    "\n",
    "    \n",
    "retrieved_results[0]['description']"
   ]
  },
  {
   "cell_type": "code",
   "execution_count": 80,
   "metadata": {},
   "outputs": [],
   "source": [
    "retrieved_ids = []\n",
    "for result in retrieved_results:\n",
    "    retrieved_ids.append(result['id'].tolist())"
   ]
  },
  {
   "cell_type": "markdown",
   "metadata": {},
   "source": [
    "### Check if random property ids are in the top k retrieved ids"
   ]
  },
  {
   "cell_type": "code",
   "execution_count": 81,
   "metadata": {},
   "outputs": [
    {
     "data": {
      "text/plain": [
       "[array([1, 1, 1, 1]),\n",
       " array([1, 1, 1, 1]),\n",
       " array([0, 0, 0, 0]),\n",
       " array([0, 0, 0, 0]),\n",
       " array([1, 1, 1, 1]),\n",
       " array([0, 0, 0, 0]),\n",
       " array([0, 0, 0, 0]),\n",
       " array([1, 1, 1, 1]),\n",
       " array([1, 1, 1, 1]),\n",
       " array([0, 0, 0, 0]),\n",
       " array([0, 0, 0, 0]),\n",
       " array([1, 1, 1, 1]),\n",
       " array([0, 0, 0, 0]),\n",
       " array([1, 1, 1, 1]),\n",
       " array([1, 1, 1, 1]),\n",
       " array([0, 0, 1, 1]),\n",
       " array([0, 1, 1, 1]),\n",
       " array([1, 1, 1, 1]),\n",
       " array([1, 1, 1, 1]),\n",
       " array([0, 0, 0, 0])]"
      ]
     },
     "execution_count": 81,
     "metadata": {},
     "output_type": "execute_result"
    }
   ],
   "source": [
    "top_k_positions = []\n",
    "for i in range(len(retrieved_ids)):\n",
    "    top_k_positions.append(check_top_k_positions(retrieved_ids[i], random_property_ids[i]))\n",
    "    \n",
    "top_k_positions"
   ]
  },
  {
   "cell_type": "code",
   "execution_count": 82,
   "metadata": {},
   "outputs": [
    {
     "data": {
      "text/plain": [
       "(0.5, 0.55, 0.6, 0.6)"
      ]
     },
     "execution_count": 82,
     "metadata": {},
     "output_type": "execute_result"
    }
   ],
   "source": [
    "# Convert top_k_positions list to DataFrame\n",
    "top_k_df = pd.DataFrame(top_k_positions, columns=['top_1', 'top_3', 'top_5', 'top_10'])\n",
    "top_1 = sum(top_k_df['top_1'].tolist())/len(top_k_df)\n",
    "top_3 = sum(top_k_df['top_3'].tolist())/len(top_k_df)\n",
    "top_5 = sum(top_k_df['top_5'].tolist())/len(top_k_df)\n",
    "top_10 = sum(top_k_df['top_10'].tolist())/len(top_k_df)\n",
    "\n",
    "top_1, top_3, top_5, top_10"
   ]
  },
  {
   "cell_type": "markdown",
   "metadata": {},
   "source": [
    "### Using Ragas to evaluate the response by LLM\n",
    "- Context Recall \n",
    "- Faithfulness\n",
    "- Factual correctness"
   ]
  },
  {
   "cell_type": "markdown",
   "metadata": {},
   "source": [
    "Context Recall measures how many of the relevant documents (or pieces of information) were successfully retrieved. It focuses on not missing important results. Higher recall means fewer relevant documents were left out. In short, recall is about not missing anything important. Since it is about not missing anything, calculating context recall always requires a reference to compare against."
   ]
  },
  {
   "cell_type": "markdown",
   "metadata": {},
   "source": [
    "The Faithfulness metric measures how factually consistent a response is with the retrieved context. It ranges from 0 to 1, with higher scores indicating better consistency."
   ]
  },
  {
   "cell_type": "markdown",
   "metadata": {},
   "source": [
    "FactualCorrectness is a metric class that evaluates the factual correctness of responses generated by a language model. It uses claim decomposition and natural language inference (NLI) to verify the claims made in the responses against reference texts."
   ]
  },
  {
   "cell_type": "code",
   "execution_count": 83,
   "metadata": {},
   "outputs": [],
   "source": [
    "expected_responses = []\n",
    "for i in range(len(sample_queries)):\n",
    "    expected_responses.append(random_properties[i]['description'])\n"
   ]
  },
  {
   "cell_type": "code",
   "execution_count": 84,
   "metadata": {},
   "outputs": [
    {
     "data": {
      "text/plain": [
       "['This property is a (Phone number hidden by Airbnb) square feet,  3 Bedroom, 2 bathroom accommodation located in Hanalei.  NEW LISTING! Beautiful home w/ lanai, central location & easy beach access! offers 3 Queen bed. It can host 6 people.  This accommodation features kitchen. Please see the description below or inquire for more details! Hale Kailea is a tastefully furnished modern home in historic Hanalei Bay! Its central location allows you to be in the center of it all, while still providing a private, comfortable sanctuary to recover from your time in the sun, sand, and sea.  Enjoy barbecuing on the shaded, wrap-around lanai and sharing a meal with your ohana (family and friends) around the custom dining table with seating for six. The open kitchen and cathedral ceiling in the living area allow you to entertain with ease. The bedrooms offer ample room for accommodating six people comfortably and each is equipped with a queen bed and the perfect balance of sunlight, shade, and airfl',\n",
       " 'Think of a space that is sophisticated, understated, comfortable and cosy, with wonderful objects from around the world and peaceful, very quiet yet very lively made with personality and soul. Please enjoy your stay in this relaxing and spacious flat in the heart of the charming and friendly neighborhood Beşiktaş.  Beşiktaş is a central, vibrant but not noisy neighborhood; 2 min walk from the central market and seaside, with a great selection of cafes, restaurants, bars, local shops. It is famous for its Fish Market during the day. This is a 70m2, fully furnished and fully equipped flat onentrance floor of a building. There are three bedrooms, one kitchen and one bathroom and living room.   The living room, bathroom and kitchen are shared areas. You can chill out in the living room and watch many international and turkish channels and movie channels on the TV. You can also connect your external disk or computer to watch movie.  2 minutes walk leads you to the ferry ports, the bus stop ',\n",
       " 'Rare spacious room for low price.  **This is not a shared room. Guest/s who booked will enjoy the room exclusively. The price is per person. however, if 2 person are staying, the price are discounted. See pricing for details. 3 Mins Walk to Mong Kok MTR station 3 Mins Walk to Mong Kok East station towards Shenzhen China.  Near Shopping Destination ( Sneaker City , Langham Place, Ladies Market, Sai Yeung Choi St., Flower Market, Gold fish Market, Fa yuen Market and Bird garden) Wifi Rented Pocket Wifi (optional) Available anytime for inquiry. The place is situated in the heart of Mong Kok (thus heart of HK), Guest have easy access to famous shopping , dining and recreational destination in Mong Kok Just below the property is  Fa Yuen Market  connecting to famous Flower Market, Yuen Po Street Bird Garden, Goldfish Market and Fa Hui Park.   3 Mins Walk to MTR Mong Kok Station 3 Mins Walk to KCR  Mong Kok East Station  3 Mins Walk to MOKO Mall 5 Mins walk to Famous Snicker City and Sai Yeu',\n",
       " \"Bel appartement lumineux avec 1 chambre, salon lumineux, grande cuisine équipée et terrasse avec BBQ Situé au coeur du Plateau Mont Royal, cet appartement, situé au 2eme étage, avec un plancher de bois franc, vous offre une cuisine équipée, une  chambre avec un lit double pour deux ou 4 personnes (sofa convertible confortable), un salon avec tv (Netflix et DVD uniquement). La cuisine donne accès à une terrasse ensoleillée. Meublé avec soin, tout est fourni, vous n’avez que vos bagages à emporter. Doté d’une entrée privée, il est proche de tout : - deux minutes de marche de l'animation du plateau (restaurants, boutiques, ...), du Parc Lafontaine et du Parc Laurier.  - 15 minutes de la station de métro du Mont-Royal, - Piste cyclable sur la rue Vous serez au cœur de ce que Montréal a de meilleur à offrir. Loge jusqu'à 4 personnes. Cuisine entièrement équipée, Internet, Netflix, BBQ Metro Mont royal et bus 97 arrêt Chabot Accès à la chambre, salon, cuisine, terrasse et salle de bain. Seul\",\n",
       " 'Private Room designed to replicate an industrial style with exposed brick, hard wood floors and metal suspended storage space. The room contains full size memory foam mattress (6\" very comfortable, value $600), desk, dresser and clothes hangers. Upon arrival every guest will be provided with new linen bed sheets, mattress pad, pillows and towels. The room will have been cleaned and disinfected prior to the arrival day. Fully furnished room in a private brownstone. Building full renovated, everything new left only the 1900 original bricks. The bedroom has plenty of shelves and storage space, dresser vinyl and metal suspended from the floor, industrial kitchen well equipped, free 100 mbps internet. Full bathroom to share with one roommate, kitchen and eating area to share with three roommates. Full assistance from me in my brownstone. The building is conveniently located within historic neighborhood of East Harlem. There is plenty to do and see. There is food from many different cultures',\n",
       " '☆ Clean, cozy, privacy & well-equipped with Private Toilet,Bathroom & Kitchen ☆ Double bed,  sofa bed and the floor mattress  in the studio room. Upto 4 guests ☆ Easy access to/from airport(bus A21), bus stop is  downstairs ☆ Washing machine, air-con, fridge, wardrobe, TV, water heater, kettle, adapter are provided ☆ Local food stalls and high end restaurants are around ☆ Right at Mong Kok central(2 min MTR),near entire shopping streets ☆ Elevator, 24 hrs Security (Note: I have 5 apartments on the same floor next to each other. If you want to book more than 1 unit, please let me know. Glad to assist you) You should choose my cute studio unit if your main preferences are: ☆Sightseeing ☆Restaurants ☆Shopping ☆Cleanliness ☆Privacy ☆Calm and Quiet ☆Cost effective Besides, I offer the following: ☆ Large queen size bed, a sofa bed and a floor mattress. Perfect for 3-4 persons ☆ Great view, high floor  ☆Studio with a sofa, wardrobe, TV, fridge etc. ☆ Independent kitchen area ☆ Faster WiFI ☆ W',\n",
       " 'Newly remodeled! Gorgeous home with fully remodeled master bedroom + bath. Guests rave about our \"perfect location\", \"mid-century modern decor\" and beautiful grounds. Located across the street from a quiet ocean beach perfect for sunsets, reading, and snorkeling! Ideal for two couples, you will enjoy the two homes + an expansive lanai for dining and entertainment. Upgraded technology including Internet connected TV, Speaker, and excellent Wifi. Guests love: - Mid Century Modern Main house: upgraded king bed, newly remodeled master bath, and full kitchen with granite counters - Authentic Hawaiian Guest House: Queen bed, full bath + kitchenette - Enormous lanai with lounge and dining area - Outdoor shower + gardens boasting flowers, palm, plumeria + fruit trees - Gorgeous Bali art - Bluetooth speaker - Internet connected TV -- LG Ultra HD SmartTV - Free Wifi - Just .3 miles from Kahalu\\'u Bay offering world class snorkeling + SUP + Surfing - On Site Laundry - Beautiful office within the m',\n",
       " '룸에 창문이 있어괘적합니다. tv,무선인터넷  기본 필수품 준비되어 있습니다 숙소바로 뒷편에 구룡의 랑콰이펑이라고 하는 거리가 있어 하루 여행의 피로를 확 날려 버릴수 있습니다 There is a window in the room and it makes the room pleasant. TV, wireless internet and basic necessities are ready in the room. Right behind our accommodation, there is a street called Kowloon’s Lan Kwai Fong and you can relieve the fatigue of your day trip. 房间里有窗户,所以很舒适｡室内已准备好电视､无线网络以及基本必需品｡ 在宿舍后边有一条路叫做九龙的兰桂坊,您可以消除一天旅程的疲劳｡ 한국직원이 상주 하고 있어 연락하시면 언제나 친절히 안내 해 드립니다. 모든 룸에 창문이 있어 쾌적합니다. 차와 식수는 항상 준비되어 있어 언제든지 모님커피와 차를 드실수 있습니다. 구룡공원과,넛츠포드테라스가 숙소 바로 근처에 있어 아침 운동하기에 좋은 위치 입니다. Korean staffs are always in residence, so if you need any help, you will always be more than welcome to contact us. We will always happy to help you. All the rooms are pleasant with a window inside. Tea and water are always available, so you can have a morning coffee or tea anytime. There are Kowloon Park and Knutsford Terrace nearby the accommodation. It’s a good place to exercise in the morning. 我们有常住的韩国职员,所以您需要帮忙的话,我们',\n",
       " 'This furnished apartment is a stunning, newly renovated, private and luxurious, studio apartment in the heart of Manhattan. Residential, safe block that is VERY close to all! Fully furnished apartment, with everything one might need! This furnished apartment  is a stunning, newly renovated, private and luxurious, studio apartment in the heart of Manhattan. Residential, safe block that is VERY close to all! Fully furnished apartment, with everything one might need! Just 2 flights up! Please note that the apartment is a studio and has 1 very comfortable queen-size bed and one double size firm sofa bed. The apartment is practically brand-new as everything was completely renovated in 2016. No expense has been spared to make your stay enjoyable and comfortable. All new kitchen with stainless steel appliances including microwave. All new bathroom with rain shower. Hardwood floors, Queen size pillow top mattress, sofa bed for additional guests. Full cable TV w/ WiFi and universal smartphone-t',\n",
       " \"The apartment is ideally located in the heart of Sydney CBD, less than a block away from Hyde Park. It is beautiful one bedroom apartment, recently renovated, with a nice balcony to enjoy the city and rest under the sun.  The apartment is surrounded by great cafés, bars and restaurant, and extremely close to Sydney's attraction and landmarks. The beautiful and spacious apartment offers city hoppers and business travels the comfort they need to discover Sydney. The open plan kitchen and living area is modern and has artful details to make you feel home.  The stylish bedroom has a super comfy queen bed and fresh hotel quality linens are provided for your stay. The sparkling ensuite bathroom has a sleek, elegant design in keeping with the rest of the apartment. The apartment is within a communal block. Guests will have access to the entire apartment which includes separate bedroom from lounge during their stay. I will be contactable by email or telephone during your stay. TRANSPORTATION •\",\n",
       " 'Duplex apartment for 4 persons in the city center Recently renovated apartment with modern architecture in an old building, in the heart of Oporto, with the Douro River and the wine cellars of Porto on its feet. Upon arrival you will feel the comfort of a real home prepared specially for your needs. The apartment is located in an iconic building 2 min walk from the famous Ribeira with its restaurants, bars and boat trips, 2 min from the cathedral and 7 min from São Bento station. Property Type: duplex apartment Accommodation Type: self-catering Floor Area: 60 m² Location Type: waterfront city centre Theme: historic  family General: towels provided  activities guide  bottled water  local activities guide  toilet paper  linen provided  soap  paper towels  local maps Kitchen: fridge  freezer  microwave  spices  coffee maker  oven  toaster  cooking utensils  hob  4 ring stove  dishwasher Dining: dining area  seating for 4 people Bathrooms: 1 Bathroom  Bathroom - Bath with Shower, Toilet, B',\n",
       " \"Swim, lounge, and snorkel at FABULOUS Mana Kai Maui Resort—the jewel at the end of one of Maui's BEST beaches. The Mana Kai Maui Resort uniquely offers all the advantages of a condo vacation, but with the added amenities of a resort hotel. The Mana Kai Maui Resort has been a guest favorite condo property in South Maui for decades. The property is so highly praised because of its superb location at the start of Keawakapu Beach. The white sand beach stretches for over a mile, right into Wailea, ending in front of the high-end Andaz Resort. Guests can choose to walk along the great beach, catch some rays, or snorkel right in front of the property (where turtles are often spotted). Besides the beachfront location, guests will enjoy a slew of on-site amenities. For starters, the private beachfront pool is a great option for taking a refreshing dip while you still enjoy views of ocean and beachgoers. The ground floor open-air restaurant overlooking Keawakapu Beach enjoys views that are just \",\n",
       " 'Casa com excelente espaço, localizada no meio da natureza, próximo ao um dos acessos do Parque Estadual da Pedra Branca, que conta com cachoeiras e trilhas na Mata Atlântica e a 10 minutos de carro ou 35 minutos a pé do Parque Olímpico (3.5km) e 3 minutos de carro ou 12 minutos a pé da Vila Olímpica. A casa pricipal conta com 2 quartos com suíte, 2 salas, cozinha, 1 banheiro social e área de serviço.Também contamos com um anexo com 1 quarto com suíte. Os quartos poderão ser compartilhados! Nossa casa é ampla aconchegante e familiar , onde poderão se sentir seguros e terão nossa total atenção no que for necessário . A casa fica a 10 minutos de caminhada , e 5 de carro , do parque olímpico , Os hóspedes terão acesso a casa inteira , quintal e direito a usufruir todos os equipamentos da casa . Estaremos a sua disposição para orientá-los na sua estádia , dando todo o suporte necessário . Rua calma , familiar dentro de um bairro seguro e reservado Há transporte público para todos os bairros',\n",
       " 'Private room in damily home I own another double room also mentioned on this web room with three beds, one high triple room in an attic (family\\'s home) in the popular district of Gracia Rooms have a small area with fridge and microwave Sunny apartment next to a nice park. Five minutes from the metro station \"Lesseps\" two minutes and buses to anywhere in the city. Bathroom (two rooms share the bathroom)  The room has bed linen and towels guests. FREE WIFI Possible airport pickup. The area is populated by artists and bohemian crowd. It has charming squares around the neighborhood, diversity of races and has a large concentration of international restaurants. Located on the \"Passeig de Gracia\" The Plaça de Sol is the best known of this neighborhood. It\\'s full of cafes, terraces and evening is the place that people choose to go out for a drink. The ideal place to feel at home In the month of AUGUST the neighborhood (Formerly \"Vila de Gràcia\") celebrates its festival, famous for its ornate ',\n",
       " 'Minimun stay: 1 week (7 days) Daily rate: 350 U.S Dollars - 700 Reais Estadia mínima: 1 semana (7 dias) Located in a calm residential neighborhood, one block away from copacabana beach, close to the subway and away frow any slum or favela. ',\n",
       " '致尊敬的房客:      您好!我们系香蕉宿黑金厂精品民宿(身份证号:圈圈叉叉),由于我们配备了舒适的大床,超大屏投影,独特的灯光设计,网红ins风大浴缸,便利的地理位置,随手拈来的家居用品,等等…导致人群拥挤,交通拥堵,水管爆裂,花见花开,人见人爱,所以…请趁早订房｡   特此通知｡ 我们是一群爱折腾爱闹爱笑爱旅行爱生活的香蕉 (Website hidden by Airbnb) ---黑金厂民宿 ★1号线国贸站E出口,9号线人民南站C出口,均可步行5分钟即到｡ ★步行10分钟即到罗湖口岸｡ ★深圳高铁站/火车站步行10分钟即可到达,地铁5分钟｡ ★加厚桃皮绒1.8米大床床垫,舒适羽绒枕和羽绒被,贡缎面料六件套｡ ★24小时热水供应,一次性马桶座套､一次性浴缸套､浴帽､空调､热水壶､三角头充电器､驱蚊器｡ ★洗衣､烘干衣服务｡ ★在共享大厅配有大屏投影仪,世界各地旅行指南,全球攻略,全套地理国家杂志,各类型书籍,茶品｡ 我们线上24小时为您服务,线下有专门的管家为您提供服务与帮助｡ 地铁:1号线国贸站E出口,9号线人民南路C出口｡ 公交:建设路总站,人民南地铁站,罗湖小学 距离东门老街､深圳高铁/火车站步行10分钟即到｡',\n",
       " '2 store, 3000 sq.feet secluded house. - 4 bedrooms; - 3 bathrooms; -  4 living rooms, 2 of them with big screen TV and fireplace.  - additional couches and airbeds in living rooms for big groups. - two dining areas, one on a closed porch (lanai with gas grill) - full kitchen. - hot tub; - 3 acres fruite trees garden; - free parking, wi-fi, trip planning. I am a former micrichip engineer who now share my love of the Paradise (Island of Hawaii) with other people. My wife and me operate a B&B inspacious house (3000 sq.feet) on a slope of volcano (8 miles to Volcano National Park), surrounded by jungles of Fern Forest.  In the forest, far from noise and light pollution to enjoy the stars. 20 Minutes to Jagger museum, 35 minutes to beaches. Easy access to Hilo and Pahoa. Ideal for big groups 8-15 people. Private bedrooms for smaller groups (breakfast included for groups in private bedrooms (up to 8 people), Four bedrooms/three bathrooms in your possession. Four living rooms to put more airb',\n",
       " \"Amazing duplex with private roof top  Old Montreal will charme you  Great place for friends or family Breakfast included New HD tv Luxurious unit Situé en plein centre-ville , le quartier du vieux-montreal  saura vous charmer , tout près du fleuve saint-laurent  . Grand stationnement et entouré d'arbres matures et de plusieurs parcs, voici un vrai OASIS à deux pas du bourdonnement des festivals , restaurants et vieux montreal  6eme étage d'un immeuble légendaire (construit en 1870), rénové avec goût tout en conservant son cachet unique: murs de briques, planchers en bois , béton plafond et tuyaux apparents Cuisine complete , décoration épurée, plafonds hauts et plein de lumière naturelle. Internet Wi-Fi inclus. Peut héberger jusqu'à  6 personnes: Nouveau Lit queen dans la chambre + 2 matelas . Idéal pour une famille ou pour 2 couples. Situé dans une rue tranquille du quartier vieux-montreal , tout près de tous les services (supermarché, pharmacie) et d'un parc pour enfants. À 3 min du \",\n",
       " 'Come enjoy this fully renovated condo style 4 ½ unit, close to downtown Montreal with PARKING included. Can accommodate up to 6 guests. Includes 3 bedrooms, a sofa + TV, fully equipped kitchen and dining area, 1 bathroom, washer and dryer, WIFI, and USB outlets. Located 10 minutes from downtown Montreal, the unit is on the 3rd floor of a 6plex and was fully renovated and furnished in December 2018. It has all the basic amenities, lots of towels and linens, and will always be clean upon arrival. Located in one of the best areas in Montreal close to absolutely everything!!  No matter your reason for visiting Montreal come enjoy this condo style apartment in the Hochelaga-Maisonneuve district of Montreal ( 10 min from D-T and a 7 min walk to subway) suitable up to 6 people. Ideal for friends, couples, business and travelers. The space: Unit has been fully renovated and newly furnished in December 2018. The space is clean, bright and fully equipped. Everything is brand new. Whats included:',\n",
       " \"Amazing loft in Old-Montreal you are in the heart of all the activities during this summer ! This cozy and beautiful appartment will be perfect for friends and family getaway Projector  TV Xbox one s Wine cellar  Netflix  Nespresso machine Business desk  And more ! Our amazing loft is perfectly located in the heart of montreal shopping/entertainment district. You'll enjoy access to amenities . The unit is fully-equipped with a kitchen, laundry, , high-speed wifi and tv cable  Enjoy peace and tranquility right in the heart of downtown in our loft  You'll have access to these features:  -2 queen size bed , 1 simple bed and 2 air mattresses -high-speed wifi -laundry -fully-equipped kitchen -tableware and cooking equipment -dining area -business station  -conveniently located near airport bus and metro (2 minute walk)  Located in the heart of downtown Montreal's shopping and entertainment district, you will find landmark bars and pubs at your doorstep on Rue saint-pierre  and old-Montreal \"]"
      ]
     },
     "execution_count": 84,
     "metadata": {},
     "output_type": "execute_result"
    }
   ],
   "source": [
    "top_1_retrieved_contexts = []\n",
    "top_1_retrieved_contexts = [retrieved_results[i]['description'][0] for i in range(len(retrieved_results))]\n",
    "top_1_retrieved_contexts\n"
   ]
  },
  {
   "cell_type": "code",
   "execution_count": 85,
   "metadata": {},
   "outputs": [],
   "source": [
    "def generate_response(query, context):      \n",
    "    prompt_template = ChatPromptTemplate.from_messages([\n",
    "                (\"system\", \"\"\"You are an Airbnb listing recommendation system. Please:\n",
    "                1. Respond in the same language as the user\n",
    "                2. If the user is asking for property recommendations:\n",
    "                   - Prioritize results with higher search scores\n",
    "                   - Include the Airbnb listing URL and image URL\n",
    "                   - Explain why you chose these properties\n",
    "                   - Highlight features that match the user's criteria\n",
    "                3. If the user has provided an image, consider visual similarity in your recommendations\n",
    "                4. Be friendly and helpful in your responses\n",
    "                5, answer the question in the same language as the query\"\"\"),\n",
    "                (\"human\", \"Answer this user query: {query} with the following context:\\n{context}\")\n",
    "            ])\n",
    "\n",
    "    formatted_messages = prompt_template.format_messages(query=query, context=context)\n",
    "    return rag_llm(formatted_messages)  "
   ]
  },
  {
   "cell_type": "code",
   "execution_count": 86,
   "metadata": {},
   "outputs": [],
   "source": [
    "dataset = []\n",
    "\n",
    "for query, reference, context in zip(sample_queries, expected_responses, top_1_retrieved_contexts):\n",
    "    response = generate_response(query, context)\n",
    "    dataset.append(\n",
    "        {\n",
    "            \"user_input\":query,\n",
    "            \"retrieved_contexts\": [context],\n",
    "            \"response\":response.content,\n",
    "            \"reference\":reference\n",
    "        }\n",
    "    )"
   ]
  },
  {
   "cell_type": "code",
   "execution_count": 87,
   "metadata": {},
   "outputs": [
    {
     "data": {
      "text/plain": [
       "[{'user_input': 'Modern 3-bedroom home in Hanalei with 2 bathrooms, spacious kitchen, wrap-around lanai for barbecues, central location near beaches, comfortable queen beds for six, and a stylish, private sanctuary to relax after beach days.',\n",
       "  'retrieved_contexts': ['This property is a (Phone number hidden by Airbnb) square feet,  3 Bedroom, 2 bathroom accommodation located in Hanalei.  NEW LISTING! Beautiful home w/ lanai, central location & easy beach access! offers 3 Queen bed. It can host 6 people.  This accommodation features kitchen. Please see the description below or inquire for more details! Hale Kailea is a tastefully furnished modern home in historic Hanalei Bay! Its central location allows you to be in the center of it all, while still providing a private, comfortable sanctuary to recover from your time in the sun, sand, and sea.  Enjoy barbecuing on the shaded, wrap-around lanai and sharing a meal with your ohana (family and friends) around the custom dining table with seating for six. The open kitchen and cathedral ceiling in the living area allow you to entertain with ease. The bedrooms offer ample room for accommodating six people comfortably and each is equipped with a queen bed and the perfect balance of sunlight, shade, and airfl'],\n",
       "  'response': '¡Hola! Basado en tu consulta, tengo una recomendación perfecta para ti en Hanalei. \\n\\n### **Hale Kailea**\\n- **Descripción**: Este es un hogar moderno de 3 habitaciones y 2 baños, ideal para disfrutar de unas vacaciones en la playa. Con un diseño elegante y una ubicación central, es perfecto para relajarte después de un día en la playa.\\n- **Características**:\\n  - **3 camas queen**: Acomoda cómodamente a 6 personas.\\n  - **Cocina espaciosa**: Ideal para preparar comidas y disfrutar de momentos en familia.\\n  - **Lanai envolvente**: Perfecto para barbacoas y comidas al aire libre.\\n  - **Ubicación central**: Fácil acceso a las playas y otras atracciones locales.\\n  - **Ambiente privado y acogedor**: Un refugio ideal para relajarte.\\n\\n#### **Enlace a la propiedad**: [Hale Kailea en Airbnb](https://www.airbnb.com/rooms/12345678)  \\n#### **Imagen de la propiedad**: ![Hale Kailea](https://a.airbnb.com/12345678.jpg)\\n\\nElegí esta propiedad porque cumple con todos tus criterios: es moderna, espaciosa y está perfectamente ubicada para disfrutar de la belleza de Hanalei. Además, el ambiente privado y acogedor te permitirá relajarte después de tus días en la playa. ¡Espero que te encante! Si necesitas más información, no dudes en preguntar.',\n",
       "  'reference': 'This property is a (Phone number hidden by Airbnb) square feet,  3 Bedroom, 2 bathroom accommodation located in Hanalei.  NEW LISTING! Beautiful home w/ lanai, central location & easy beach access! offers 3 Queen bed. It can host 6 people.  This accommodation features kitchen. Please see the description below or inquire for more details! Hale Kailea is a tastefully furnished modern home in historic Hanalei Bay! Its central location allows you to be in the center of it all, while still providing a private, comfortable sanctuary to recover from your time in the sun, sand, and sea.  Enjoy barbecuing on the shaded, wrap-around lanai and sharing a meal with your ohana (family and friends) around the custom dining table with seating for six. The open kitchen and cathedral ceiling in the living area allow you to entertain with ease. The bedrooms offer ample room for accommodating six people comfortably and each is equipped with a queen bed and the perfect balance of sunlight, shade, and airfl'},\n",
       " {'user_input': 'Cozy, sophisticated flat in Beşiktaş with three bedrooms, fully furnished kitchen, shared living room and bathroom, international TV channels, and peaceful atmosphere. Located just 2 minutes from the seaside, central market, cafes, restaurants, bars, and ferry ports in a lively yet quiet neighborhood.',\n",
       "  'retrieved_contexts': ['Think of a space that is sophisticated, understated, comfortable and cosy, with wonderful objects from around the world and peaceful, very quiet yet very lively made with personality and soul. Please enjoy your stay in this relaxing and spacious flat in the heart of the charming and friendly neighborhood Beşiktaş.  Beşiktaş is a central, vibrant but not noisy neighborhood; 2 min walk from the central market and seaside, with a great selection of cafes, restaurants, bars, local shops. It is famous for its Fish Market during the day. This is a 70m2, fully furnished and fully equipped flat onentrance floor of a building. There are three bedrooms, one kitchen and one bathroom and living room.   The living room, bathroom and kitchen are shared areas. You can chill out in the living room and watch many international and turkish channels and movie channels on the TV. You can also connect your external disk or computer to watch movie.  2 minutes walk leads you to the ferry ports, the bus stop '],\n",
       "  'response': 'Here are some great Airbnb listings that match your criteria for a cozy and sophisticated flat in Beşiktaş:\\n\\n1. **Charming 3-Bedroom Flat in Beşiktaş**\\n   - **URL:** [Charming 3-Bedroom Flat](https://www.airbnb.com/rooms/12345678)\\n   - **Image URL:** ![Charming 3-Bedroom Flat](https://a.airbnb.com/12345678.jpg)\\n   - **Why I chose this property:** This flat is beautifully decorated with a mix of modern and traditional elements, creating a cozy yet sophisticated atmosphere. It features three spacious bedrooms, a fully furnished kitchen, and a shared living room with international TV channels. The peaceful ambiance and proximity to the seaside and local markets make it an ideal choice for your stay.\\n\\n2. **Stylish Flat with Sea View in Beşiktaş**\\n   - **URL:** [Stylish Flat with Sea View](https://www.airbnb.com/rooms/23456789)\\n   - **Image URL:** ![Stylish Flat with Sea View](https://a.airbnb.com/23456789.jpg)\\n   - **Why I chose this property:** This stylish flat offers a serene environment with a lovely sea view. It has three bedrooms and a shared living space that is perfect for relaxing after a day of exploring. The location is just a short walk from the central market and ferry ports, making it convenient for your daily activities.\\n\\n3. **Elegant 3-Bedroom Apartment in the Heart of Beşiktaş**\\n   - **URL:** [Elegant 3-Bedroom Apartment](https://www.airbnb.com/rooms/34567890)\\n   - **Image URL:** ![Elegant 3-Bedroom Apartment](https://a.airbnb.com/34567890.jpg)\\n   - **Why I chose this property:** This apartment combines elegance with comfort, featuring unique decor from around the world. It has a fully equipped kitchen and a shared living room with access to international TV channels. The vibrant yet quiet neighborhood is perfect for enjoying local cafes and restaurants, all within a 2-minute walk.\\n\\nThese properties not only meet your requirements but also offer a unique charm that reflects the personality and soul of Beşiktaş. Enjoy your stay!',\n",
       "  'reference': 'Think of a space that is sophisticated, understated, comfortable and cosy, with wonderful objects from around the world and peaceful, very quiet yet very lively made with personality and soul. Please enjoy your stay in this relaxing and spacious flat in the heart of the charming and friendly neighborhood Beşiktaş.  Beşiktaş is a central, vibrant but not noisy neighborhood; 2 min walk from the central market and seaside, with a great selection of cafes, restaurants, bars, local shops. It is famous for its Fish Market during the day. This is a 70m2, fully furnished and fully equipped flat onentrance floor of a building. There are three bedrooms, one kitchen and one bathroom and living room.   The living room, bathroom and kitchen are shared areas. You can chill out in the living room and watch many international and turkish channels and movie channels on the TV. You can also connect your external disk or computer to watch movie.  2 minutes walk leads you to the ferry ports, the bus stop '},\n",
       " {'user_input': \"Modern renovated apartment in Mong Kok center near Lanham Shopping Arcade, Lady's Street, Sneakers Street, with access to quality restaurants, just 3 minutes to Mongkok MTR and 4 minutes to Yau Ma Tei MTR, perfect for exploring vibrant shopping and dining options anytime.\",\n",
       "  'retrieved_contexts': ['Rare spacious room for low price.  **This is not a shared room. Guest/s who booked will enjoy the room exclusively. The price is per person. however, if 2 person are staying, the price are discounted. See pricing for details. 3 Mins Walk to Mong Kok MTR station 3 Mins Walk to Mong Kok East station towards Shenzhen China.  Near Shopping Destination ( Sneaker City , Langham Place, Ladies Market, Sai Yeung Choi St., Flower Market, Gold fish Market, Fa yuen Market and Bird garden) Wifi Rented Pocket Wifi (optional) Available anytime for inquiry. The place is situated in the heart of Mong Kok (thus heart of HK), Guest have easy access to famous shopping , dining and recreational destination in Mong Kok Just below the property is  Fa Yuen Market  connecting to famous Flower Market, Yuen Po Street Bird Garden, Goldfish Market and Fa Hui Park.   3 Mins Walk to MTR Mong Kok Station 3 Mins Walk to KCR  Mong Kok East Station  3 Mins Walk to MOKO Mall 5 Mins walk to Famous Snicker City and Sai Yeu'],\n",
       "  'response': \"Here are some great Airbnb listings that match your criteria for a modern renovated apartment in the heart of Mong Kok, close to shopping and dining options:\\n\\n1. **Spacious Room in Mong Kok**\\n   - **URL**: [View Listing](https://www.airbnb.com/rooms/12345678)\\n   - **Image**: ![Spacious Room](https://a.airbnb.com/12345678.jpg)\\n   - **Why I Chose This Property**: This listing offers a rare spacious room at a low price, perfect for your needs. It is not a shared room, ensuring you have exclusive access. The location is just a 3-minute walk to Mong Kok MTR and close to various shopping destinations like Sneakers Street and Lady's Street. The property also provides easy access to quality restaurants and recreational areas.\\n\\n2. **Modern Apartment Near Shopping**\\n   - **URL**: [View Listing](https://www.airbnb.com/rooms/23456789)\\n   - **Image**: ![Modern Apartment](https://a.airbnb.com/23456789.jpg)\\n   - **Why I Chose This Property**: This modern apartment is newly renovated and located in the heart of Mong Kok. It’s just a few minutes from the MTR stations and surrounded by vibrant shopping areas. The apartment features a cozy atmosphere and is perfect for exploring the local dining scene.\\n\\n3. **Chic Studio in Mong Kok**\\n   - **URL**: [View Listing](https://www.airbnb.com/rooms/34567890)\\n   - **Image**: ![Chic Studio](https://a.airbnb.com/34567890.jpg)\\n   - **Why I Chose This Property**: This chic studio is designed for comfort and convenience, located near all the major shopping spots. It’s a short walk to both Mong Kok and Yau Ma Tei MTR stations, making it easy to explore the area. The studio is well-equipped and offers a great base for your adventures.\\n\\nThese properties are all highly rated and offer the amenities and location you’re looking for. Enjoy your stay in Mong Kok! If you have any more questions or need further assistance, feel free to ask!\",\n",
       "  'reference': 'Newly renovated, located at the center of Mong Kok, next to the famous Lanham Shopping Arcarde, close to Lady\\'s Street and \"Sneakers Street\", downstairs to quality restaurants ,3min to Mongkok MTR Station. 4min to Yau Ma Tei MTR Station The whole apartment Anytime'},\n",
       " {'user_input': \"Confortable loft d'une chambre avec balcon offrant une vue sur le Plateau, proche de Saint Laurent, Quartier des Spectacles et Mont Royal, idéal pour couple ou petits groupes, avec cuisine entièrement équipée, accessible à pied du centre-ville, parfait pour découvrir Montréal.\",\n",
       "  'retrieved_contexts': [\"Bel appartement lumineux avec 1 chambre, salon lumineux, grande cuisine équipée et terrasse avec BBQ Situé au coeur du Plateau Mont Royal, cet appartement, situé au 2eme étage, avec un plancher de bois franc, vous offre une cuisine équipée, une  chambre avec un lit double pour deux ou 4 personnes (sofa convertible confortable), un salon avec tv (Netflix et DVD uniquement). La cuisine donne accès à une terrasse ensoleillée. Meublé avec soin, tout est fourni, vous n’avez que vos bagages à emporter. Doté d’une entrée privée, il est proche de tout : - deux minutes de marche de l'animation du plateau (restaurants, boutiques, ...), du Parc Lafontaine et du Parc Laurier.  - 15 minutes de la station de métro du Mont-Royal, - Piste cyclable sur la rue Vous serez au cœur de ce que Montréal a de meilleur à offrir. Loge jusqu'à 4 personnes. Cuisine entièrement équipée, Internet, Netflix, BBQ Metro Mont royal et bus 97 arrêt Chabot Accès à la chambre, salon, cuisine, terrasse et salle de bain. Seul\"],\n",
       "  'response': \"Voici une recommandation qui correspond parfaitement à votre recherche d'un loft confortable d'une chambre avec balcon à Montréal :\\n\\n### Appartement lumineux au cœur du Plateau Mont Royal\\n- **URL de l'annonce** : [Airbnb Listing](https://www.airbnb.com/rooms/12345678) (exemple)\\n- **URL de l'image** : ![Image de l'appartement](https://www.example.com/image.jpg) (exemple)\\n\\n#### Pourquoi ce choix ?\\nCet appartement est idéal pour un couple ou un petit groupe, car il peut accueillir jusqu'à 4 personnes grâce à son lit double et son canapé convertible. Il est situé au cœur du Plateau Mont Royal, à proximité de Saint Laurent, du Quartier des Spectacles et du Mont Royal, ce qui en fait un emplacement parfait pour explorer la ville.\\n\\n#### Caractéristiques qui correspondent à vos critères :\\n- **Balcon avec vue** : Profitez d'une terrasse ensoleillée où vous pouvez vous détendre et admirer la vue.\\n- **Cuisine entièrement équipée** : Vous aurez tout ce dont vous avez besoin pour préparer vos repas.\\n- **Proximité des attractions** : À seulement deux minutes à pied de l'animation du Plateau, des restaurants et des boutiques, ainsi que des parcs Lafontaine et Laurier.\\n- **Accès facile au transport** : À 15 minutes de la station de métro Mont-Royal et à proximité des pistes cyclables.\\n\\nCet appartement est meublé avec soin et dispose de toutes les commodités nécessaires pour un séjour agréable. Vous n'aurez qu'à apporter vos bagages !\\n\\nN'hésitez pas à me faire savoir si vous avez besoin d'autres recommandations ou d'informations supplémentaires !\",\n",
       "  'reference': \"One-bedroom loft apartment located just one minute walk from Saint Laurent Boulevard. The balcony gives way to beautiful views up to the Plateau area. You will be just 5 minutes walking from Quartier des Spectacles and 10 minutes to Mont Royal Park. It is a perfect place for a couple, business travelers and up to 4 people to stay comfortably. It is a one bedroom unit, with a sofa-bed located in the living area. The dining area has four chairs. The kitchen is full equipped and the apartment has everything you need for a cozy escape amidst the hustle of the city. You'll have access to the entire apartment. I am always available if you wish to contact me via email or over the phone. Well located to go everywhere walking. Downtown is just 15 minutes walking and metro stations (Sherbrooke) is also 10 minutes away giving you a beautiful walk through one of the most beautiful architectural houses of the Plateau area (Saint-Louis Square). Grocery stores and plenty of restaurants are accessible\"},\n",
       " {'user_input': 'Private industrial-style room in a fully renovated brownstone with exposed bricks, hardwood floors, metal storage, comfortable memory foam mattress, shared full bathroom and well-equipped kitchen, high-speed internet, located in vibrant East Harlem with diverse food and cultural attractions.',\n",
       "  'retrieved_contexts': ['Private Room designed to replicate an industrial style with exposed brick, hard wood floors and metal suspended storage space. The room contains full size memory foam mattress (6\" very comfortable, value $600), desk, dresser and clothes hangers. Upon arrival every guest will be provided with new linen bed sheets, mattress pad, pillows and towels. The room will have been cleaned and disinfected prior to the arrival day. Fully furnished room in a private brownstone. Building full renovated, everything new left only the 1900 original bricks. The bedroom has plenty of shelves and storage space, dresser vinyl and metal suspended from the floor, industrial kitchen well equipped, free 100 mbps internet. Full bathroom to share with one roommate, kitchen and eating area to share with three roommates. Full assistance from me in my brownstone. The building is conveniently located within historic neighborhood of East Harlem. There is plenty to do and see. There is food from many different cultures'],\n",
       "  'response': '¡Hola! Aquí tienes una recomendación para una habitación privada que se ajusta a lo que buscas:\\n\\n### Habitación Privada Industrial en Brownstone Renovado\\n- **URL del listado**: [Ver habitación en Airbnb](https://www.airbnb.com/rooms/12345678)\\n- **URL de la imagen**: ![Imagen de la habitación](https://a.airbnb.com/room12345678.jpg)\\n\\n#### ¿Por qué elegí esta propiedad?\\nEsta habitación privada ha sido diseñada para replicar un estilo industrial, con ladrillos expuestos y pisos de madera, lo que coincide perfectamente con tus preferencias. Además, cuenta con un cómodo colchón de espuma viscoelástica, un escritorio y un espacio de almacenamiento metálico, lo que la hace funcional y acogedora.\\n\\n#### Características destacadas:\\n- **Colchón de alta calidad**: El colchón de 6\" es muy cómodo y tiene un valor de $600.\\n- **Limpieza y comodidad**: Se proporcionan sábanas, almohadas y toallas nuevas, y la habitación se limpia y desinfecta antes de cada llegada.\\n- **Espacio compartido**: Tendrás acceso a una cocina bien equipada y un baño completo que se comparte con solo un compañero de cuarto.\\n- **Conexión a Internet**: Disfruta de internet de alta velocidad (100 mbps) para trabajar o navegar.\\n- **Ubicación vibrante**: Situada en el histórico East Harlem, tendrás acceso a una variedad de opciones gastronómicas y culturales.\\n\\nEspero que esta recomendación te sea útil. Si necesitas más información o tienes alguna otra pregunta, ¡no dudes en preguntar!',\n",
       "  'reference': 'Private Room designed to replicate an industrial style with exposed brick, hard wood floors and metal suspended storage space. The room contains full size memory foam mattress (6\" very comfortable, value $600), desk, dresser and clothes hangers. Upon arrival every guest will be provided with new linen bed sheets, mattress pad, pillows and towels. The room will have been cleaned and disinfected prior to the arrival day. Fully furnished room in a private brownstone. Building full renovated, everything new left only the 1900 original bricks. The bedroom has plenty of shelves and storage space, dresser vinyl and metal suspended from the floor, industrial kitchen well equipped, free 100 mbps internet. Full bathroom to share with one roommate, kitchen and eating area to share with three roommates. Full assistance from me in my brownstone. The building is conveniently located within historic neighborhood of East Harlem. There is plenty to do and see. There is food from many different cultures'},\n",
       " {'user_input': 'Luxury studio apartment with 650 sqft, fast WiFi, fully equipped kitchen, daily housekeeping, close to MTR, escalators, LKF, IFC Mall, SOHO food, and Wellington Street, with only one apartment per floor for privacy and convenience.',\n",
       "  'retrieved_contexts': ['☆ Clean, cozy, privacy & well-equipped with Private Toilet,Bathroom & Kitchen ☆ Double bed,  sofa bed and the floor mattress  in the studio room. Upto 4 guests ☆ Easy access to/from airport(bus A21), bus stop is  downstairs ☆ Washing machine, air-con, fridge, wardrobe, TV, water heater, kettle, adapter are provided ☆ Local food stalls and high end restaurants are around ☆ Right at Mong Kok central(2 min MTR),near entire shopping streets ☆ Elevator, 24 hrs Security (Note: I have 5 apartments on the same floor next to each other. If you want to book more than 1 unit, please let me know. Glad to assist you) You should choose my cute studio unit if your main preferences are: ☆Sightseeing ☆Restaurants ☆Shopping ☆Cleanliness ☆Privacy ☆Calm and Quiet ☆Cost effective Besides, I offer the following: ☆ Large queen size bed, a sofa bed and a floor mattress. Perfect for 3-4 persons ☆ Great view, high floor  ☆Studio with a sofa, wardrobe, TV, fridge etc. ☆ Independent kitchen area ☆ Faster WiFI ☆ W'],\n",
       "  'response': 'Based on your request for a luxury studio apartment with specific features, I have found a couple of options that closely match your criteria. Here are my recommendations:\\n\\n### 1. **Luxury Studio in Central Location**\\n- **URL:** [Luxury Studio Apartment](https://www.airbnb.com/rooms/12345678)\\n- **Image:** ![Luxury Studio](https://a.airbnb.com/12345678.jpg)\\n\\n**Why I chose this property:**\\nThis studio apartment is designed for comfort and privacy, featuring only one apartment per floor. It offers a spacious layout of 650 sqft, ensuring you have plenty of room to relax. The apartment is equipped with fast WiFi, a fully equipped kitchen, and daily housekeeping, which aligns perfectly with your needs.\\n\\n**Key Features:**\\n- Located close to MTR, making transportation easy.\\n- Surrounded by local food stalls and high-end restaurants.\\n- Offers a clean and cozy environment with a private bathroom.\\n- Ideal for up to 4 guests with a double bed and sofa bed.\\n\\n---\\n\\n### 2. **Cozy Studio with Great Amenities**\\n- **URL:** [Cozy Studio Apartment](https://www.airbnb.com/rooms/87654321)\\n- **Image:** ![Cozy Studio](https://a.airbnb.com/87654321.jpg)\\n\\n**Why I chose this property:**\\nThis cozy studio is perfect for those who value privacy and convenience. With only one apartment per floor, you can enjoy a calm and quiet atmosphere. The studio is well-equipped with all the essentials, including a washing machine and air conditioning.\\n\\n**Key Features:**\\n- Fast WiFi and a fully equipped kitchen for your convenience.\\n- Located near shopping streets and popular dining areas.\\n- Offers a great view from a high floor, enhancing your stay experience.\\n- Suitable for 3-4 guests with ample sleeping arrangements.\\n\\nBoth options provide a blend of luxury, privacy, and convenience, making them ideal for your stay. If you have any further questions or need assistance with bookings, feel free to ask!',\n",
       "  'reference': 'Hollywood Rd Studio Only 1 apartment per floor 650sqft! Fast Wifi and Kitchen! Daily Housekeeping! NEAR 3min walk from MTR 3min walk from Escalators 5min walk from LKF (Please note I live here so some belongings kept in wardrobe) Huge Luxury Studio Serviced Apartment 650sqm! That means daily house keeping and all Amendities! I will be on a holiday trip, but you can access me through email and I can call you if you have any issues LKF Escalators IFC Mall SOHO food Wellington St Food! 3 minutes walk from MTR station I actually live in the studio, so my belongings will be in a wardrobe space'},\n",
       " {'user_input': 'Comfortable renovated mid-century modern guesthouse with ocean views, a pool, hot tub, and spacious studio with Wi-Fi, refrigerator, and sitting area, located near Honoli`i Beach park, waterfalls, and lush tropical scenery, just 3 miles from downtown Hilo in a quiet neighborhood.',\n",
       "  'retrieved_contexts': ['Newly remodeled! Gorgeous home with fully remodeled master bedroom + bath. Guests rave about our \"perfect location\", \"mid-century modern decor\" and beautiful grounds. Located across the street from a quiet ocean beach perfect for sunsets, reading, and snorkeling! Ideal for two couples, you will enjoy the two homes + an expansive lanai for dining and entertainment. Upgraded technology including Internet connected TV, Speaker, and excellent Wifi. Guests love: - Mid Century Modern Main house: upgraded king bed, newly remodeled master bath, and full kitchen with granite counters - Authentic Hawaiian Guest House: Queen bed, full bath + kitchenette - Enormous lanai with lounge and dining area - Outdoor shower + gardens boasting flowers, palm, plumeria + fruit trees - Gorgeous Bali art - Bluetooth speaker - Internet connected TV -- LG Ultra HD SmartTV - Free Wifi - Just .3 miles from Kahalu\\'u Bay offering world class snorkeling + SUP + Surfing - On Site Laundry - Beautiful office within the m'],\n",
       "  'response': \"Based on your request for a comfortable renovated mid-century modern guesthouse with ocean views and various amenities, I have found a couple of properties that closely match your criteria. Here are my top recommendations:\\n\\n### 1. **Mid-Century Modern Ocean View Retreat**\\n- **URL:** [View Listing](https://www.airbnb.com/rooms/12345678)\\n- **Image:** ![Mid-Century Modern Ocean View Retreat](https://a.airbnb.com/12345678.jpg)\\n\\n**Why I chose this property:**\\nThis guesthouse has been recently remodeled and features stunning ocean views, making it perfect for enjoying sunsets. The mid-century modern decor aligns with your preference, and it includes a spacious studio with a sitting area, Wi-Fi, and a refrigerator. Guests have praised the location for its proximity to Honoli`i Beach Park and the lush tropical scenery.\\n\\n**Key Features:**\\n- Ocean views and a quiet neighborhood\\n- Pool and hot tub available\\n- Spacious studio with modern amenities\\n- Close to waterfalls and nature trails\\n\\n---\\n\\n### 2. **Tropical Oasis with Modern Amenities**\\n- **URL:** [View Listing](https://www.airbnb.com/rooms/87654321)\\n- **Image:** ![Tropical Oasis with Modern Amenities](https://a.airbnb.com/87654321.jpg)\\n\\n**Why I chose this property:**\\nThis property is a beautifully remodeled home that offers a perfect blend of modern comfort and mid-century charm. It features an expansive lanai for dining and entertainment, which is ideal for relaxing after a day of exploring. The location is just a short distance from Kahalu'u Bay, known for its world-class snorkeling.\\n\\n**Key Features:**\\n- Newly remodeled master bedroom and bath\\n- Full kitchen with granite counters\\n- Outdoor shower and lush gardens\\n- Excellent Wi-Fi and upgraded technology\\n\\nBoth of these properties offer a unique blend of comfort, style, and location that I believe you will enjoy. If you have any further questions or need more options, feel free to ask!\",\n",
       "  'reference': \"Newly Renovated Mid Century Modern Guesthouse with a Pool and Hot tub. Two beds in a spacious studio with small sitting area, table, wifi, and refrigerator. Only a short walk to Honoli`i Beach park along a historic road past waterfalls and lush tropical vegetation. Just 3 miles north of Hilo with ocean views. The guesthouse is adjacent to our mainhouse and we are happy to fill you in on Hawaii Island's best adventures. Our home is located in Paukaa which three miles away from downtown Hilo. There are several nice restaurants, a farmers market, museums and cultural landmarks in Hilo town. Guest have access to the swimming pool and deck. They are also access to the hot tub and large fenced yard. We are available by phone, text, email and if we are at home guests are welcome to knock on our door. Quiet neighborhood and walking distance to Honolii county beach park. Best to have a car because of limited public transportation and minimal bike lanes. There is a small refrigerator in the pool\"},\n",
       " {'user_input': '창문이 있는 쾌적한 객실에서 TV와 무선인터넷이 제공되며, 구룡의 랑콰이펑 거리와 구룡공원, 넛츠포드테라스 근처에 위치한 숙소를 찾는 여행객을 위한 숙소',\n",
       "  'retrieved_contexts': ['룸에 창문이 있어괘적합니다. tv,무선인터넷  기본 필수품 준비되어 있습니다 숙소바로 뒷편에 구룡의 랑콰이펑이라고 하는 거리가 있어 하루 여행의 피로를 확 날려 버릴수 있습니다 There is a window in the room and it makes the room pleasant. TV, wireless internet and basic necessities are ready in the room. Right behind our accommodation, there is a street called Kowloon’s Lan Kwai Fong and you can relieve the fatigue of your day trip. 房间里有窗户,所以很舒适｡室内已准备好电视､无线网络以及基本必需品｡ 在宿舍后边有一条路叫做九龙的兰桂坊,您可以消除一天旅程的疲劳｡ 한국직원이 상주 하고 있어 연락하시면 언제나 친절히 안내 해 드립니다. 모든 룸에 창문이 있어 쾌적합니다. 차와 식수는 항상 준비되어 있어 언제든지 모님커피와 차를 드실수 있습니다. 구룡공원과,넛츠포드테라스가 숙소 바로 근처에 있어 아침 운동하기에 좋은 위치 입니다. Korean staffs are always in residence, so if you need any help, you will always be more than welcome to contact us. We will always happy to help you. All the rooms are pleasant with a window inside. Tea and water are always available, so you can have a morning coffee or tea anytime. There are Kowloon Park and Knutsford Terrace nearby the accommodation. It’s a good place to exercise in the morning. 我们有常住的韩国职员,所以您需要帮忙的话,我们'],\n",
       "  'response': '안녕하세요! 요청하신 조건에 맞는 숙소를 추천해 드리겠습니다. 아래의 숙소들은 모두 창문이 있는 쾌적한 객실을 제공하며, TV와 무선 인터넷이 구비되어 있습니다. 또한 구룡의 랑콰이펑 거리, 구룡공원, 넛츠포드테라스와 가까운 위치에 있습니다.\\n\\n1. **Kowloon Cozy Room**\\n   - **URL**: [Kowloon Cozy Room](https://www.airbnb.com/rooms/12345678)\\n   - **이미지**: ![Kowloon Cozy Room](https://a.airbnb.com/room/12345678/photo.jpg)\\n   - **이유**: 이 숙소는 창문이 있어 자연광이 잘 들어오며, TV와 무선 인터넷이 제공됩니다. 랑콰이펑 거리와 가까워 저녁에 나가서 즐기기 좋습니다. 구룡공원도 도보로 이동할 수 있어 아침 운동하기에 최적입니다.\\n\\n2. **Comfortable Room in Kowloon**\\n   - **URL**: [Comfortable Room in Kowloon](https://www.airbnb.com/rooms/23456789)\\n   - **이미지**: ![Comfortable Room in Kowloon](https://a.airbnb.com/room/23456789/photo.jpg)\\n   - **이유**: 이 숙소는 쾌적한 환경을 제공하며, 모든 기본 시설이 갖춰져 있습니다. 랑콰이펑 거리와의 근접성 덕분에 다양한 식사 옵션과 즐길 거리가 많습니다. 또한, 구룡공원과 넛츠포드테라스가 가까워 아침 산책하기에 좋습니다.\\n\\n이 두 숙소는 모두 높은 검색 점수를 가지고 있어 여행객들에게 인기가 많습니다. 편안한 숙소에서 즐거운 여행 되시길 바랍니다! 추가적인 질문이 있으시면 언제든지 말씀해 주세요.',\n",
       "  'reference': '룸에 창문이 있어괘적합니다. tv,무선인터넷  기본 필수품 준비되어 있습니다 숙소바로 뒷편에 구룡의 랑콰이펑이라고 하는 거리가 있어 하루 여행의 피로를 확 날려 버릴수 있습니다 There is a window in the room and it makes the room pleasant. TV, wireless internet and basic necessities are ready in the room. Right behind our accommodation, there is a street called Kowloon’s Lan Kwai Fong and you can relieve the fatigue of your day trip. 房间里有窗户,所以很舒适｡室内已准备好电视､无线网络以及基本必需品｡ 在宿舍后边有一条路叫做九龙的兰桂坊,您可以消除一天旅程的疲劳｡ 한국직원이 상주 하고 있어 연락하시면 언제나 친절히 안내 해 드립니다. 모든 룸에 창문이 있어 쾌적합니다. 차와 식수는 항상 준비되어 있어 언제든지 모님커피와 차를 드실수 있습니다. 구룡공원과,넛츠포드테라스가 숙소 바로 근처에 있어 아침 운동하기에 좋은 위치 입니다. Korean staffs are always in residence, so if you need any help, you will always be more than welcome to contact us. We will always happy to help you. All the rooms are pleasant with a window inside. Tea and water are always available, so you can have a morning coffee or tea anytime. There are Kowloon Park and Knutsford Terrace nearby the accommodation. It’s a good place to exercise in the morning. 我们有常住的韩国职员,所以您需要帮忙的话,我们'},\n",
       " {'user_input': 'Furnished luxury studio apartment in the heart of Manhattan on a safe, residential block, featuring a queen-size pillow top bed, double sofa bed, fully equipped kitchen with stainless steel appliances, rain shower bathroom, hardwood floors, WiFi, cable TV, and just two flights up.',\n",
       "  'retrieved_contexts': ['This furnished apartment is a stunning, newly renovated, private and luxurious, studio apartment in the heart of Manhattan. Residential, safe block that is VERY close to all! Fully furnished apartment, with everything one might need! This furnished apartment  is a stunning, newly renovated, private and luxurious, studio apartment in the heart of Manhattan. Residential, safe block that is VERY close to all! Fully furnished apartment, with everything one might need! Just 2 flights up! Please note that the apartment is a studio and has 1 very comfortable queen-size bed and one double size firm sofa bed. The apartment is practically brand-new as everything was completely renovated in 2016. No expense has been spared to make your stay enjoyable and comfortable. All new kitchen with stainless steel appliances including microwave. All new bathroom with rain shower. Hardwood floors, Queen size pillow top mattress, sofa bed for additional guests. Full cable TV w/ WiFi and universal smartphone-t'],\n",
       "  'response': 'Here are some fantastic recommendations for furnished luxury studio apartments in the heart of Manhattan that match your criteria:\\n\\n1. **Stunning Studio in the Heart of Manhattan**\\n   - **URL:** [View Listing](https://www.airbnb.com/rooms/12345678)\\n   - **Image:** ![Stunning Studio](https://a.airbnb.com/12345678.jpg)\\n   - **Why I Chose This Property:** This studio is newly renovated and located on a safe, residential block, just like your description. It features a queen-size bed and a comfortable sofa bed, perfect for additional guests. The fully equipped kitchen with stainless steel appliances and a rain shower bathroom adds to the luxury experience. Plus, it’s just two flights up!\\n\\n2. **Luxury Studio with Modern Amenities**\\n   - **URL:** [View Listing](https://www.airbnb.com/rooms/87654321)\\n   - **Image:** ![Luxury Studio](https://a.airbnb.com/87654321.jpg)\\n   - **Why I Chose This Property:** This apartment boasts hardwood floors and a queen-size pillow top mattress, ensuring a comfortable stay. The kitchen is fully equipped, and the bathroom features a rain shower, aligning perfectly with your needs. It’s also located in a vibrant area close to all major attractions.\\n\\n3. **Chic Studio Retreat in Manhattan**\\n   - **URL:** [View Listing](https://www.airbnb.com/rooms/23456789)\\n   - **Image:** ![Chic Studio](https://a.airbnb.com/23456789.jpg)\\n   - **Why I Chose This Property:** This chic studio is designed for comfort and luxury, featuring a queen-size bed and a double sofa bed. The kitchen is modern with stainless steel appliances, and the rain shower bathroom adds a touch of elegance. It’s situated in a safe neighborhood, just a short walk from popular spots.\\n\\nThese properties not only meet your requirements but also offer a luxurious experience in the heart of Manhattan. Enjoy your stay!',\n",
       "  'reference': 'This furnished apartment is a stunning, newly renovated, private and luxurious, studio apartment in the heart of Manhattan. Residential, safe block that is VERY close to all! Fully furnished apartment, with everything one might need! This furnished apartment  is a stunning, newly renovated, private and luxurious, studio apartment in the heart of Manhattan. Residential, safe block that is VERY close to all! Fully furnished apartment, with everything one might need! Just 2 flights up! Please note that the apartment is a studio and has 1 very comfortable queen-size bed and one double size firm sofa bed. The apartment is practically brand-new as everything was completely renovated in 2016. No expense has been spared to make your stay enjoyable and comfortable. All new kitchen with stainless steel appliances including microwave. All new bathroom with rain shower. Hardwood floors, Queen size pillow top mattress, sofa bed for additional guests. Full cable TV w/ WiFi and universal smartphone-t'},\n",
       " {'user_input': 'Spacious renovated 2-bedroom apartment in leafy Artarmon, close to Sydney city, with a full kitchen, laundry, 2 bathrooms, private large double bedroom, access to patio, and friendly hosts offering local advice, perfect for business travelers and tourists seeking comfort and privacy.',\n",
       "  'retrieved_contexts': [\"The apartment is ideally located in the heart of Sydney CBD, less than a block away from Hyde Park. It is beautiful one bedroom apartment, recently renovated, with a nice balcony to enjoy the city and rest under the sun.  The apartment is surrounded by great cafés, bars and restaurant, and extremely close to Sydney's attraction and landmarks. The beautiful and spacious apartment offers city hoppers and business travels the comfort they need to discover Sydney. The open plan kitchen and living area is modern and has artful details to make you feel home.  The stylish bedroom has a super comfy queen bed and fresh hotel quality linens are provided for your stay. The sparkling ensuite bathroom has a sleek, elegant design in keeping with the rest of the apartment. The apartment is within a communal block. Guests will have access to the entire apartment which includes separate bedroom from lounge during their stay. I will be contactable by email or telephone during your stay. TRANSPORTATION •\"],\n",
       "  'response': \"Here are some great Airbnb listings that match your criteria for a spacious and comfortable stay in Sydney:\\n\\n1. **Stylish 1-Bedroom Apartment in Sydney CBD**\\n   - **URL:** [View Listing](https://www.airbnb.com/rooms/12345678)\\n   - **Image URL:** ![Apartment Image](https://a.airbnb.com/12345678.jpg)\\n   - **Why I Chose This Property:** This beautifully renovated apartment is located in the heart of Sydney CBD, just a short walk from Hyde Park. It features a modern open-plan kitchen and living area, perfect for both business travelers and tourists. The stylish bedroom offers a comfy queen bed, ensuring a restful night's sleep. The ensuite bathroom is sleek and elegant, matching the overall aesthetic of the apartment. Plus, the balcony provides a lovely spot to relax and enjoy the city views.\\n\\n2. **Charming 2-Bedroom Apartment Near Hyde Park**\\n   - **URL:** [View Listing](https://www.airbnb.com/rooms/87654321)\\n   - **Image URL:** ![Apartment Image](https://a.airbnb.com/87654321.jpg)\\n   - **Why I Chose This Property:** This spacious 2-bedroom apartment is perfect for those seeking comfort and privacy. It is located close to Sydney's attractions and offers a full kitchen, laundry facilities, and two bathrooms. The large double bedroom and access to a patio make it ideal for both business travelers and tourists. The friendly hosts are known for providing local advice, enhancing your stay in Sydney.\\n\\nBoth of these properties offer the comfort and amenities you’re looking for, along with great locations to explore the city. Enjoy your stay in Sydney!\",\n",
       "  'reference': 'Our apartment is a renovated 2 bedroom apartment in a leafy and bright suburb. We have opened up our second bedroom for guests to stay and experience Sydney and the local area. Our accommodation is perfect for those coming to Sydney for business as well as local or international travellers. We are a young professional couple so happy to provide advice on what to do and see in the local area. You will have exclusive use of a large double bedroom in our spacious 2 bedroom apartment. The renovated apartment has all of the necessities including a full kitchen, laundry, 2 bathrooms and connected living room and dining room.  We will supply what we can to make your stay as comfortable as possible! The guest will have access through our front door as well as an access through a sliding door onto the patio. We are quite social hosts so would love to share a drink with you, however, we also want to provide you your own space. Artarmon is a central suburb only 10 kms from Sydney city. Our apartm'},\n",
       " {'user_input': 'Cozy studio in a historic XIX century building near Douro River with a kitchenette, double bed, cable TV, free Wi-Fi, and charming romantic atmosphere, ideal for couples seeking a peaceful stay surrounded by Port Wine cellars, scenic views, good food, and local attractions.',\n",
       "  'retrieved_contexts': ['Duplex apartment for 4 persons in the city center Recently renovated apartment with modern architecture in an old building, in the heart of Oporto, with the Douro River and the wine cellars of Porto on its feet. Upon arrival you will feel the comfort of a real home prepared specially for your needs. The apartment is located in an iconic building 2 min walk from the famous Ribeira with its restaurants, bars and boat trips, 2 min from the cathedral and 7 min from São Bento station. Property Type: duplex apartment Accommodation Type: self-catering Floor Area: 60 m² Location Type: waterfront city centre Theme: historic  family General: towels provided  activities guide  bottled water  local activities guide  toilet paper  linen provided  soap  paper towels  local maps Kitchen: fridge  freezer  microwave  spices  coffee maker  oven  toaster  cooking utensils  hob  4 ring stove  dishwasher Dining: dining area  seating for 4 people Bathrooms: 1 Bathroom  Bathroom - Bath with Shower, Toilet, B'],\n",
       "  'response': '¡Hola! Basado en tu búsqueda de un estudio acogedor en un edificio histórico cerca del río Duero, tengo una recomendación que se ajusta perfectamente a tus criterios:\\n\\n### Apartamento Dúplex en el Centro de Oporto\\n- **URL del listado**: [Ver apartamento](https://www.airbnb.com/rooms/12345678) (este es un enlace de ejemplo)\\n- **URL de la imagen**: ![Imagen del apartamento](https://www.example.com/image.jpg) (este es un enlace de ejemplo)\\n\\n#### ¿Por qué elegí este apartamento?\\n1. **Ubicación Ideal**: Este apartamento está situado en el corazón de Oporto, a solo 2 minutos a pie del famoso Ribeira, donde puedes disfrutar de restaurantes, bares y paseos en barco. Además, está cerca de la catedral y de la estación de São Bento, lo que facilita el acceso a las atracciones locales.\\n   \\n2. **Ambiente Histórico y Moderno**: Aunque el apartamento ha sido recientemente renovado con una arquitectura moderna, se encuentra en un edificio icónico que refleja la historia de la ciudad, lo que proporciona un ambiente romántico y acogedor, ideal para parejas.\\n\\n3. **Comodidades**: El apartamento cuenta con una cocina completamente equipada, lo que te permitirá preparar tus propias comidas y disfrutar de una experiencia más local. También ofrece Wi-Fi gratuito y una zona de comedor para cuatro personas, perfecta para disfrutar de una cena romántica.\\n\\n4. **Espacio y Confort**: Con un área de 60 m², el apartamento ofrece suficiente espacio para relajarse después de un día explorando la ciudad. La combinación de un ambiente histórico con comodidades modernas lo convierte en un lugar perfecto para una estancia tranquila.\\n\\nEspero que esta recomendación sea de tu agrado y que disfrutes de tu estancia en Oporto. Si necesitas más información o más opciones, ¡no dudes en preguntar!',\n",
       "  'reference': 'Did you know that on the Douro lie the famous Port Wine cellars? Surrounded by cellars and the river, Casa Flores is a XIX century comfortable building recently renovated. With a simple romantic setting, this second floor offers a confortable and cozy atmosphere, ideal for couples. We welcome the world at Casa Flores! This studio at Casa Flores is situated in a second floor with no elevador, but this small effort will be rewarded by the confortable and cozy setting it offers. Living and Sleeping area Double bed (140X190) Maple Coffe table Luggage storage Cable TV Free Wi-Fi  Kitchenette Induction cooker Fridge Microwave oven Electric Kettle Toaster Table and seats Tableware, cutlery, pots and pans WC Shower Hair dryer  This is not a suitable studio for people with reduced mobility. Around Casa Flores good wine, good food, the most traditional products and all the essentials, the best view, the romantic walks and the main touristic landmarks are guaranteed. Still it is also a quiet resi'},\n",
       " {'user_input': 'Beachfront condo at Mana Kai Maui Resort with access to a private pool, snorkeling with turtles, stunning ocean views, and direct beach access on Keawakapu Beach, perfect for lounging, swimming, and enjoying Maui’s beautiful white sand beach and resort amenities.',\n",
       "  'retrieved_contexts': [\"Swim, lounge, and snorkel at FABULOUS Mana Kai Maui Resort—the jewel at the end of one of Maui's BEST beaches. The Mana Kai Maui Resort uniquely offers all the advantages of a condo vacation, but with the added amenities of a resort hotel. The Mana Kai Maui Resort has been a guest favorite condo property in South Maui for decades. The property is so highly praised because of its superb location at the start of Keawakapu Beach. The white sand beach stretches for over a mile, right into Wailea, ending in front of the high-end Andaz Resort. Guests can choose to walk along the great beach, catch some rays, or snorkel right in front of the property (where turtles are often spotted). Besides the beachfront location, guests will enjoy a slew of on-site amenities. For starters, the private beachfront pool is a great option for taking a refreshing dip while you still enjoy views of ocean and beachgoers. The ground floor open-air restaurant overlooking Keawakapu Beach enjoys views that are just \"],\n",
       "  'response': 'Based on your interest in a beachfront condo at Mana Kai Maui Resort, I have found some fantastic options that match your criteria perfectly. Here are my top recommendations:\\n\\n1. **Mana Kai Maui Resort - Oceanfront Studio**\\n   - **URL:** [View Listing](https://www.airbnb.com/rooms/12345678)\\n   - **Image URL:** ![Oceanfront Studio](https://a.airbnb.com/12345678.jpg)\\n   - **Why I Chose This Property:** This studio offers stunning ocean views and direct access to Keawakapu Beach, making it ideal for lounging and swimming. The property is well-rated for its cleanliness and amenities, including the private pool and snorkeling opportunities right in front of the resort.\\n\\n2. **Mana Kai Maui Resort - 1 Bedroom Condo**\\n   - **URL:** [View Listing](https://www.airbnb.com/rooms/87654321)\\n   - **Image URL:** ![1 Bedroom Condo](https://a.airbnb.com/87654321.jpg)\\n   - **Why I Chose This Property:** This spacious one-bedroom condo features a full kitchen and a private lanai with ocean views. Guests have praised the easy beach access and the ability to snorkel with turtles just steps away. The resort amenities, including the beachfront pool and on-site restaurant, enhance the overall experience.\\n\\n3. **Mana Kai Maui Resort - Deluxe Ocean View Suite**\\n   - **URL:** [View Listing](https://www.airbnb.com/rooms/23456789)\\n   - **Image URL:** ![Deluxe Ocean View Suite](https://a.airbnb.com/23456789.jpg)\\n   - **Why I Chose This Property:** This deluxe suite offers a luxurious stay with breathtaking views of the ocean. It’s perfect for those looking to enjoy the beach and resort amenities. The suite is highly rated for its comfort and proximity to the beach, making it a great choice for a relaxing getaway.\\n\\nThese properties are all located at the Mana Kai Maui Resort, which is known for its prime location on Keawakapu Beach and excellent amenities. Each listing has received high ratings from previous guests, ensuring a wonderful stay filled with swimming, lounging, and snorkeling. Enjoy your time in Maui!',\n",
       "  'reference': \"Swim, lounge, and snorkel at FABULOUS Mana Kai Maui Resort—the jewel at the end of one of Maui's BEST beaches. The Mana Kai Maui Resort uniquely offers all the advantages of a condo vacation, but with the added amenities of a resort hotel. The Mana Kai Maui Resort has been a guest favorite condo property in South Maui for decades. The property is so highly praised because of its superb location at the start of Keawakapu Beach. The white sand beach stretches for over a mile, right into Wailea, ending in front of the high-end Andaz Resort. Guests can choose to walk along the great beach, catch some rays, or snorkel right in front of the property (where turtles are often spotted). Besides the beachfront location, guests will enjoy a slew of on-site amenities. For starters, the private beachfront pool is a great option for taking a refreshing dip while you still enjoy views of ocean and beachgoers. The ground floor open-air restaurant overlooking Keawakapu Beach enjoys views that are just \"},\n",
       " {'user_input': 'Confortável espaço perto do Parque Olímpico, ideal para casais, famílias com crianças e viajantes de negócios, com ambiente aconchegante e acolhedor, perfeito para uma estadia agradável próximo às atrações do parque.',\n",
       "  'retrieved_contexts': ['Casa com excelente espaço, localizada no meio da natureza, próximo ao um dos acessos do Parque Estadual da Pedra Branca, que conta com cachoeiras e trilhas na Mata Atlântica e a 10 minutos de carro ou 35 minutos a pé do Parque Olímpico (3.5km) e 3 minutos de carro ou 12 minutos a pé da Vila Olímpica. A casa pricipal conta com 2 quartos com suíte, 2 salas, cozinha, 1 banheiro social e área de serviço.Também contamos com um anexo com 1 quarto com suíte. Os quartos poderão ser compartilhados! Nossa casa é ampla aconchegante e familiar , onde poderão se sentir seguros e terão nossa total atenção no que for necessário . A casa fica a 10 minutos de caminhada , e 5 de carro , do parque olímpico , Os hóspedes terão acesso a casa inteira , quintal e direito a usufruir todos os equipamentos da casa . Estaremos a sua disposição para orientá-los na sua estádia , dando todo o suporte necessário . Rua calma , familiar dentro de um bairro seguro e reservado Há transporte público para todos os bairros'],\n",
       "  'response': 'Olá! Tenho uma recomendação perfeita para você, considerando suas necessidades de conforto e proximidade ao Parque Olímpico. \\n\\n### Casa Aconchegante Próxima ao Parque Olímpico\\n- **URL do anúncio**: [Casa Aconchegante](https://www.airbnb.com.br/rooms/12345678)\\n- **URL da imagem**: ![Casa Aconchegante](https://a.airbnb.com/12345678.jpg)\\n\\n**Por que escolhi esta propriedade?**\\n1. **Localização**: A casa está a apenas 10 minutos de carro ou 35 minutos a pé do Parque Olímpico, exatamente como você mencionou. Além disso, está situada em uma área tranquila e familiar, ideal para casais e famílias com crianças.\\n2. **Espaço e Conforto**: Com 2 quartos com suíte, 2 salas e uma cozinha bem equipada, a casa oferece bastante espaço para relaxar e se sentir à vontade. O anexo com mais um quarto também é uma ótima opção para grupos maiores ou viajantes de negócios.\\n3. **Ambiente Aconchegante**: O espaço é descrito como amplo e acolhedor, perfeito para uma estadia agradável. Os hóspedes têm acesso a toda a casa e ao quintal, proporcionando um ambiente familiar e seguro.\\n4. **Suporte ao Hóspede**: Os anfitriões estão disponíveis para oferecer suporte durante a estadia, garantindo que você tenha tudo o que precisa.\\n\\nEssa casa parece ser uma excelente escolha para a sua estadia, oferecendo conforto, segurança e proximidade com as atrações do Parque Olímpico. Se precisar de mais informações ou de outras opções, estou aqui para ajudar!',\n",
       "  'reference': 'Meu espaço é perto de proximo aos parque olímpico. Você vai amar meu espaço por causa de o aconchego. Meu espaço é bom para casais, viajantes de negócios e famílias (com crianças).'},\n",
       " {'user_input': 'Private room in a family home in Gracia with shared bathroom, small fridge and microwave, sunny apartment near a park, vibrant bohemian neighborhood with international restaurants, lively squares, and close to Lesseps metro station, ideal for exploring Barcelona.',\n",
       "  'retrieved_contexts': ['Private room in damily home I own another double room also mentioned on this web room with three beds, one high triple room in an attic (family\\'s home) in the popular district of Gracia Rooms have a small area with fridge and microwave Sunny apartment next to a nice park. Five minutes from the metro station \"Lesseps\" two minutes and buses to anywhere in the city. Bathroom (two rooms share the bathroom)  The room has bed linen and towels guests. FREE WIFI Possible airport pickup. The area is populated by artists and bohemian crowd. It has charming squares around the neighborhood, diversity of races and has a large concentration of international restaurants. Located on the \"Passeig de Gracia\" The Plaça de Sol is the best known of this neighborhood. It\\'s full of cafes, terraces and evening is the place that people choose to go out for a drink. The ideal place to feel at home In the month of AUGUST the neighborhood (Formerly \"Vila de Gràcia\") celebrates its festival, famous for its ornate '],\n",
       "  'response': '¡Hola! Aquí tienes algunas recomendaciones de propiedades que se ajustan a tu búsqueda de una habitación privada en un hogar familiar en Gracia, Barcelona. He priorizado opciones con altas puntuaciones de búsqueda y características que coinciden con tus criterios.\\n\\n### 1. Habitación privada en un hogar familiar en Gracia\\n- **URL del listado**: [Habitación en Gracia](https://www.airbnb.com/rooms/12345678)\\n- **URL de la imagen**: ![Imagen de la habitación](https://a.airbnb.com/room12345678.jpg)\\n\\n**Por qué elegí esta propiedad**: Esta habitación está ubicada en el corazón de Gracia, cerca de parques y con fácil acceso a la estación de metro Lesseps. Ofrece un ambiente acogedor y familiar, ideal para aquellos que buscan una experiencia auténtica en Barcelona. La habitación cuenta con un pequeño frigorífico y microondas, perfectos para tus necesidades. Además, el acceso a WiFi gratuito y la posibilidad de recogida en el aeropuerto son grandes ventajas.\\n\\n### 2. Habitación doble en el ático\\n- **URL del listado**: [Ático en Gracia](https://www.airbnb.com/rooms/87654321)\\n- **URL de la imagen**: ![Imagen del ático](https://a.airbnb.com/room87654321.jpg)\\n\\n**Por qué elegí esta propiedad**: Este ático ofrece una experiencia única con vistas encantadoras y un ambiente bohemio. La habitación es espaciosa y luminosa, y está a solo unos minutos de la estación de metro. La cercanía a la Plaça de Sol y a una variedad de restaurantes internacionales hace que sea un lugar ideal para explorar la cultura local.\\n\\nAmbas opciones están en un vecindario vibrante, lleno de artistas y con una gran concentración de restaurantes internacionales, lo que coincide perfectamente con lo que buscas. ¡Espero que encuentres la opción perfecta para tu estancia en Barcelona! Si necesitas más información o ayuda, no dudes en preguntar.',\n",
       "  'reference': 'Private room in damily home I own another double room also mentioned on this web room with three beds, one high triple room in an attic (family\\'s home) in the popular district of Gracia Rooms have a small area with fridge and microwave Sunny apartment next to a nice park. Five minutes from the metro station \"Lesseps\" two minutes and buses to anywhere in the city. Bathroom (two rooms share the bathroom)  The room has bed linen and towels guests. FREE WIFI Possible airport pickup. The area is populated by artists and bohemian crowd. It has charming squares around the neighborhood, diversity of races and has a large concentration of international restaurants. Located on the \"Passeig de Gracia\" The Plaça de Sol is the best known of this neighborhood. It\\'s full of cafes, terraces and evening is the place that people choose to go out for a drink. The ideal place to feel at home In the month of AUGUST the neighborhood (Formerly \"Vila de Gràcia\") celebrates its festival, famous for its ornate '},\n",
       " {'user_input': 'Stay in a peaceful residential area near Copacabana Beach, with easy subway access, minimum 7-day stay, daily rate around $350, and a safe neighborhood away from slums or favelas.',\n",
       "  'retrieved_contexts': ['Minimun stay: 1 week (7 days) Daily rate: 350 U.S Dollars - 700 Reais Estadia mínima: 1 semana (7 dias) Located in a calm residential neighborhood, one block away from copacabana beach, close to the subway and away frow any slum or favela. '],\n",
       "  'response': '¡Hola! Aquí tienes algunas recomendaciones de propiedades que cumplen con tus criterios de estancia en una zona residencial tranquila cerca de la playa de Copacabana, con fácil acceso al metro y un precio diario alrededor de $350.\\n\\n1. **Apartamento Moderno en Copacabana**\\n   - **URL del listado**: [Apartamento Moderno en Copacabana](https://www.airbnb.com/rooms/12345678)\\n   - **URL de la imagen**: ![Apartamento Moderno](https://a.airbnb.com/12345678.jpg)\\n   - **Razón de la elección**: Este apartamento está ubicado a solo una cuadra de la playa de Copacabana, en un vecindario seguro y tranquilo. Tiene acceso fácil al metro, lo que facilita explorar la ciudad. Además, cuenta con comodidades modernas y un ambiente acogedor, ideal para una estancia prolongada.\\n\\n2. **Estudio Acogedor con Vista al Mar**\\n   - **URL del listado**: [Estudio Acogedor](https://www.airbnb.com/rooms/23456789)\\n   - **URL de la imagen**: ![Estudio Acogedor](https://a.airbnb.com/23456789.jpg)\\n   - **Razón de la elección**: Este estudio ofrece una vista impresionante al mar y está situado en una zona residencial muy tranquila. La propiedad es segura y está a pocos pasos de la playa y del metro. Es perfecto para una estancia de una semana, con un ambiente relajante y todas las comodidades necesarias.\\n\\n3. **Apartamento Espacioso en Zona Segura**\\n   - **URL del listado**: [Apartamento Espacioso](https://www.airbnb.com/rooms/34567890)\\n   - **URL de la imagen**: ![Apartamento Espacioso](https://a.airbnb.com/34567890.jpg)\\n   - **Razón de la elección**: Este apartamento espacioso se encuentra en un vecindario seguro y alejado de las favelas. Ofrece fácil acceso al metro y está a solo un par de minutos de la playa. Es ideal para una estancia de 7 días, con suficiente espacio para relajarse y disfrutar de tu tiempo en Río.\\n\\nEspero que estas opciones te sean útiles y que encuentres el lugar perfecto para tu estancia. Si necesitas más información o ayuda, ¡no dudes en preguntar!',\n",
       "  'reference': 'Minimun stay: 1 week (7 days) Daily rate: 350 U.S Dollars - 700 Reais Estadia mínima: 1 semana (7 dias) Located in a calm residential neighborhood, one block away from copacabana beach, close to the subway and away frow any slum or favela. '},\n",
       " {'user_input': '舒适温馨的蓝色调房间，配备全新设施和高档洗漱用品，步行150米到罗湖地铁站和罗湖口岸，交通便利，邻近深圳繁华商业区和景点，提供自助入住，卫生非常严格，适合商务和旅游出行。',\n",
       "  'retrieved_contexts': ['致尊敬的房客:      您好!我们系香蕉宿黑金厂精品民宿(身份证号:圈圈叉叉),由于我们配备了舒适的大床,超大屏投影,独特的灯光设计,网红ins风大浴缸,便利的地理位置,随手拈来的家居用品,等等…导致人群拥挤,交通拥堵,水管爆裂,花见花开,人见人爱,所以…请趁早订房｡   特此通知｡ 我们是一群爱折腾爱闹爱笑爱旅行爱生活的香蕉 (Website hidden by Airbnb) ---黑金厂民宿 ★1号线国贸站E出口,9号线人民南站C出口,均可步行5分钟即到｡ ★步行10分钟即到罗湖口岸｡ ★深圳高铁站/火车站步行10分钟即可到达,地铁5分钟｡ ★加厚桃皮绒1.8米大床床垫,舒适羽绒枕和羽绒被,贡缎面料六件套｡ ★24小时热水供应,一次性马桶座套､一次性浴缸套､浴帽､空调､热水壶､三角头充电器､驱蚊器｡ ★洗衣､烘干衣服务｡ ★在共享大厅配有大屏投影仪,世界各地旅行指南,全球攻略,全套地理国家杂志,各类型书籍,茶品｡ 我们线上24小时为您服务,线下有专门的管家为您提供服务与帮助｡ 地铁:1号线国贸站E出口,9号线人民南路C出口｡ 公交:建设路总站,人民南地铁站,罗湖小学 距离东门老街､深圳高铁/火车站步行10分钟即到｡'],\n",
       "  'response': '您好！根据您的需求，我为您推荐了几处非常适合的房源，以下是推荐的理由和详细信息：\\n\\n1. **香蕉宿黑金厂精品民宿**\\n   - **链接**: [香蕉宿黑金厂](https://www.airbnb.com/rooms/XXXXXX)（请替换为实际链接）\\n   - **图片**: ![香蕉宿黑金厂](https://www.example.com/image.jpg)（请替换为实际图片链接）\\n   - **推荐理由**: 这家民宿提供舒适的大床和高档洗漱用品，正好符合您对“舒适温馨”的要求。它距离罗湖地铁站仅150米，交通非常便利，适合商务和旅游出行。民宿内的设施如超大屏投影和网红浴缸也为您的住宿增添了不少乐趣。\\n\\n2. **深圳高档公寓**\\n   - **链接**: [深圳高档公寓](https://www.airbnb.com/rooms/YYYYYY)（请替换为实际链接）\\n   - **图片**: ![深圳高档公寓](https://www.example.com/image2.jpg)（请替换为实际图片链接）\\n   - **推荐理由**: 这间公寓同样位于繁华地段，步行可达罗湖口岸，周围有许多商业区和景点。公寓内配备现代化设施，提供自助入住，卫生条件严格，非常适合您的需求。\\n\\n这两处房源都具备您所需的舒适性和便利性，且都在交通便利的地理位置上。希望这些推荐能帮助到您，祝您在深圳的旅程愉快！如果您有其他问题或需要更多建议，请随时告诉我！',\n",
       "  'reference': '房子交通特别便利,就在罗湖口岸隔壁,步行5分钟,就可以到罗湖口岸过关到香港｡离罗湖口岸有多近呢,就是从住处步行150米到罗湖地铁站E2出口,进入罗湖地铁站,罗湖地铁站A出口出来,就是过关大厅了｡就这么近关口!! 楼下有双地铁口,距离住处20米就是人民南站D出口｡步行150米就是罗湖地铁站E2出口｡如果你来旅行,到深圳湾公园､红树林公园可人民南地铁站直接到达｡世界之窗､欢乐谷､kkmall和万象城可罗湖地铁站直达｡国贸和东门就在附近1公里内,可以摩拜过去或打的不跳表,金光华广场和佳宁娜广场可以步行过去｡这个交通方便太无敌了! 房间从色调到灯饰到所有细小的装扮装饰都是一一挑选的,和平台展示图片一模一样,这套房子主打蓝色色调,装饰粉色的家具,营造一个温馨的家庭环境｡里面的设施设备都是全新的,提供简单厨具可以做简餐,洗漱用品都是全新的五星级酒店一次性高档套装(提供毛巾)｡ 重点强调一下房间卫生,房东找了一个有洁癖和强迫症的阿姨搞卫生,要求每次一定要搞至少1个半小时卫生,床上用品都是精心挑选超舒适的,最重要的是保证一客一换,一客一换! 房间从色调到灯饰到所有细小的装扮装饰都是一一挑选的,这套房子主打蓝色色调,装饰粉色的家具,营造一个温馨的家庭环境｡ 还有就是里面的设施设备都是全新的,提供简单厨具可以做简餐,洗漱用品都是全新的五星级酒店一次性高档套装(提供压缩毛巾),我还找了一个有洁癖和强迫症的阿姨搞卫生,要求每次一定要搞1个半小时最少,床上用品都是全新高档精心挑选的,保证一客一换的,其实说到底我就想强调我的房间卫生超好! 欢迎你的入住! 我不会出现在房间,会提前一天提供入住密码,由客人按照短信,输门锁密码自助入住｡ 周边是繁华的罗湖老区,吃喝玩一应俱全,可步行至金光华广场和佳宁娜广场,可摩拜5分钟到国贸,打的不跳表5分钟到东门 房子就在罗湖口岸隔壁,步行5分钟,就可以到罗湖口岸过关到香港｡离罗湖口岸有多近呢,就是从住处步行150米到罗湖地铁站E2出口,进入罗湖地铁站,罗湖地铁站A出口出来,就是过关大厅了｡ 楼下双地铁口,楼下20米就是人民南站D出口｡150米就是罗湖地铁站E2出口｡如果你来旅行,到深圳湾公园､红树林公园可人民南地铁站直接到达｡世界之窗､欢乐谷､kkmall和万象城可罗湖地铁站直达｡国贸和东门就在附近,可以摩拜过去或打的不跳表,金光华广场和佳宁娜广场可以步行过去'},\n",
       " {'user_input': 'Hawaiian rainforest retreat near Volcano Village with a hot tub, full house for up to 6 guests, a separate bedroom available for larger groups, surrounded by lush native trees and vibrant flowers, perfect for couples, families, and adventurers seeking a magical volcanic getaway',\n",
       "  'retrieved_contexts': ['2 store, 3000 sq.feet secluded house. - 4 bedrooms; - 3 bathrooms; -  4 living rooms, 2 of them with big screen TV and fireplace.  - additional couches and airbeds in living rooms for big groups. - two dining areas, one on a closed porch (lanai with gas grill) - full kitchen. - hot tub; - 3 acres fruite trees garden; - free parking, wi-fi, trip planning. I am a former micrichip engineer who now share my love of the Paradise (Island of Hawaii) with other people. My wife and me operate a B&B inspacious house (3000 sq.feet) on a slope of volcano (8 miles to Volcano National Park), surrounded by jungles of Fern Forest.  In the forest, far from noise and light pollution to enjoy the stars. 20 Minutes to Jagger museum, 35 minutes to beaches. Easy access to Hilo and Pahoa. Ideal for big groups 8-15 people. Private bedrooms for smaller groups (breakfast included for groups in private bedrooms (up to 8 people), Four bedrooms/three bathrooms in your possession. Four living rooms to put more airb'],\n",
       "  'response': 'Aloha! Based on your request for a Hawaiian rainforest retreat near Volcano Village, I have found some fantastic properties that match your criteria. Here are my top recommendations:\\n\\n### 1. **Secluded Rainforest Retreat**\\n- **URL:** [Secluded Rainforest Retreat](https://www.airbnb.com/rooms/12345678)\\n- **Image:** ![Secluded Rainforest Retreat](https://a.airbnb.com/12345678.jpg)\\n  \\n**Why I chose this property:** This spacious 3000 sq. ft. home offers 4 bedrooms and 3 bathrooms, making it perfect for larger groups. The multiple living rooms provide ample space for relaxation, and the hot tub is a great feature for unwinding after a day of adventure. The property is surrounded by lush greenery, similar to your description, and is located just a short drive from Volcano National Park.\\n\\n### 2. **Volcanic Paradise Getaway**\\n- **URL:** [Volcanic Paradise Getaway](https://www.airbnb.com/rooms/23456789)\\n- **Image:** ![Volcanic Paradise Getaway](https://a.airbnb.com/23456789.jpg)\\n\\n**Why I chose this property:** This listing features a large garden with fruit trees, which aligns with your desire for a natural setting. The house accommodates up to 15 guests, making it ideal for big groups. It also includes a full kitchen and a dining area on a lanai, perfect for enjoying meals surrounded by nature.\\n\\n### 3. **Lush Jungle Retreat**\\n- **URL:** [Lush Jungle Retreat](https://www.airbnb.com/rooms/34567890)\\n- **Image:** ![Lush Jungle Retreat](https://a.airbnb.com/34567890.jpg)\\n\\n**Why I chose this property:** This property is nestled in a serene jungle environment, providing a peaceful escape from city life. It has multiple living spaces and a hot tub, which is perfect for relaxation. The location is also convenient for exploring nearby attractions, including beaches and the Jagger Museum.\\n\\nThese properties not only meet your requirements but also offer the unique charm of the Hawaiian rainforest. Each one provides a perfect blend of comfort and adventure, making them ideal for families, couples, and groups looking to experience the beauty of Hawaii. Enjoy your magical volcanic getaway!',\n",
       "  'reference': \"Park is open! Welcome to this Hawaiian paradise in the middle of a magical rainforest near Volcano Village, one mile away from the Hawaii Volcanoes National Park ! This is the place you have dreamed of among the Ohia Lehua trees and the hapu'u giant ferns. In an ambiance of another age, Anthurium Alii Gardens offers you all the comfort you need for your vacations. The third bedroom is in a separate smaller building and will be accessible on demand for reservations with 3 or more guests :) IN VOLCANO, 5 MINUTES FROM PARK ENTRANCE (not in Mountain View) Delightful : Hot tub in the heart of the rainforest ! My place is good for couples, solo adventurers, business travelers, and families (with kids). The full house is rented to our guests, up to 6. The whole property is yours to enjoy during your stay! :) Via Airbnb, email, text or phone. In the midst of the rainforest, surrounded by fern trees and ohia lehua often blooming trees, white and red anthuriums, roses, hibiscus and more. You can\"},\n",
       " {'user_input': 'Spacieux duplex avec toit-terrasse privé en plein cœur de Vieux-Montréal, décoration élégante avec murs de briques et plafonds hauts, cuisine complète, Wi-Fi inclus, idéal pour famille ou amis, à proximité des festivals, restaurants, parcs, et du fleuve Saint-Laurent.',\n",
       "  'retrieved_contexts': [\"Amazing duplex with private roof top  Old Montreal will charme you  Great place for friends or family Breakfast included New HD tv Luxurious unit Situé en plein centre-ville , le quartier du vieux-montreal  saura vous charmer , tout près du fleuve saint-laurent  . Grand stationnement et entouré d'arbres matures et de plusieurs parcs, voici un vrai OASIS à deux pas du bourdonnement des festivals , restaurants et vieux montreal  6eme étage d'un immeuble légendaire (construit en 1870), rénové avec goût tout en conservant son cachet unique: murs de briques, planchers en bois , béton plafond et tuyaux apparents Cuisine complete , décoration épurée, plafonds hauts et plein de lumière naturelle. Internet Wi-Fi inclus. Peut héberger jusqu'à  6 personnes: Nouveau Lit queen dans la chambre + 2 matelas . Idéal pour une famille ou pour 2 couples. Situé dans une rue tranquille du quartier vieux-montreal , tout près de tous les services (supermarché, pharmacie) et d'un parc pour enfants. À 3 min du \"],\n",
       "  'response': \"Voici une recommandation qui correspond parfaitement à votre recherche d'un spacieux duplex avec toit-terrasse privé en plein cœur de Vieux-Montréal :\\n\\n### Duplex Luxueux avec Toit-Terrasse\\n- **URL de l'annonce** : [Duplex Luxueux](https://www.airbnb.com/rooms/12345678)\\n- **URL de l'image** : ![Duplex Luxueux](https://a.airbnb.com/12345678.jpg)\\n\\n#### Pourquoi ce choix ?\\nCe duplex est idéal pour les familles ou les groupes d'amis, pouvant accueillir jusqu'à 6 personnes. Il est situé dans le quartier animé de Vieux-Montréal, à proximité des festivals, restaurants, et du fleuve Saint-Laurent, tout comme vous le souhaitiez. \\n\\n#### Caractéristiques :\\n- **Toit-terrasse privé** : Parfait pour profiter des soirées d'été.\\n- **Décoration élégante** : Murs de briques, plafonds hauts, et une ambiance lumineuse qui crée un espace accueillant.\\n- **Cuisine complète** : Idéale pour préparer des repas en famille ou entre amis.\\n- **Wi-Fi inclus** : Restez connecté pendant votre séjour.\\n- **À proximité des commodités** : Supermarché, pharmacie, et parcs pour enfants à quelques pas.\\n\\nCe duplex combine le charme historique de Vieux-Montréal avec des commodités modernes, ce qui en fait un choix parfait pour votre séjour. N'hésitez pas à me faire savoir si vous avez besoin d'autres recommandations ou d'informations supplémentaires !\",\n",
       "  'reference': \"Amazing duplex with private roof top  Old Montreal will charme you  Great place for friends or family Breakfast included New HD tv Luxurious unit Situé en plein centre-ville , le quartier du vieux-montreal  saura vous charmer , tout près du fleuve saint-laurent  . Grand stationnement et entouré d'arbres matures et de plusieurs parcs, voici un vrai OASIS à deux pas du bourdonnement des festivals , restaurants et vieux montreal  6eme étage d'un immeuble légendaire (construit en 1870), rénové avec goût tout en conservant son cachet unique: murs de briques, planchers en bois , béton plafond et tuyaux apparents Cuisine complete , décoration épurée, plafonds hauts et plein de lumière naturelle. Internet Wi-Fi inclus. Peut héberger jusqu'à  6 personnes: Nouveau Lit queen dans la chambre + 2 matelas . Idéal pour une famille ou pour 2 couples. Situé dans une rue tranquille du quartier vieux-montreal , tout près de tous les services (supermarché, pharmacie) et d'un parc pour enfants. À 3 min du \"},\n",
       " {'user_input': 'Spacious fully renovated condo in Montreal with 3 bedrooms, fully equipped kitchen, WiFi, washer and dryer, parking included, close to downtown, in a vibrant neighborhood, suitable for up to 6 guests, modern furnishings, and convenient location near subway and attractions.',\n",
       "  'retrieved_contexts': ['Come enjoy this fully renovated condo style 4 ½ unit, close to downtown Montreal with PARKING included. Can accommodate up to 6 guests. Includes 3 bedrooms, a sofa + TV, fully equipped kitchen and dining area, 1 bathroom, washer and dryer, WIFI, and USB outlets. Located 10 minutes from downtown Montreal, the unit is on the 3rd floor of a 6plex and was fully renovated and furnished in December 2018. It has all the basic amenities, lots of towels and linens, and will always be clean upon arrival. Located in one of the best areas in Montreal close to absolutely everything!!  No matter your reason for visiting Montreal come enjoy this condo style apartment in the Hochelaga-Maisonneuve district of Montreal ( 10 min from D-T and a 7 min walk to subway) suitable up to 6 people. Ideal for friends, couples, business and travelers. The space: Unit has been fully renovated and newly furnished in December 2018. The space is clean, bright and fully equipped. Everything is brand new. Whats included:'],\n",
       "  'response': '¡Hola! Aquí tienes una recomendación para un condominio espacioso y completamente renovado en Montreal que se ajusta a tus criterios:\\n\\n### **Condo Renovado en Hochelaga-Maisonneuve**\\n- **Capacidad**: Hasta 6 huéspedes\\n- **Habitaciones**: 3\\n- **Baños**: 1\\n- **Características**: Cocina totalmente equipada, WiFi, lavadora y secadora, estacionamiento incluido, muebles modernos.\\n- **Ubicación**: A solo 10 minutos del centro de Montreal y a 7 minutos a pie de la estación de metro.\\n\\n![Condo Renovado](https://example.com/image-url.jpg)  \\n[Ver listado en Airbnb](https://example.com/airbnb-listing-url)\\n\\n### **Por qué elegí esta propiedad:**\\n1. **Espacio y Comodidad**: Con 3 habitaciones, es ideal para grupos de hasta 6 personas, lo que se adapta perfectamente a tus necesidades.\\n2. **Ubicación Conveniente**: La cercanía al centro de Montreal y al metro facilita el acceso a las principales atracciones de la ciudad.\\n3. **Modernidad y Renovación**: La propiedad fue completamente renovada en diciembre de 2018, lo que garantiza un ambiente limpio y moderno.\\n4. **Amenidades Completas**: La cocina equipada y las comodidades como WiFi y lavandería hacen que la estancia sea cómoda y práctica.\\n\\nEspero que esta recomendación te ayude a disfrutar de tu estancia en Montreal. Si necesitas más información o más opciones, ¡no dudes en preguntar!',\n",
       "  'reference': 'Come enjoy this fully renovated condo style 4 ½ unit, close to downtown Montreal with PARKING included. Can accommodate up to 6 guests. Includes 3 bedrooms, a sofa + TV, fully equipped kitchen and dining area, 1 bathroom, washer and dryer, WIFI, and USB outlets. Located 10 minutes from downtown Montreal, the unit is on the 3rd floor of a 6plex and was fully renovated and furnished in December 2018. It has all the basic amenities, lots of towels and linens, and will always be clean upon arrival. Located in one of the best areas in Montreal close to absolutely everything!!  No matter your reason for visiting Montreal come enjoy this condo style apartment in the Hochelaga-Maisonneuve district of Montreal ( 10 min from D-T and a 7 min walk to subway) suitable up to 6 people. Ideal for friends, couples, business and travelers. The space: Unit has been fully renovated and newly furnished in December 2018. The space is clean, bright and fully equipped. Everything is brand new. Whats included:'},\n",
       " {'user_input': 'Loft au cœur de Montréal avec accès à un stationnement public intérieur à proximité, idéal pour profiter de la ville, ses activités et son ambiance urbaine, avec options de stationnement abordables en journée et en soirée.',\n",
       "  'retrieved_contexts': [\"Amazing loft in Old-Montreal you are in the heart of all the activities during this summer ! This cozy and beautiful appartment will be perfect for friends and family getaway Projector  TV Xbox one s Wine cellar  Netflix  Nespresso machine Business desk  And more ! Our amazing loft is perfectly located in the heart of montreal shopping/entertainment district. You'll enjoy access to amenities . The unit is fully-equipped with a kitchen, laundry, , high-speed wifi and tv cable  Enjoy peace and tranquility right in the heart of downtown in our loft  You'll have access to these features:  -2 queen size bed , 1 simple bed and 2 air mattresses -high-speed wifi -laundry -fully-equipped kitchen -tableware and cooking equipment -dining area -business station  -conveniently located near airport bus and metro (2 minute walk)  Located in the heart of downtown Montreal's shopping and entertainment district, you will find landmark bars and pubs at your doorstep on Rue saint-pierre  and old-Montreal \"],\n",
       "  'response': \"Voici une recommandation qui correspond parfaitement à votre recherche d'un loft au cœur de Montréal avec un accès facile à un stationnement public à proximité :\\n\\n### Loft dans le Vieux-Montréal\\n- **URL de l'annonce** : [Loft dans le Vieux-Montréal](https://www.airbnb.com/rooms/12345678)\\n- **URL de l'image** : ![Loft dans le Vieux-Montréal](https://a.airbnb.com/loft-image.jpg)\\n\\n#### Pourquoi ce choix ?\\nCe loft est idéalement situé dans le quartier historique de Montréal, ce qui vous permet de profiter pleinement de l'ambiance urbaine et des nombreuses activités estivales. Voici quelques caractéristiques qui correspondent à vos critères :\\n\\n- **Emplacement central** : Vous êtes à proximité de toutes les attractions majeures, des bars et des restaurants.\\n- **Accès au stationnement** : Il y a des options de stationnement public à proximité, avec des tarifs abordables en journée et en soirée.\\n- **Équipements modernes** : Le loft est entièrement équipé avec une cuisine, un espace de travail, une connexion Wi-Fi haut débit, et même un projecteur pour vos soirées cinéma.\\n- **Confort** : Avec 2 lits queen, 1 lit simple et des matelas supplémentaires, il est parfait pour accueillir des amis ou la famille.\\n\\nCe loft combine le confort moderne avec le charme historique de Montréal, ce qui en fait un choix parfait pour votre séjour. N'hésitez pas à me faire savoir si vous avez besoin d'autres recommandations ou d'informations supplémentaires !\",\n",
       "  'reference': 'Superbe loft au coeur de Montréal et de ses activités. Stationnement publique intérieur disponible à quelques mètres pour 20$ par jour ou 10$ apres 18h.'}]"
      ]
     },
     "execution_count": 87,
     "metadata": {},
     "output_type": "execute_result"
    }
   ],
   "source": [
    "dataset"
   ]
  },
  {
   "cell_type": "code",
   "execution_count": 88,
   "metadata": {},
   "outputs": [],
   "source": [
    "from ragas import EvaluationDataset\n",
    "from ragas import evaluate\n",
    "from ragas.llms import LangchainLLMWrapper\n",
    "from ragas.metrics import LLMContextRecall, Faithfulness, FactualCorrectness\n",
    "\n",
    "\n",
    "evaluation_dataset = EvaluationDataset.from_list(dataset)\n",
    "evaluator_llm = LangchainLLMWrapper(ChatOpenAI(model=\"gpt-4.1-nano\"))"
   ]
  },
  {
   "cell_type": "code",
   "execution_count": 89,
   "metadata": {},
   "outputs": [
    {
     "name": "stderr",
     "output_type": "stream",
     "text": [
      "Evaluating: 100%|██████████| 60/60 [00:40<00:00,  1.48it/s]\n"
     ]
    },
    {
     "data": {
      "text/plain": [
       "{'context_recall': 0.8309, 'faithfulness': 0.7652, 'factual_correctness(mode=f1)': 0.5640}"
      ]
     },
     "execution_count": 89,
     "metadata": {},
     "output_type": "execute_result"
    }
   ],
   "source": [
    "result = evaluate(dataset=evaluation_dataset,metrics=[LLMContextRecall(), Faithfulness(), FactualCorrectness()],llm=evaluator_llm)\n",
    "result\n"
   ]
  },
  {
   "cell_type": "code",
   "execution_count": 90,
   "metadata": {},
   "outputs": [
    {
     "name": "stdout",
     "output_type": "stream",
     "text": [
      "Evaluation results uploaded! View at https://app.ragas.io/dashboard/alignment/evaluation/19f63fdc-25cd-47c1-ba08-4f202fc14ff9\n"
     ]
    },
    {
     "data": {
      "text/plain": [
       "'https://app.ragas.io/dashboard/alignment/evaluation/19f63fdc-25cd-47c1-ba08-4f202fc14ff9'"
      ]
     },
     "execution_count": 90,
     "metadata": {},
     "output_type": "execute_result"
    }
   ],
   "source": [
    "result.upload() "
   ]
  }
 ],
 "metadata": {
  "kernelspec": {
   "display_name": "nlp_course_prj",
   "language": "python",
   "name": "python3"
  },
  "language_info": {
   "codemirror_mode": {
    "name": "ipython",
    "version": 3
   },
   "file_extension": ".py",
   "mimetype": "text/x-python",
   "name": "python",
   "nbconvert_exporter": "python",
   "pygments_lexer": "ipython3",
   "version": "3.12.8"
  }
 },
 "nbformat": 4,
 "nbformat_minor": 2
}
