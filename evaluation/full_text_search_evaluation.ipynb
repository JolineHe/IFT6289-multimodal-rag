{
 "cells": [
  {
   "cell_type": "code",
   "execution_count": 175,
   "metadata": {},
   "outputs": [],
   "source": [
    "import sys\n",
    "import os\n",
    "\n",
    "# 获取当前notebook的绝对路径\n",
    "current_dir = os.path.abspath('')\n",
    "# 获取项目根目录的路径（src的父目录）\n",
    "project_root = os.path.dirname(os.path.dirname(current_dir))\n",
    "sys.path.append(project_root)\n",
    "\n"
   ]
  },
  {
   "cell_type": "markdown",
   "metadata": {},
   "source": [
    "### Get random properties as test set"
   ]
  },
  {
   "cell_type": "code",
   "execution_count": 176,
   "metadata": {},
   "outputs": [],
   "source": [
    "import random\n",
    "from typing import Any, Dict, List, Tuple\n",
    "from src.utils.mongodb import get_collection\n",
    "\n",
    "\n",
    "def get_random_properties(num_properties: int = 20) -> Tuple[List[Dict[str, Any]], List[int]]:\n",
    "    collection = get_collection()\n",
    "    \n",
    "    # Get total count of documents\n",
    "    total_docs = collection.count_documents({})\n",
    "    \n",
    "    # Generate random indices\n",
    "    random_indices = random.sample(range(total_docs), min(num_properties, total_docs))\n",
    "    \n",
    "    # Get random documents\n",
    "    properties = []\n",
    "    ids = []\n",
    "    for idx in random_indices:\n",
    "        doc = collection.find().skip(idx).limit(1).next()\n",
    "        properties.append({\n",
    "            'id': doc.get('_id', ''),\n",
    "            'name': doc.get('name', ''),\n",
    "            'summary': doc.get('summary', ''),\n",
    "            'description': doc.get('description', '')          \n",
    "        })\n",
    "        ids.append(doc.get('_id', ''))\n",
    "    return properties, ids"
   ]
  },
  {
   "cell_type": "code",
   "execution_count": 177,
   "metadata": {},
   "outputs": [
    {
     "data": {
      "text/plain": [
       "({'id': 16281923,\n",
       "  'name': '北角公寓 单人间',\n",
       "  'summary': '北角 购物交通都很便利｡房间干净 自己住的房子',\n",
       "  'description': '北角 购物交通都很便利｡房间干净 自己住的房子'},\n",
       " [16281923,\n",
       "  26048057,\n",
       "  1520042,\n",
       "  14434534,\n",
       "  32100680,\n",
       "  27989463,\n",
       "  9516607,\n",
       "  3374964,\n",
       "  28358504,\n",
       "  28121603,\n",
       "  7080271,\n",
       "  1143151,\n",
       "  3544610,\n",
       "  8847051,\n",
       "  152645,\n",
       "  944736,\n",
       "  13702313,\n",
       "  17164830,\n",
       "  6027345,\n",
       "  1182475])"
      ]
     },
     "execution_count": 177,
     "metadata": {},
     "output_type": "execute_result"
    }
   ],
   "source": [
    "random_properties, random_property_ids = get_random_properties(20)\n",
    "random_properties[0], random_property_ids\n"
   ]
  },
  {
   "cell_type": "markdown",
   "metadata": {},
   "source": [
    "### Generate queries for these properties"
   ]
  },
  {
   "cell_type": "code",
   "execution_count": 178,
   "metadata": {},
   "outputs": [],
   "source": [
    "from langchain.prompts import ChatPromptTemplate\n",
    "from langchain_openai import ChatOpenAI\n",
    "user_llm = ChatOpenAI(model=\"gpt-4.1-nano\", temperature=0.5)\n",
    "\n",
    "\n",
    "def generate_query_for_property(property_info: Dict[str, str]) -> str:\n",
    "    \"\"\"Generate a query for a property using LLM.\"\"\"\n",
    "    prompt = ChatPromptTemplate.from_messages([\n",
    "        (\"system\", \"You are a helpful assistant that generates search queries for Airbnb properties.\"),\n",
    "        (\"human\", \"\"\"\n",
    "        Based on the following Airbnb property information, generate a query that a potential guest might use to search for this property, such as \"I want to stay in a house with a pool, a kitchen, and a balcony ...\". \n",
    "        This query should be concise and corresponding to the property information, and should not be a question. Focus on the unique aspects mentioned in the summary. Query should between 30 and 50 words.\n",
    "        The query should be in the same language as the summary.\n",
    "        Summary: {summary}\n",
    "        \n",
    "        Query: \"\"\")\n",
    "    ])\n",
    "    \n",
    "    chain = prompt | user_llm\n",
    "    response = chain.invoke({\n",
    "        \"summary\": property_info['summary']\n",
    "    })\n",
    "    return response.content.strip()"
   ]
  },
  {
   "cell_type": "code",
   "execution_count": 179,
   "metadata": {},
   "outputs": [],
   "source": [
    "def generate_queries(properties: List[Dict[str, str]]) -> List[Dict[str, str]]:     \n",
    "    # Generate queries for each property\n",
    "    results = []\n",
    "    for property_info in properties:\n",
    "        query = generate_query_for_property(property_info)\n",
    "        results.append({\n",
    "            'id': property_info['id'],\n",
    "            'name': property_info['name'],\n",
    "            'summary': property_info['summary'],    \n",
    "            'description': property_info['description'],\n",
    "            'generated_query': query\n",
    "        })\n",
    "    return results"
   ]
  },
  {
   "cell_type": "code",
   "execution_count": 180,
   "metadata": {},
   "outputs": [],
   "source": [
    "random_properties_and_queries = generate_queries(random_properties)"
   ]
  },
  {
   "cell_type": "code",
   "execution_count": 181,
   "metadata": {},
   "outputs": [
    {
     "data": {
      "text/plain": [
       "[{'id': 16281923,\n",
       "  'name': '北角公寓 单人间',\n",
       "  'summary': '北角 购物交通都很便利｡房间干净 自己住的房子',\n",
       "  'description': '北角 购物交通都很便利｡房间干净 自己住的房子',\n",
       "  'generated_query': '北角便利的购物和交通，干净的房间，适合自己入住的舒适住宿环境。'},\n",
       " {'id': 26048057,\n",
       "  'name': 'The Tiny Boho',\n",
       "  'summary': 'The Tiny Boho, um cantinho com terraço, situado a 3 minutos a pé da Rotunda da Boavista, a 300 metros da Casa da Música e a 400 metros do Mercado do Bom Sucesso. O Museu Nacional Soares dos Reis fica a 16 minutos a pé do apartamento, enquanto o Museu do Eléctrico está a 1,4 km. A 10 minutos de carro do museu Serralves e do Parque da cidade. O aeroporto situa-se a 9 km. É uma excelente escolha entre viajantes que estão interessados em arquitetura, caminhadas na cidade e degustar vinho.',\n",
       "  'description': 'The Tiny Boho, um cantinho com terraço, situado a 3 minutos a pé da Rotunda da Boavista, a 300 metros da Casa da Música e a 400 metros do Mercado do Bom Sucesso. O Museu Nacional Soares dos Reis fica a 16 minutos a pé do apartamento, enquanto o Museu do Eléctrico está a 1,4 km. A 10 minutos de carro do museu Serralves e do Parque da cidade. O aeroporto situa-se a 9 km. É uma excelente escolha entre viajantes que estão interessados em arquitetura, caminhadas na cidade e degustar vinho. Estamos disponíveis para qualquer dúvida ou informação. Quer por telefone ou (Website hidden by Airbnb) supermercado em frente ao apartamento, centro comercial a 3 minutos a pé. Zona com todo o tipo de transportes públicos disponíveis. Super central, com tudo o que precisa, está a 5minutos de metro do centro histórico da cidade. Estacionamento pago na rua. Estação de metro \"Casa da Música\" a 2min de distância a pé.',\n",
       "  'generated_query': 'Procuro um apartamento com terraço perto da Rotunda da Boavista, Casa da Música e Mercado do Bom Sucesso, ideal para explorar arquitetura, fazer caminhadas urbanas e degustar vinho, com fácil acesso ao aeroporto e atrações culturais como museus e parques na cidade.'},\n",
       " {'id': 1520042,\n",
       "  'name': 'Glorias:Sagrada Familia 15minutes, Beach 20minutes',\n",
       "  'summary': '-  70 m2       -  3 bedrooms      - 1 Double Room , king size bed      - 2 individual room      - 2 Sofa bed      - Powerful  AA      - 2 lifts      - Big comercial center in front flat',\n",
       "  'description': \"-  70 m2       -  3 bedrooms      - 1 Double Room , king size bed      - 2 individual room      - 2 Sofa bed      - Powerful  AA      - 2 lifts      - Big comercial center in front flat - Wiffi 20 mb  - Washingmachine - Hairdryer - Iron - Iron Table - Wii for the kids - Internet TV I would send you information about the sites to visit if you coming by car you have a parking at 5 minutes and with the same card you could be able to park at 50 parkings at the city. I would be at the flat waiting for you arrive and give the keys , and I explaind the flat for you. There´s the posibility to buy a sim card at the Phone House in Glories Comercial Center , with 500 mb to use de (SENSITIVE CONTENTS HIDDEN) maps during you visit . And see the (SENSITIVE CONTENTS HIDDEN) map I send you for you visit. Eaven you cand loaded the wasap aplication at your device and get in touch with me during your holiday's for any question. You have a underground stop Glorias at 5 minutes from the flat , the bus turi\",\n",
       "  'generated_query': 'Spacious 70 m2 apartment with 3 bedrooms, including a king size double room, two individual rooms, and two sofa beds, equipped with powerful AC, accessible via two lifts, located opposite a large commercial center for shopping and dining.'},\n",
       " {'id': 14434534,\n",
       "  'name': 'Luxurious, bright, spacious Plaza Catalunya',\n",
       "  'summary': 'Magnificent apartment situated in the heart of Barcelona. Located in a prestigious building with concierge next to Rambla de Cataluña, this apartment is the ideal choice to accomodate up to 6 people. The apartment is composed by an entrance hall, living room, dining room and a fully equipped kitchen with all the kitchen utensils. There are 2 dormitories with 2 single beds, a big bedroom with a double bed and two bathrooms.  Tourist licence HUTB - 003179.',\n",
       "  'description': 'Magnificent apartment situated in the heart of Barcelona. Located in a prestigious building with concierge next to Rambla de Cataluña, this apartment is the ideal choice to accomodate up to 6 people. The apartment is composed by an entrance hall, living room, dining room and a fully equipped kitchen with all the kitchen utensils. There are 2 dormitories with 2 single beds, a big bedroom with a double bed and two bathrooms.  Tourist licence HUTB - 003179. This magnificent apartment is situated in the heart of Barcelona, located in a prestigious building with concierge next to Rambla de Cataluña and the famous street of Passeig de Gracia. This fully renovated property offers wide spaces and a sunny living room thank to its bay window. Ideal to accommodate 6 people, the apartment is composed by an entrance hall, living room, dining room and a fully equipped kitchen with all the kitchen utensils. There are 2 dormitories with 2 single beds, a big bedroom with a double bed and two bathrooms.',\n",
       "  'generated_query': 'Spacious apartment in a prestigious building in central Barcelona with concierge, near Rambla de Cataluña, accommodating up to 6 people, featuring 2 bedrooms with single beds, a large double bedroom, a fully equipped kitchen, living and dining areas, and two bathrooms.'},\n",
       " {'id': 32100680,\n",
       "  'name': 'Cozy Apartment by the BEACH! Perfect Holidays!',\n",
       "  'summary': 'Full 1 room apartment 100m by the beach. 5min Walking from the city center and all the facilities you might need. Supermarket, Restaurants, Small typical markets during the summer, shopping streets, Hospital,... Everything 5 min walking distance. The flat is fully furnished and ready to fill all your needs during your holidays.  Ideal for 1 couple or 1 couple with 1 child. For the 3rd person (child), we have the living room sofa or request an inflatable mattress on your booking.',\n",
       "  'description': 'Full 1 room apartment 100m by the beach. 5min Walking from the city center and all the facilities you might need. Supermarket, Restaurants, Small typical markets during the summer, shopping streets, Hospital,... Everything 5 min walking distance. The flat is fully furnished and ready to fill all your needs during your holidays.  Ideal for 1 couple or 1 couple with 1 child. For the 3rd person (child), we have the living room sofa or request an inflatable mattress on your booking. 1 Bedroom with a Kingsized bed, 1 big Living room with 1 sofa (or inflatable mattress by request),  1 big Kitchen where you find all the gear to cook, 1 bathroom complete. We will have someone 24/7 able to help you with any question or request. The keys are handed delivered so you can meet us or someone assigned by us to make it for you. We have a pick me point ready to solve any question you might have. The flat is 100m from the beach, literally 30 seconds walking for the most popular beach in Vila do Conde. V',\n",
       "  'generated_query': 'Comfortable 1-room apartment just 100m from the beach, walking distance to city center, supermarkets, restaurants, markets, shopping streets, and hospital, fully furnished, ideal for a couple or family with a child, with sofa bed or inflatable mattress available.'},\n",
       " {'id': 27989463,\n",
       "  'name': '3Bed/2Bath on the Kailua Canal + Full Size Laundry',\n",
       "  'summary': 'Waterfront on the canal!  Wake up on the water and be walking distance to the beach. We are located just outside of downtown Kailua- a beach town situated along one of the best stretches of sand in the country. We have split our two story home to make a comfortable place for you to stay and enjoy.   This unit is directly above our second AirBnB unit, which may or may not be rented during your stay. Or, might we suggest, grabbing your best friend and renting them both :)',\n",
       "  'description': 'Waterfront on the canal!  Wake up on the water and be walking distance to the beach. We are located just outside of downtown Kailua- a beach town situated along one of the best stretches of sand in the country. We have split our two story home to make a comfortable place for you to stay and enjoy.   This unit is directly above our second AirBnB unit, which may or may not be rented during your stay. Or, might we suggest, grabbing your best friend and renting them both :) E Komo Mai (Welcome!) We hope you have the best time staying and playing here in Hawaii- and that you leave with many fond memories of you time on this beautiful island. There are SO many wonderful things about beautiful Hawaii nei: It has some of the best beaches in the world, oceans the color of jade and emerald, waterfalls to hike to, a year-round verdant green jungle- whats not to love! This unit is WATERFRONT on the canal and a short walk (0.6m) to the beach. This home is immaculate and ready to be your little slic',\n",
       "  'generated_query': 'Waterfront home on the canal near Kailua beach, walking distance to the sand, with a comfortable two-story layout, ideal for relaxing by the water and exploring the vibrant beach town, perfect for a peaceful getaway or a fun group stay.'},\n",
       " {'id': 9516607,\n",
       "  'name': 'Characterful Heritage Building in a Prime Location in Sydney',\n",
       "  'summary': 'Wake up on the super king-size bed in the master bedroom that has a raw industrial look and an eye-catching wine cellar. This 3-storey heritage home boasts spacious open living with a cozy courtyard and exposed brickwork by the dormer window.',\n",
       "  'description': 'Wake up on the super king-size bed in the master bedroom that has a raw industrial look and an eye-catching wine cellar. This 3-storey heritage home boasts spacious open living with a cozy courtyard and exposed brickwork by the dormer window.',\n",
       "  'generated_query': 'Spacious 3-storey heritage home with a raw industrial master bedroom featuring a super king-size bed, eye-catching wine cellar, open living area, cozy courtyard, and exposed brickwork by the dormer window.'},\n",
       " {'id': 3374964,\n",
       "  'name': '2 quartos no Centro - Arcos da Lapa em frente!',\n",
       "  'summary': 'apartamento na',\n",
       "  'description': 'apartamento na',\n",
       "  'generated_query': 'apartamento na cidade com acesso fácil a transporte público, cozinha moderna, Wi-Fi rápido, ar-condicionado, perto de atrações turísticas, ambiente confortável e seguro, ideal para viagens de lazer ou negócios'},\n",
       " {'id': 28358504,\n",
       "  'name': 'Perfectly located studio in Montreal.',\n",
       "  'summary': \"Studio idéalement situé à Montréal au milieu du Plateau et du Village, dans un immeuble qui communique directement avec le métro Sherbrooke, station de bus au pied de l'immeuble (Ligne 24, 30) bus 747 pour l'aéroport à 7min à pieds, épicerie à 5min à pieds. Perfectly located studio in Montréal in the middle of the Plateau and the Village, in a building which is directly connected with the Sherbrooke metro station, bus Station down the building Line (Phone number hidden by Airbnb) from the airport 7min away walking.\",\n",
       "  'description': \"Studio idéalement situé à Montréal au milieu du Plateau et du Village, dans un immeuble qui communique directement avec le métro Sherbrooke, station de bus au pied de l'immeuble (Ligne 24, 30) bus 747 pour l'aéroport à 7min à pieds, épicerie à 5min à pieds. Perfectly located studio in Montréal in the middle of the Plateau and the Village, in a building which is directly connected with the Sherbrooke metro station, bus Station down the building Line (Phone number hidden by Airbnb) from the airport 7min away walking.\",\n",
       "  'generated_query': \"Cherche studio idéalement situé à Montréal, au cœur du Plateau et du Village, avec accès direct au métro Sherbrooke, proximité d'une station de bus pour l'aéroport, épicerie à pied, parfait pour explorer la ville facilement et rapidement.\"},\n",
       " {'id': 28121603,\n",
       "  'name': 'Light Loft | Walk to the Beach | Free Parking',\n",
       "  'summary': \"This bright apartment is located in Barca's most upcoming neighbourhood. Walk along the street and you will reach Barca's finest beach. So you easily get a glimp of Barca's vibrant beach life. Close to the metro station, Glories Shopping mall & the beautiful Sagrada Familia. Also Ramblas, Gothica and El Born are closeby. In these historical streets you enjoy the best original spanish tapas! Ideal place for families.  It is our pleasure to make sure you have a unforgetable stay!\",\n",
       "  'description': \"This bright apartment is located in Barca's most upcoming neighbourhood. Walk along the street and you will reach Barca's finest beach. So you easily get a glimp of Barca's vibrant beach life. Close to the metro station, Glories Shopping mall & the beautiful Sagrada Familia. Also Ramblas, Gothica and El Born are closeby. In these historical streets you enjoy the best original spanish tapas! Ideal place for families.  It is our pleasure to make sure you have a unforgetable stay!\",\n",
       "  'generated_query': 'Bright apartment in trendy Barcelona neighborhood near the beach, Sagrada Familia, Glories Shopping Mall, and vibrant historic streets like Ramblas, Gothica, and El Born, with easy metro access. Perfect for families seeking a lively, authentic Spanish experience close to attractions and beaches.'},\n",
       " {'id': 7080271,\n",
       "  'name': 'Bosphorus House 1',\n",
       "  'summary': 'Cute and lovely boutique apart for 3 persons. 1 extra bed is avaliable for this apart making it suitable up to 4 persons. A cosy place for those who seek quiet and decent environment, near activities. The apartment is near Beyoglu.',\n",
       "  'description': 'Cute and lovely boutique apart for 3 persons. 1 extra bed is avaliable for this apart making it suitable up to 4 persons. A cosy place for those who seek quiet and decent environment, near activities. The apartment is near Beyoglu.',\n",
       "  'generated_query': 'Cozy boutique apartment for 3-4 people near Beyoglu, quiet and charming environment, suitable for relaxing stays, with an extra bed option, perfect for those seeking a peaceful and decent place close to activities.'},\n",
       " {'id': 1143151,\n",
       "  'name': 'Harbourside Apartment - Water Views',\n",
       "  'summary': 'This one bedroom apartment is bright and airy with unique views of the Sydney Harbour Bridge, Sydney Harbour and surrounding North Sydney and Kirribilli. One Queen Bed + Sofa Bed, wifi, balcony, undercover parking, 5 minutes to Ferry wharf, 7 minutes to Milsons Point train station, 2 minutes to bus.',\n",
       "  'description': 'This one bedroom apartment is bright and airy with unique views of the Sydney Harbour Bridge, Sydney Harbour and surrounding North Sydney and Kirribilli. One Queen Bed + Sofa Bed, wifi, balcony, undercover parking, 5 minutes to Ferry wharf, 7 minutes to Milsons Point train station, 2 minutes to bus. This apartment is quiet, neat and compact, with a newly renovated kitchen and bathroom and a great balcony for entertaining or just taking in the view. There is also a common grassed area just beneath the apartment with views of the Harbour Bridge as well which is excellent for picnics.  The apartment has a Queen Bed in the bedroom but also a Double Sofa Bed which would be fine for occasional guests or perhaps a child, though the apartment is ideal for 1-2 adults. There is a flat screen TV, DVD player, fully equipped kitchen, table and chairs (in the main room, plus an outdoor table and chairs on the balcony) ceiling fans, heaters and wireless internet access, as well as a common coin opera',\n",
       "  'generated_query': 'Bright one-bedroom apartment with stunning views of Sydney Harbour Bridge and Harbour, balcony, wifi, undercover parking, close to ferry wharf, train station, and bus, featuring a Queen Bed and sofa bed, ideal for a scenic and convenient stay in North Sydney.'},\n",
       " {'id': 3544610,\n",
       "  'name': 'Apartment near the US Open',\n",
       "  'summary': \"Two bedroom apartment for rent with a king bed, very large closet in a very cozy apartment. Air conditioner in room, cable, wireless Internet and air conditioning. $200 a day. If you'd like just the room rental it is also available.\",\n",
       "  'description': \"Two bedroom apartment for rent with a king bed, very large closet in a very cozy apartment. Air conditioner in room, cable, wireless Internet and air conditioning. $200 a day. If you'd like just the room rental it is also available. air conditioner in the entire apartment. access to the entire apartment except one bedroom.  High speed Wifi available Minimal everything is walking distance. post office, varity of supermarkets, gym, shopping center. pier1 imports, century 21, khols , tjmax, sears, marshall, red mango, Ales Miller house, Queens center mall. Pool in building and 2 other pools in the area. walking distance from flushing medow park, 10 min walk to the train. US Open near by Q72 and Q88 R and M train to 63 drive rego park If you would just like to rent one room for the night it is available for 100 a night.\",\n",
       "  'generated_query': 'Two-bedroom apartment with a king bed, large closet, air conditioning in the room, cable TV, wireless internet, cozy atmosphere, available for daily rent or just the room, affordable at $200 a day.'},\n",
       " {'id': 8847051,\n",
       "  'name': 'Classic villeray apartment',\n",
       "  'summary': 'Hi! I have a simple room in a gigantic apartment for rent. w/ queen size bed, private parking, basement, kitchen /dining room backyard access, 800m to metro. email for info. We speak French, english, spanish and chinese. À plus tard!',\n",
       "  'description': 'Hi! I have a simple room in a gigantic apartment for rent. w/ queen size bed, private parking, basement, kitchen /dining room backyard access, 800m to metro. email for info. We speak French, english, spanish and chinese. À plus tard!',\n",
       "  'generated_query': 'Comfortable room in large apartment with queen bed, private parking, basement, kitchen, dining area, backyard access, near metro, multilingual hosts, affordable stay, convenient location for exploring the city.'},\n",
       " {'id': 152645,\n",
       "  'name': \"P'ville Studio-NOT a shared space\",\n",
       "  'summary': 'Our Studio has ceramic tiled floors and a large porcelain tiled shower. All the ceiling areas have been filled with insulation and faced with 2-ply bamboo. Our studio is located at Sandpiper Village I. The Sandpiper grounds boast beautiful mature landscaping and a recently renovated pool complex with a large tile-bottomed pool plus a good size jacuzzi and two Webber gas grills. My studio is less than a minute walk to the pool. HI TAX ID: TA (Phone number hidden by Airbnb) HI TAX ID: GE (Phone number hidden by Airbnb)',\n",
       "  'description': 'Our Studio has ceramic tiled floors and a large porcelain tiled shower. All the ceiling areas have been filled with insulation and faced with 2-ply bamboo. Our studio is located at Sandpiper Village I. The Sandpiper grounds boast beautiful mature landscaping and a recently renovated pool complex with a large tile-bottomed pool plus a good size jacuzzi and two Webber gas grills. My studio is less than a minute walk to the pool. HI TAX ID: TA (Phone number hidden by Airbnb) HI TAX ID: GE (Phone number hidden by Airbnb) You will find our rental rates on Airbnb to be very competitive and include Hawaii taxes. Our rates are also structured with discounts based on length-of-stay beginning with seven nights or more. Our Studio is completley renovated with ceramic tiled floors and a large porcelain tiled shower. All the ceiling areas have been filled with insulation and faced with 2-ply bamboo. Along with fresh paint throughout, all electrical outlets and switches have been replaced and additi',\n",
       "  'generated_query': 'A studio with ceramic tiled floors, a large porcelain tiled shower, bamboo-insulated ceilings, and access to a renovated pool complex with a large pool, jacuzzi, and Weber gas grills, located in Sandpiper Village I near beautiful landscaped grounds.'},\n",
       " {'id': 944736,\n",
       "  'name': 'Best View In Maui Steps from the Beach',\n",
       "  'summary': \"Wake up to the sounds of tropical birds singing, waves crashing - breath taking ocean views and sunsets daily during your stay in Maui. This is a very private and quiet condo end unit with great neighbors and one of the closest units with an ocean front view in the Ekahi Village. With beach and pool access, you'll be able to experience Maui to the fullest! We look forward to sharing our unit and the aloha spirit with you.\",\n",
       "  'description': \"Wake up to the sounds of tropical birds singing, waves crashing - breath taking ocean views and sunsets daily during your stay in Maui. This is a very private and quiet condo end unit with great neighbors and one of the closest units with an ocean front view in the Ekahi Village. With beach and pool access, you'll be able to experience Maui to the fullest! We look forward to sharing our unit and the aloha spirit with you. Located in the Wailea Ekahi Village - 29F has sweeping ocean views and is one of the best condos in Maui. The private remodeled end unit is best suited for quiet couples looking for a home away from home. However, we are now welcoming families spend their vacations with us! Children can sleep on the pull-out couch in the living room, while you can enjoy a stunning master bedroom with a private bathroom.  The Master bedroom has a completely redesigned bath/dressing area with walk in tile and glass shower. The second bathroom also features a walk-in shower with glass wa\",\n",
       "  'generated_query': 'Experience a private, quiet oceanfront condo in Maui with breathtaking ocean views, daily sunsets, tropical bird sounds, beach and pool access, and a serene end-unit location in Ekahi Village, perfect for enjoying the aloha spirit and ultimate relaxation.'},\n",
       " {'id': 13702313,\n",
       "  'name': 'Bright room in Spacious house close to Airport',\n",
       "  'summary': 'My home is close to the Airport (5.2km - no Airport noise) and St George Hospital (2.5km), it is half a block from the beach, 15 min walk to the Novotel Hotel in  Brighton Le sands where you can also find an abundance of restaurants, cafes and shops. You’ll love my place because of the light, airy room in our spacious house and your own  bathroom. My place is good for couples, solo adventurers and business travellers. We are on the 3rd floor with no lift.',\n",
       "  'description': 'My home is close to the Airport (5.2km - no Airport noise) and St George Hospital (2.5km), it is half a block from the beach, 15 min walk to the Novotel Hotel in  Brighton Le sands where you can also find an abundance of restaurants, cafes and shops. You’ll love my place because of the light, airy room in our spacious house and your own  bathroom. My place is good for couples, solo adventurers and business travellers. We are on the 3rd floor with no lift. Angela and Coby Welcomes You To Monterey The Room:  A bright and airy room awaits you which features: A Double size bed in a private room Desk Access to unlimited Wi-Fi Internet Kitchen Dining room Balcony Laundry service (I will do your washing for you at no charge - its a big machine,  and I am washing everyday so easier for me to do for you.) Bedroom, main bathroom, kitchen, dining room, balcony and laundry (baskets on top of laundry cupboard to put your dirty washing in, I will return it outside your bedroom door when dry). My son',\n",
       "  'generated_query': 'Bright, airy private room with own bathroom near the beach, just half a block away, close to restaurants, cafes, and shops in Brighton Le Sands, 5.2km from the airport and 2.5km from St George Hospital, suitable for couples, solo travelers, and business visitors.'},\n",
       " {'id': 17164830,\n",
       "  'name': 'Apartamento de 30m2 no coração de Santa Teresa',\n",
       "  'summary': 'Apartamento de 30m2, em uma casa c/ 6 apartamentos, localizada no centro de Santa Teresa.',\n",
       "  'description': 'Apartamento de 30m2, em uma casa c/ 6 apartamentos, localizada no centro de Santa Teresa. O aprtamento tem configuração de um mini-loft, com os espaços integrados. É bem luminoso e possui um balcão com vista para a rua.',\n",
       "  'generated_query': 'Apartamento de 30m2 em casa com 6 unidades, localizado no centro de Santa Teresa, ideal para quem busca hospedagem confortável, prática e próxima às atrações do bairro histórico.'},\n",
       " {'id': 6027345,\n",
       "  'name': 'Newly renovated historic brownstone',\n",
       "  'summary': \"This spacious apartment in a historic brownstone has 3 double bedrooms, and 1 and 1/2 bathrooms. The room has two windows and a closet. It's a beautiful garden unit in a recently renovated brownstone with old character and new finishing.\",\n",
       "  'description': \"This spacious apartment in a historic brownstone has 3 double bedrooms, and 1 and 1/2 bathrooms. The room has two windows and a closet. It's a beautiful garden unit in a recently renovated brownstone with old character and new finishing. This spacious apartment in a historic brownstone has 3 double bedrooms, and 1 and 1/2 bathrooms. The room has two windows and a closet. It's a beautiful garden unit in a recently renovated brownstone with old character and new finishing, included in the Bedford Historic District. Everything is brand new including the central air and heat, marble bathroom, stainless steel appliances, and hardwood floors, as well as exposed brick throughout. The neighborhood is gorgeous on a charming brownstone street, close to plenty of hotspots on Tompkins, Franklin and Bedford Avenues (Hothouse, Saraghina (best Italian in all of NYC), bakeries, new restaurants, coffee shops and boutiques. Metro stations Nostrand (A/C) or Bedford-Nostrand (G). It's a rather extraordina\",\n",
       "  'generated_query': 'Spacious garden apartment in a historic brownstone with 3 double bedrooms, 1.5 bathrooms, two windows, closet, recently renovated with old character and modern finishes, perfect for a comfortable stay.'},\n",
       " {'id': 1182475,\n",
       "  'name': 'Beyoğlunda Şirin Kullanışlı Stüdyo2',\n",
       "  'summary': '',\n",
       "  'description': \"Beyoğlun'a 2 dk mesafede, Merkezi lokasyonda, şirin, son derece kullanışlı, her ihtiyacınızı karşılayacak, müthiş bir tarihi stüdyo, (1+0 - 10m2). Bina önden 4 katlı,  arkadan 5 katlı'dır. Stüdyo 2, girişin alt katında, arka tarafın zemin hizasındadır, (Stüdyo, girişin alt katındadır). Minimal kullanım alanı fakat, mutfak ve her türlü mutfak gereci, bir banyo, bir oturma grubu ile  ihtiyacınız olan her şey. Size kalan rezervasyon yapmak ve neredeyse bedava konaklamanın keyfini çıkarmak...\",\n",
       "  'generated_query': 'Cozy apartment with modern amenities, beachfront location, private balcony with ocean views, fully equipped kitchen, high-speed Wi-Fi, and close to local attractions for a relaxing and convenient seaside stay.'}]"
      ]
     },
     "execution_count": 181,
     "metadata": {},
     "output_type": "execute_result"
    }
   ],
   "source": [
    "random_properties_and_queries"
   ]
  },
  {
   "cell_type": "code",
   "execution_count": 182,
   "metadata": {},
   "outputs": [
    {
     "data": {
      "text/plain": [
       "['北角便利的购物和交通，干净的房间，适合自己入住的舒适住宿环境。',\n",
       " 'Procuro um apartamento com terraço perto da Rotunda da Boavista, Casa da Música e Mercado do Bom Sucesso, ideal para explorar arquitetura, fazer caminhadas urbanas e degustar vinho, com fácil acesso ao aeroporto e atrações culturais como museus e parques na cidade.',\n",
       " 'Spacious 70 m2 apartment with 3 bedrooms, including a king size double room, two individual rooms, and two sofa beds, equipped with powerful AC, accessible via two lifts, located opposite a large commercial center for shopping and dining.',\n",
       " 'Spacious apartment in a prestigious building in central Barcelona with concierge, near Rambla de Cataluña, accommodating up to 6 people, featuring 2 bedrooms with single beds, a large double bedroom, a fully equipped kitchen, living and dining areas, and two bathrooms.',\n",
       " 'Comfortable 1-room apartment just 100m from the beach, walking distance to city center, supermarkets, restaurants, markets, shopping streets, and hospital, fully furnished, ideal for a couple or family with a child, with sofa bed or inflatable mattress available.',\n",
       " 'Waterfront home on the canal near Kailua beach, walking distance to the sand, with a comfortable two-story layout, ideal for relaxing by the water and exploring the vibrant beach town, perfect for a peaceful getaway or a fun group stay.',\n",
       " 'Spacious 3-storey heritage home with a raw industrial master bedroom featuring a super king-size bed, eye-catching wine cellar, open living area, cozy courtyard, and exposed brickwork by the dormer window.',\n",
       " 'apartamento na cidade com acesso fácil a transporte público, cozinha moderna, Wi-Fi rápido, ar-condicionado, perto de atrações turísticas, ambiente confortável e seguro, ideal para viagens de lazer ou negócios',\n",
       " \"Cherche studio idéalement situé à Montréal, au cœur du Plateau et du Village, avec accès direct au métro Sherbrooke, proximité d'une station de bus pour l'aéroport, épicerie à pied, parfait pour explorer la ville facilement et rapidement.\",\n",
       " 'Bright apartment in trendy Barcelona neighborhood near the beach, Sagrada Familia, Glories Shopping Mall, and vibrant historic streets like Ramblas, Gothica, and El Born, with easy metro access. Perfect for families seeking a lively, authentic Spanish experience close to attractions and beaches.',\n",
       " 'Cozy boutique apartment for 3-4 people near Beyoglu, quiet and charming environment, suitable for relaxing stays, with an extra bed option, perfect for those seeking a peaceful and decent place close to activities.',\n",
       " 'Bright one-bedroom apartment with stunning views of Sydney Harbour Bridge and Harbour, balcony, wifi, undercover parking, close to ferry wharf, train station, and bus, featuring a Queen Bed and sofa bed, ideal for a scenic and convenient stay in North Sydney.',\n",
       " 'Two-bedroom apartment with a king bed, large closet, air conditioning in the room, cable TV, wireless internet, cozy atmosphere, available for daily rent or just the room, affordable at $200 a day.',\n",
       " 'Comfortable room in large apartment with queen bed, private parking, basement, kitchen, dining area, backyard access, near metro, multilingual hosts, affordable stay, convenient location for exploring the city.',\n",
       " 'A studio with ceramic tiled floors, a large porcelain tiled shower, bamboo-insulated ceilings, and access to a renovated pool complex with a large pool, jacuzzi, and Weber gas grills, located in Sandpiper Village I near beautiful landscaped grounds.',\n",
       " 'Experience a private, quiet oceanfront condo in Maui with breathtaking ocean views, daily sunsets, tropical bird sounds, beach and pool access, and a serene end-unit location in Ekahi Village, perfect for enjoying the aloha spirit and ultimate relaxation.',\n",
       " 'Bright, airy private room with own bathroom near the beach, just half a block away, close to restaurants, cafes, and shops in Brighton Le Sands, 5.2km from the airport and 2.5km from St George Hospital, suitable for couples, solo travelers, and business visitors.',\n",
       " 'Apartamento de 30m2 em casa com 6 unidades, localizado no centro de Santa Teresa, ideal para quem busca hospedagem confortável, prática e próxima às atrações do bairro histórico.',\n",
       " 'Spacious garden apartment in a historic brownstone with 3 double bedrooms, 1.5 bathrooms, two windows, closet, recently renovated with old character and modern finishes, perfect for a comfortable stay.',\n",
       " 'Cozy apartment with modern amenities, beachfront location, private balcony with ocean views, fully equipped kitchen, high-speed Wi-Fi, and close to local attractions for a relaxing and convenient seaside stay.']"
      ]
     },
     "execution_count": 182,
     "metadata": {},
     "output_type": "execute_result"
    }
   ],
   "source": [
    "sample_queries = [property['generated_query'] for property in random_properties_and_queries]\n",
    "sample_queries"
   ]
  },
  {
   "cell_type": "code",
   "execution_count": 183,
   "metadata": {},
   "outputs": [],
   "source": [
    "from typing import Optional\n",
    "from pydantic import BaseModel, Field\n",
    "from typing import List, Dict, Any\n",
    "from src.data_models import Address, ImageDescrib\n",
    "import pandas as pd \n",
    "\n",
    "class SearchResultItem(BaseModel):\n",
    "    id: int = Field(alias='_id')\n",
    "    name: str\n",
    "    accommodates: Optional[int] = None\n",
    "    address: Address\n",
    "    summary: Optional[str] = None\n",
    "    description: Optional[str] = None\n",
    "    neighborhood_overview: Optional[str] = None\n",
    "    notes: Optional[str] = None\n",
    "    images: ImageDescrib\n",
    "    search_score: Optional[float] = None\n",
    "    reviews: Optional[List[Dict[str, Any]]] = None"
   ]
  },
  {
   "cell_type": "markdown",
   "metadata": {},
   "source": [
    "### Retrive top 10 most similar listings from database for each property"
   ]
  },
  {
   "cell_type": "code",
   "execution_count": 184,
   "metadata": {},
   "outputs": [],
   "source": [
    "\n",
    "class FullTextSearch():\n",
    "    def __init__(self, collection) -> None:\n",
    "        self.collection = collection\n",
    "\n",
    "    def _build_pipeline(self, query_text: str) -> list[dict]:\n",
    "        pipeline = [\n",
    "            {\n",
    "                \"$search\": {\n",
    "                    \"index\": \"full_text_search_index\", \n",
    "                    \"text\": {\n",
    "                        \"query\": query_text,\n",
    "                        \"path\": \"description\"\n",
    "                    }\n",
    "                }\n",
    "            },\n",
    "            {\n",
    "                \"$addFields\": {\n",
    "                    \"search_score\": {\"$meta\": \"searchScore\"}\n",
    "                }\n",
    "            },\n",
    "            {\n",
    "                \"$sort\": {\n",
    "                    \"search_score\": -1\n",
    "                }\n",
    "            },\n",
    "            {\"$limit\": 10}\n",
    "        ]\n",
    "        return pipeline\n",
    "\n",
    "    def do_search(self, user_query: str) -> list[dict]:\n",
    "        pipeline = self._build_pipeline(user_query)       \n",
    "        return self.collection.aggregate(pipeline)"
   ]
  },
  {
   "cell_type": "code",
   "execution_count": 185,
   "metadata": {},
   "outputs": [],
   "source": [
    "collection = get_collection()\n",
    "fulltext_searcher = FullTextSearch(collection)\n"
   ]
  },
  {
   "cell_type": "code",
   "execution_count": 186,
   "metadata": {},
   "outputs": [
    {
     "data": {
      "text/plain": [
       "0                              北角 购物交通都很便利｡房间干净 自己住的房子\n",
       "1    香港铭城宾馆(家庭旅馆)(MAIN SHING HOTEL)位于铜锣湾地铁站附近,与利园一期...\n",
       "2    特别干净和安静的楼房,独立卧室三菱冰箱松下微波炉全自动洗衣机家电齐全方便拎包入住｡地点位于中...\n",
       "3    省!通過此連結創建您的帳戶獲取$ 250HKD優惠券作為您的第一次旅行住宿折扣卷  http...\n",
       "4    此公寓为我们的明星房源,出自设计师之手,专业团队打造,全新装修,细节满溢心意｡ 适合商务出差...\n",
       "5    我的房子在悉尼hills區castle hill,附近️️大型商場,游泳健身中心和club,...\n",
       "6    公寓为酒店式公寓!位置优越!双口岸近会展!是赴港旅游和商务参展的首选目的地! 位置:位于福田...\n",
       "7    这是一间温馨的小屋,拥有着三个房间,其中两间是屋主的私人空间｡还有一间拥有独立私密睡房是您的...\n",
       "8    ★\\t我有故事,你有酒吗? 【旅途路上的小栈】是我在这个城市中的一片静谧之地｡Sam是一位帅...\n",
       "9    房间设施齐全,配备一个柔软舒适的1.5米双人床,舒适的四件套,适宜入住1-2个人｡房间整体设...\n",
       "Name: description, dtype: object"
      ]
     },
     "execution_count": 186,
     "metadata": {},
     "output_type": "execute_result"
    }
   ],
   "source": [
    "retrieved_results = []\n",
    "for query in sample_queries:\n",
    "    results = fulltext_searcher.do_search(query)\n",
    "    search_results_models = [SearchResultItem(**result)  for result in results]\n",
    "    search_results_df = pd.DataFrame([item.model_dump() for item in search_results_models])\n",
    "    retrieved_results.append(search_results_df)\n",
    "\n",
    "    \n",
    "retrieved_results[0]['description']"
   ]
  },
  {
   "cell_type": "code",
   "execution_count": 187,
   "metadata": {},
   "outputs": [],
   "source": [
    "retrieved_ids = []\n",
    "for result in retrieved_results:\n",
    "    retrieved_ids.append(result['id'].tolist())"
   ]
  },
  {
   "cell_type": "markdown",
   "metadata": {},
   "source": [
    "### Check if random property ids are in the top k retrieved ids"
   ]
  },
  {
   "cell_type": "code",
   "execution_count": 188,
   "metadata": {},
   "outputs": [
    {
     "data": {
      "text/plain": [
       "[array([1, 1, 1, 1]),\n",
       " array([1, 1, 1, 1]),\n",
       " array([1, 1, 1, 1]),\n",
       " array([1, 1, 1, 1]),\n",
       " array([1, 1, 1, 1]),\n",
       " array([1, 1, 1, 1]),\n",
       " array([1, 1, 1, 1]),\n",
       " array([0, 0, 0, 0]),\n",
       " array([1, 1, 1, 1]),\n",
       " array([1, 1, 1, 1]),\n",
       " array([1, 1, 1, 1]),\n",
       " array([1, 1, 1, 1]),\n",
       " array([1, 1, 1, 1]),\n",
       " array([0, 1, 1, 1]),\n",
       " array([1, 1, 1, 1]),\n",
       " array([1, 1, 1, 1]),\n",
       " array([1, 1, 1, 1]),\n",
       " array([1, 1, 1, 1]),\n",
       " array([1, 1, 1, 1]),\n",
       " array([0, 0, 0, 0])]"
      ]
     },
     "execution_count": 188,
     "metadata": {},
     "output_type": "execute_result"
    }
   ],
   "source": [
    "top_k_positions = []\n",
    "for i in range(len(retrieved_ids)):\n",
    "    top_k_positions.append(check_top_k_positions(retrieved_ids[i], random_property_ids[i]))\n",
    "    \n",
    "top_k_positions"
   ]
  },
  {
   "cell_type": "code",
   "execution_count": 189,
   "metadata": {},
   "outputs": [
    {
     "data": {
      "text/plain": [
       "(0.85, 0.9, 0.9, 0.9)"
      ]
     },
     "execution_count": 189,
     "metadata": {},
     "output_type": "execute_result"
    }
   ],
   "source": [
    "# Convert top_k_positions list to DataFrame\n",
    "top_k_df = pd.DataFrame(top_k_positions, columns=['top_1', 'top_3', 'top_5', 'top_10'])\n",
    "top_1 = sum(top_k_df['top_1'].tolist())/len(top_k_df)\n",
    "top_3 = sum(top_k_df['top_3'].tolist())/len(top_k_df)\n",
    "top_5 = sum(top_k_df['top_5'].tolist())/len(top_k_df)\n",
    "top_10 = sum(top_k_df['top_10'].tolist())/len(top_k_df)\n",
    "\n",
    "top_1, top_3, top_5, top_10"
   ]
  },
  {
   "cell_type": "markdown",
   "metadata": {},
   "source": [
    "### Using Ragas to evaluate the response by LLM\n",
    "- Context Recall \n",
    "- Faithfulness\n",
    "- Factual correctness"
   ]
  },
  {
   "cell_type": "markdown",
   "metadata": {},
   "source": [
    "Context Recall measures how many of the relevant documents (or pieces of information) were successfully retrieved. It focuses on not missing important results. Higher recall means fewer relevant documents were left out. In short, recall is about not missing anything important. Since it is about not missing anything, calculating context recall always requires a reference to compare against."
   ]
  },
  {
   "cell_type": "markdown",
   "metadata": {},
   "source": [
    "The Faithfulness metric measures how factually consistent a response is with the retrieved context. It ranges from 0 to 1, with higher scores indicating better consistency."
   ]
  },
  {
   "cell_type": "markdown",
   "metadata": {},
   "source": [
    "FactualCorrectness is a metric class that evaluates the factual correctness of responses generated by a language model. It uses claim decomposition and natural language inference (NLI) to verify the claims made in the responses against reference texts."
   ]
  },
  {
   "cell_type": "code",
   "execution_count": 190,
   "metadata": {},
   "outputs": [],
   "source": [
    "expected_responses = []\n",
    "for i in range(len(sample_queries)):\n",
    "    expected_responses.append(random_properties[i]['description'])\n"
   ]
  },
  {
   "cell_type": "code",
   "execution_count": 191,
   "metadata": {},
   "outputs": [
    {
     "data": {
      "text/plain": [
       "['北角 购物交通都很便利｡房间干净 自己住的房子',\n",
       " 'The Tiny Boho, um cantinho com terraço, situado a 3 minutos a pé da Rotunda da Boavista, a 300 metros da Casa da Música e a 400 metros do Mercado do Bom Sucesso. O Museu Nacional Soares dos Reis fica a 16 minutos a pé do apartamento, enquanto o Museu do Eléctrico está a 1,4 km. A 10 minutos de carro do museu Serralves e do Parque da cidade. O aeroporto situa-se a 9 km. É uma excelente escolha entre viajantes que estão interessados em arquitetura, caminhadas na cidade e degustar vinho. Estamos disponíveis para qualquer dúvida ou informação. Quer por telefone ou (Website hidden by Airbnb) supermercado em frente ao apartamento, centro comercial a 3 minutos a pé. Zona com todo o tipo de transportes públicos disponíveis. Super central, com tudo o que precisa, está a 5minutos de metro do centro histórico da cidade. Estacionamento pago na rua. Estação de metro \"Casa da Música\" a 2min de distância a pé.',\n",
       " \"-  70 m2       -  3 bedrooms      - 1 Double Room , king size bed      - 2 individual room      - 2 Sofa bed      - Powerful  AA      - 2 lifts      - Big comercial center in front flat - Wiffi 20 mb  - Washingmachine - Hairdryer - Iron - Iron Table - Wii for the kids - Internet TV I would send you information about the sites to visit if you coming by car you have a parking at 5 minutes and with the same card you could be able to park at 50 parkings at the city. I would be at the flat waiting for you arrive and give the keys , and I explaind the flat for you. There´s the posibility to buy a sim card at the Phone House in Glories Comercial Center , with 500 mb to use de (SENSITIVE CONTENTS HIDDEN) maps during you visit . And see the (SENSITIVE CONTENTS HIDDEN) map I send you for you visit. Eaven you cand loaded the wasap aplication at your device and get in touch with me during your holiday's for any question. You have a underground stop Glorias at 5 minutes from the flat , the bus turi\",\n",
       " 'Magnificent apartment situated in the heart of Barcelona. Located in a prestigious building with concierge next to Rambla de Cataluña, this apartment is the ideal choice to accomodate up to 6 people. The apartment is composed by an entrance hall, living room, dining room and a fully equipped kitchen with all the kitchen utensils. There are 2 dormitories with 2 single beds, a big bedroom with a double bed and two bathrooms.  Tourist licence HUTB - 003179. This magnificent apartment is situated in the heart of Barcelona, located in a prestigious building with concierge next to Rambla de Cataluña and the famous street of Passeig de Gracia. This fully renovated property offers wide spaces and a sunny living room thank to its bay window. Ideal to accommodate 6 people, the apartment is composed by an entrance hall, living room, dining room and a fully equipped kitchen with all the kitchen utensils. There are 2 dormitories with 2 single beds, a big bedroom with a double bed and two bathrooms.',\n",
       " 'Full 1 room apartment 100m by the beach. 5min Walking from the city center and all the facilities you might need. Supermarket, Restaurants, Small typical markets during the summer, shopping streets, Hospital,... Everything 5 min walking distance. The flat is fully furnished and ready to fill all your needs during your holidays.  Ideal for 1 couple or 1 couple with 1 child. For the 3rd person (child), we have the living room sofa or request an inflatable mattress on your booking. 1 Bedroom with a Kingsized bed, 1 big Living room with 1 sofa (or inflatable mattress by request),  1 big Kitchen where you find all the gear to cook, 1 bathroom complete. We will have someone 24/7 able to help you with any question or request. The keys are handed delivered so you can meet us or someone assigned by us to make it for you. We have a pick me point ready to solve any question you might have. The flat is 100m from the beach, literally 30 seconds walking for the most popular beach in Vila do Conde. V',\n",
       " 'Waterfront on the canal!  Wake up on the water and be walking distance to the beach. We are located just outside of downtown Kailua- a beach town situated along one of the best stretches of sand in the country. We have split our two story home to make a comfortable place for you to stay and enjoy.   This unit is directly above our second AirBnB unit, which may or may not be rented during your stay. Or, might we suggest, grabbing your best friend and renting them both :) E Komo Mai (Welcome!) We hope you have the best time staying and playing here in Hawaii- and that you leave with many fond memories of you time on this beautiful island. There are SO many wonderful things about beautiful Hawaii nei: It has some of the best beaches in the world, oceans the color of jade and emerald, waterfalls to hike to, a year-round verdant green jungle- whats not to love! This unit is WATERFRONT on the canal and a short walk (0.6m) to the beach. This home is immaculate and ready to be your little slic',\n",
       " 'Wake up on the super king-size bed in the master bedroom that has a raw industrial look and an eye-catching wine cellar. This 3-storey heritage home boasts spacious open living with a cozy courtyard and exposed brickwork by the dormer window.',\n",
       " 'Apartamento localizado no Leblon, Rio de Janeiro. Não somos um hotel, oferecemos um apartamento inteiro com todos os utensílios necessários pra uma perfeita estadia. 10 minutos da praia e 5 minutos do metrô à pé. Fácil acesso. Ambiente acolhedor. Simples, confortável, aconchegante, seguro e limpo. Quarto com ar condicionado. TV,  Netflix , WiFi, portaria 24h e também com monitoramento por imagem. Excelente localização, próximo de mercado, fármacia, shopping Leblon e restaurantes. Além de ser bem perto à praia e ao metrô. Proprietários disponíveis para dar todas as informações sobre atrações e modo de vida local. Os hóspedes tem acesso à sala, cozinha, banheiro e quarto. Na cozinha tem disponível: microondas, sanduicheira, geladeira, filtro de água,liquidificador  e utensílios. Disponível pra dar toda a assistência possível necessária. Supermercado Farmácia Barzinhos Praia Metrô Delegacia  Shopping Leblon Metrô, ônibus, uber, táxi. Prédio sem elevador. Para acesso ao apartamento é neces',\n",
       " \"Studio idéalement situé à Montréal au milieu du Plateau et du Village, dans un immeuble qui communique directement avec le métro Sherbrooke, station de bus au pied de l'immeuble (Ligne 24, 30) bus 747 pour l'aéroport à 7min à pieds, épicerie à 5min à pieds. Perfectly located studio in Montréal in the middle of the Plateau and the Village, in a building which is directly connected with the Sherbrooke metro station, bus Station down the building Line (Phone number hidden by Airbnb) from the airport 7min away walking.\",\n",
       " \"This bright apartment is located in Barca's most upcoming neighbourhood. Walk along the street and you will reach Barca's finest beach. So you easily get a glimp of Barca's vibrant beach life. Close to the metro station, Glories Shopping mall & the beautiful Sagrada Familia. Also Ramblas, Gothica and El Born are closeby. In these historical streets you enjoy the best original spanish tapas! Ideal place for families.  It is our pleasure to make sure you have a unforgetable stay!\",\n",
       " 'Cute and lovely boutique apart for 3 persons. 1 extra bed is avaliable for this apart making it suitable up to 4 persons. A cosy place for those who seek quiet and decent environment, near activities. The apartment is near Beyoglu.',\n",
       " 'This one bedroom apartment is bright and airy with unique views of the Sydney Harbour Bridge, Sydney Harbour and surrounding North Sydney and Kirribilli. One Queen Bed + Sofa Bed, wifi, balcony, undercover parking, 5 minutes to Ferry wharf, 7 minutes to Milsons Point train station, 2 minutes to bus. This apartment is quiet, neat and compact, with a newly renovated kitchen and bathroom and a great balcony for entertaining or just taking in the view. There is also a common grassed area just beneath the apartment with views of the Harbour Bridge as well which is excellent for picnics.  The apartment has a Queen Bed in the bedroom but also a Double Sofa Bed which would be fine for occasional guests or perhaps a child, though the apartment is ideal for 1-2 adults. There is a flat screen TV, DVD player, fully equipped kitchen, table and chairs (in the main room, plus an outdoor table and chairs on the balcony) ceiling fans, heaters and wireless internet access, as well as a common coin opera',\n",
       " \"Two bedroom apartment for rent with a king bed, very large closet in a very cozy apartment. Air conditioner in room, cable, wireless Internet and air conditioning. $200 a day. If you'd like just the room rental it is also available. air conditioner in the entire apartment. access to the entire apartment except one bedroom.  High speed Wifi available Minimal everything is walking distance. post office, varity of supermarkets, gym, shopping center. pier1 imports, century 21, khols , tjmax, sears, marshall, red mango, Ales Miller house, Queens center mall. Pool in building and 2 other pools in the area. walking distance from flushing medow park, 10 min walk to the train. US Open near by Q72 and Q88 R and M train to 63 drive rego park If you would just like to rent one room for the night it is available for 100 a night.\",\n",
       " \"Private entrance to attached studio has separate and private bathroom and large lanai (balcony). Queen size bed, full size refrigerator, kitchenette, access to pool/hottub/bbq area.  Princeville is centrally located near local beaches and commerce. This comfortable and private space is the perfect place to enjoy a relaxing and/or adventurous holiday. With a comfortable bed for a good night's sleep, a spacious lanai for relaxing in between exploration, a simple kitchenette for preparing affordable meals at home, a pool/hottub/bbq area for unwinding after long beach days, and a convenient location to dining, shopping, golf, bus stop, post office, groceries, parks and beaches Guests have their own private entrance adjacent to the owner's entrance. All apartments have equal access to grounds and keyed entry pool area. Parking is free, though some stalls are reserved. Your hosts, Dan and Erin, live part-time in Hawaii and part-time in the Bay Area, so the accommodations are set up to be sel\",\n",
       " 'Our Studio has ceramic tiled floors and a large porcelain tiled shower. All the ceiling areas have been filled with insulation and faced with 2-ply bamboo. Our studio is located at Sandpiper Village I. The Sandpiper grounds boast beautiful mature landscaping and a recently renovated pool complex with a large tile-bottomed pool plus a good size jacuzzi and two Webber gas grills. My studio is less than a minute walk to the pool. HI TAX ID: TA (Phone number hidden by Airbnb) HI TAX ID: GE (Phone number hidden by Airbnb) You will find our rental rates on Airbnb to be very competitive and include Hawaii taxes. Our rates are also structured with discounts based on length-of-stay beginning with seven nights or more. Our Studio is completley renovated with ceramic tiled floors and a large porcelain tiled shower. All the ceiling areas have been filled with insulation and faced with 2-ply bamboo. Along with fresh paint throughout, all electrical outlets and switches have been replaced and additi',\n",
       " \"Wake up to the sounds of tropical birds singing, waves crashing - breath taking ocean views and sunsets daily during your stay in Maui. This is a very private and quiet condo end unit with great neighbors and one of the closest units with an ocean front view in the Ekahi Village. With beach and pool access, you'll be able to experience Maui to the fullest! We look forward to sharing our unit and the aloha spirit with you. Located in the Wailea Ekahi Village - 29F has sweeping ocean views and is one of the best condos in Maui. The private remodeled end unit is best suited for quiet couples looking for a home away from home. However, we are now welcoming families spend their vacations with us! Children can sleep on the pull-out couch in the living room, while you can enjoy a stunning master bedroom with a private bathroom.  The Master bedroom has a completely redesigned bath/dressing area with walk in tile and glass shower. The second bathroom also features a walk-in shower with glass wa\",\n",
       " 'My home is close to the Airport (5.2km - no Airport noise) and St George Hospital (2.5km), it is half a block from the beach, 15 min walk to the Novotel Hotel in  Brighton Le sands where you can also find an abundance of restaurants, cafes and shops. You’ll love my place because of the light, airy room in our spacious house and your own  bathroom. My place is good for couples, solo adventurers and business travellers. We are on the 3rd floor with no lift. Angela and Coby Welcomes You To Monterey The Room:  A bright and airy room awaits you which features: A Double size bed in a private room Desk Access to unlimited Wi-Fi Internet Kitchen Dining room Balcony Laundry service (I will do your washing for you at no charge - its a big machine,  and I am washing everyday so easier for me to do for you.) Bedroom, main bathroom, kitchen, dining room, balcony and laundry (baskets on top of laundry cupboard to put your dirty washing in, I will return it outside your bedroom door when dry). My son',\n",
       " 'Apartamento de 30m2, em uma casa c/ 6 apartamentos, localizada no centro de Santa Teresa. O aprtamento tem configuração de um mini-loft, com os espaços integrados. É bem luminoso e possui um balcão com vista para a rua.',\n",
       " \"This spacious apartment in a historic brownstone has 3 double bedrooms, and 1 and 1/2 bathrooms. The room has two windows and a closet. It's a beautiful garden unit in a recently renovated brownstone with old character and new finishing. This spacious apartment in a historic brownstone has 3 double bedrooms, and 1 and 1/2 bathrooms. The room has two windows and a closet. It's a beautiful garden unit in a recently renovated brownstone with old character and new finishing, included in the Bedford Historic District. Everything is brand new including the central air and heat, marble bathroom, stainless steel appliances, and hardwood floors, as well as exposed brick throughout. The neighborhood is gorgeous on a charming brownstone street, close to plenty of hotspots on Tompkins, Franklin and Bedford Avenues (Hothouse, Saraghina (best Italian in all of NYC), bakeries, new restaurants, coffee shops and boutiques. Metro stations Nostrand (A/C) or Bedford-Nostrand (G). It's a rather extraordina\",\n",
       " \"Fantastic Duplex penthouse fully equipped with private terrace and amazing views, air conditioner, high speed wi-fi and Smart TV. Close to the beach and the city center. Awesome Duplex penthouse fully equipped with private terrace and amazing views. The apartment has Nespresso coffee machine, air conditioner, Smart TV, High speed  Wi-fi fiber connection. FULL EQUIPPED KITCHEN - Large fridge  - Glass-ceramic hob  - Microwave  - Washing & dryer machine  - Nespresso machine (capsules included) - Toaster - All kitchen/dishes stuff you could need to enjoy cooking at home. All the apartment and the private terrace. Nespresso coffee machine. High speed Wi-fi. 24/7 Emergency calls Apartament's location is AMAZING, close to the beach (less than 1 minute walking distance) and for tourism since you can enjoy most of Barcelona's points of interest just by walk. As an example, you are less than 10 minutes by walk from: Beach Ramblas Plaza Real Barcelona's Town Hall and Palau de la Generalitat Picas\"]"
      ]
     },
     "execution_count": 191,
     "metadata": {},
     "output_type": "execute_result"
    }
   ],
   "source": [
    "top_1_retrieved_contexts = []\n",
    "top_1_retrieved_contexts = [retrieved_results[i]['description'][0] for i in range(len(retrieved_results))]\n",
    "top_1_retrieved_contexts\n"
   ]
  },
  {
   "cell_type": "code",
   "execution_count": 192,
   "metadata": {},
   "outputs": [],
   "source": [
    "rag_llm = ChatOpenAI(model=\"gpt-4o-mini\", temperature=0)\n",
    "\n",
    "\n",
    "def generate_response(query, context):      \n",
    "    prompt_template = ChatPromptTemplate.from_messages([\n",
    "                (\"system\", \"\"\"You are an Airbnb listing recommendation system. Please:\n",
    "                1. Respond in the same language as the user\n",
    "                2. If the user is asking for property recommendations:\n",
    "                   - Prioritize results with higher search scores\n",
    "                   - Include the Airbnb listing URL and image URL\n",
    "                   - Explain why you chose these properties\n",
    "                   - Highlight features that match the user's criteria\n",
    "                3. If the user has provided an image, consider visual similarity in your recommendations\n",
    "                4. Be friendly and helpful in your responses\n",
    "                5, answer the question in the same language as the query\"\"\"),\n",
    "                (\"human\", \"Answer this user query: {query} with the following context:\\n{context}\")\n",
    "            ])\n",
    "\n",
    "    formatted_messages = prompt_template.format_messages(query=query, context=context)\n",
    "    return rag_llm(formatted_messages)  "
   ]
  },
  {
   "cell_type": "code",
   "execution_count": 193,
   "metadata": {},
   "outputs": [],
   "source": [
    "dataset = []\n",
    "\n",
    "for query, reference, context in zip(sample_queries, expected_responses, top_1_retrieved_contexts):\n",
    "    response = generate_response(query, context)\n",
    "    dataset.append(\n",
    "        {\n",
    "            \"user_input\":query,\n",
    "            \"retrieved_contexts\": [context],\n",
    "            \"response\":response.content,\n",
    "            \"reference\":reference\n",
    "        }\n",
    "    )"
   ]
  },
  {
   "cell_type": "code",
   "execution_count": 194,
   "metadata": {},
   "outputs": [
    {
     "data": {
      "text/plain": [
       "[{'user_input': '北角便利的购物和交通，干净的房间，适合自己入住的舒适住宿环境。',\n",
       "  'retrieved_contexts': ['北角 购物交通都很便利｡房间干净 自己住的房子'],\n",
       "  'response': '根据您的需求，我为您推荐了几处在北角的舒适住宿，适合自己入住，并且购物和交通都非常便利。\\n\\n1. **北角现代公寓**\\n   - **链接**: [北角现代公寓](https://www.airbnb.com/rooms/12345678)\\n   - **图片**: ![北角现代公寓](https://a.airbnb.com/12345678.jpg)\\n   - **推荐理由**: 这间公寓拥有现代化的设计，房间干净整洁，适合单人入住。距离购物中心和地铁站都很近，出行非常方便。\\n\\n2. **北角舒适单间**\\n   - **链接**: [北角舒适单间](https://www.airbnb.com/rooms/87654321)\\n   - **图片**: ![北角舒适单间](https://a.airbnb.com/87654321.jpg)\\n   - **推荐理由**: 这间单间提供了一个温馨的居住环境，房间内设施齐全，适合独自旅行者。周围有许多便利店和餐馆，生活非常方便。\\n\\n3. **北角时尚公寓**\\n   - **链接**: [北角时尚公寓](https://www.airbnb.com/rooms/23456789)\\n   - **图片**: ![北角时尚公寓](https://a.airbnb.com/23456789.jpg)\\n   - **推荐理由**: 这间公寓设计时尚，空间宽敞，干净舒适。步行即可到达购物区和公共交通站，方便您出行。\\n\\n这些推荐的住宿都符合您的要求，提供了干净舒适的环境，并且在北角的购物和交通都非常便利。希望您能找到满意的住宿！如果您有其他问题或需要更多建议，请随时告诉我！',\n",
       "  'reference': '北角 购物交通都很便利｡房间干净 自己住的房子'},\n",
       " {'user_input': 'Procuro um apartamento com terraço perto da Rotunda da Boavista, Casa da Música e Mercado do Bom Sucesso, ideal para explorar arquitetura, fazer caminhadas urbanas e degustar vinho, com fácil acesso ao aeroporto e atrações culturais como museus e parques na cidade.',\n",
       "  'retrieved_contexts': ['The Tiny Boho, um cantinho com terraço, situado a 3 minutos a pé da Rotunda da Boavista, a 300 metros da Casa da Música e a 400 metros do Mercado do Bom Sucesso. O Museu Nacional Soares dos Reis fica a 16 minutos a pé do apartamento, enquanto o Museu do Eléctrico está a 1,4 km. A 10 minutos de carro do museu Serralves e do Parque da cidade. O aeroporto situa-se a 9 km. É uma excelente escolha entre viajantes que estão interessados em arquitetura, caminhadas na cidade e degustar vinho. Estamos disponíveis para qualquer dúvida ou informação. Quer por telefone ou (Website hidden by Airbnb) supermercado em frente ao apartamento, centro comercial a 3 minutos a pé. Zona com todo o tipo de transportes públicos disponíveis. Super central, com tudo o que precisa, está a 5minutos de metro do centro histórico da cidade. Estacionamento pago na rua. Estação de metro \"Casa da Música\" a 2min de distância a pé.'],\n",
       "  'response': 'Olá! Tenho uma excelente recomendação para você que procura um apartamento com terraço perto da Rotunda da Boavista, Casa da Música e Mercado do Bom Sucesso.\\n\\n**The Tiny Boho**\\n- **URL do anúncio**: [The Tiny Boho](https://www.airbnb.com/rooms/12345678) (exemplo)\\n- **URL da imagem**: ![The Tiny Boho](https://a.airbnb.com/12345678.jpg) (exemplo)\\n\\n**Por que escolhi este imóvel?**\\n- **Localização**: O apartamento está a apenas 3 minutos a pé da Rotunda da Boavista, 300 metros da Casa da Música e 400 metros do Mercado do Bom Sucesso, facilitando o acesso a essas atrações.\\n- **Cultura e Arquitetura**: A proximidade com o Museu Nacional Soares dos Reis (16 minutos a pé) e o Museu do Eléctrico (1,4 km) é perfeita para quem aprecia arte e arquitetura.\\n- **Caminhadas Urbanas**: A área é ideal para explorar a cidade a pé, com várias opções de parques e museus nas proximidades.\\n- **Acesso ao Aeroporto**: O aeroporto está a apenas 9 km, e você pode facilmente chegar lá de carro ou transporte público.\\n- **Comodidades**: O apartamento possui um terraço, ideal para relaxar após um dia de exploração. Além disso, há um supermercado em frente e um centro comercial a 3 minutos a pé, garantindo que você tenha tudo o que precisa à mão.\\n\\nSe precisar de mais informações ou tiver alguma dúvida, estou aqui para ajudar! Boa viagem!',\n",
       "  'reference': 'The Tiny Boho, um cantinho com terraço, situado a 3 minutos a pé da Rotunda da Boavista, a 300 metros da Casa da Música e a 400 metros do Mercado do Bom Sucesso. O Museu Nacional Soares dos Reis fica a 16 minutos a pé do apartamento, enquanto o Museu do Eléctrico está a 1,4 km. A 10 minutos de carro do museu Serralves e do Parque da cidade. O aeroporto situa-se a 9 km. É uma excelente escolha entre viajantes que estão interessados em arquitetura, caminhadas na cidade e degustar vinho. Estamos disponíveis para qualquer dúvida ou informação. Quer por telefone ou (Website hidden by Airbnb) supermercado em frente ao apartamento, centro comercial a 3 minutos a pé. Zona com todo o tipo de transportes públicos disponíveis. Super central, com tudo o que precisa, está a 5minutos de metro do centro histórico da cidade. Estacionamento pago na rua. Estação de metro \"Casa da Música\" a 2min de distância a pé.'},\n",
       " {'user_input': 'Spacious 70 m2 apartment with 3 bedrooms, including a king size double room, two individual rooms, and two sofa beds, equipped with powerful AC, accessible via two lifts, located opposite a large commercial center for shopping and dining.',\n",
       "  'retrieved_contexts': [\"-  70 m2       -  3 bedrooms      - 1 Double Room , king size bed      - 2 individual room      - 2 Sofa bed      - Powerful  AA      - 2 lifts      - Big comercial center in front flat - Wiffi 20 mb  - Washingmachine - Hairdryer - Iron - Iron Table - Wii for the kids - Internet TV I would send you information about the sites to visit if you coming by car you have a parking at 5 minutes and with the same card you could be able to park at 50 parkings at the city. I would be at the flat waiting for you arrive and give the keys , and I explaind the flat for you. There´s the posibility to buy a sim card at the Phone House in Glories Comercial Center , with 500 mb to use de (SENSITIVE CONTENTS HIDDEN) maps during you visit . And see the (SENSITIVE CONTENTS HIDDEN) map I send you for you visit. Eaven you cand loaded the wasap aplication at your device and get in touch with me during your holiday's for any question. You have a underground stop Glorias at 5 minutes from the flat , the bus turi\"],\n",
       "  'response': '¡Hola! Aquí tienes algunas recomendaciones de propiedades que se ajustan a tus criterios de un apartamento espacioso de 70 m² con 3 habitaciones. He priorizado las opciones con mejores puntuaciones de búsqueda:\\n\\n1. **Apartamento Familiar en el Centro**\\n   - **URL del listado**: [Apartamento Familiar en el Centro](https://www.airbnb.com/rooms/12345678)\\n   - **URL de la imagen**: ![Apartamento Familiar](https://a.airbnb.com/12345678.jpg)\\n   - **Descripción**: Este apartamento cuenta con 3 habitaciones, incluyendo una habitación principal con cama king size. Tiene un diseño moderno y espacioso, ideal para familias. Además, está equipado con aire acondicionado potente y acceso a internet de alta velocidad.\\n   - **Características destacadas**: \\n     - Ubicación frente a un gran centro comercial.\\n     - Dos sofás cama adicionales para mayor comodidad.\\n     - Lavadora y otros electrodomésticos disponibles.\\n\\n2. **Apartamento Moderno con Vistas**\\n   - **URL del listado**: [Apartamento Moderno con Vistas](https://www.airbnb.com/rooms/87654321)\\n   - **URL de la imagen**: ![Apartamento Moderno](https://a.airbnb.com/87654321.jpg)\\n   - **Descripción**: Este apartamento de 70 m² ofrece un ambiente acogedor y moderno, con 3 habitaciones y un sofá cama. La propiedad está bien equipada y es perfecta para familias o grupos.\\n   - **Características destacadas**: \\n     - Acceso a dos ascensores.\\n     - Situado cerca de un centro comercial con opciones de compras y restaurantes.\\n     - Incluye Wii para entretenimiento de los niños.\\n\\nAmbas propiedades están bien valoradas y ofrecen características que coinciden con tus necesidades, como el espacio, la cantidad de habitaciones y la cercanía a un centro comercial. Además, la posibilidad de estacionamiento y el acceso a transporte público son un gran plus.\\n\\nSi necesitas más información o ayuda para hacer una reserva, ¡no dudes en preguntar! Estoy aquí para ayudarte.',\n",
       "  'reference': \"-  70 m2       -  3 bedrooms      - 1 Double Room , king size bed      - 2 individual room      - 2 Sofa bed      - Powerful  AA      - 2 lifts      - Big comercial center in front flat - Wiffi 20 mb  - Washingmachine - Hairdryer - Iron - Iron Table - Wii for the kids - Internet TV I would send you information about the sites to visit if you coming by car you have a parking at 5 minutes and with the same card you could be able to park at 50 parkings at the city. I would be at the flat waiting for you arrive and give the keys , and I explaind the flat for you. There´s the posibility to buy a sim card at the Phone House in Glories Comercial Center , with 500 mb to use de (SENSITIVE CONTENTS HIDDEN) maps during you visit . And see the (SENSITIVE CONTENTS HIDDEN) map I send you for you visit. Eaven you cand loaded the wasap aplication at your device and get in touch with me during your holiday's for any question. You have a underground stop Glorias at 5 minutes from the flat , the bus turi\"},\n",
       " {'user_input': 'Spacious apartment in a prestigious building in central Barcelona with concierge, near Rambla de Cataluña, accommodating up to 6 people, featuring 2 bedrooms with single beds, a large double bedroom, a fully equipped kitchen, living and dining areas, and two bathrooms.',\n",
       "  'retrieved_contexts': ['Magnificent apartment situated in the heart of Barcelona. Located in a prestigious building with concierge next to Rambla de Cataluña, this apartment is the ideal choice to accomodate up to 6 people. The apartment is composed by an entrance hall, living room, dining room and a fully equipped kitchen with all the kitchen utensils. There are 2 dormitories with 2 single beds, a big bedroom with a double bed and two bathrooms.  Tourist licence HUTB - 003179. This magnificent apartment is situated in the heart of Barcelona, located in a prestigious building with concierge next to Rambla de Cataluña and the famous street of Passeig de Gracia. This fully renovated property offers wide spaces and a sunny living room thank to its bay window. Ideal to accommodate 6 people, the apartment is composed by an entrance hall, living room, dining room and a fully equipped kitchen with all the kitchen utensils. There are 2 dormitories with 2 single beds, a big bedroom with a double bed and two bathrooms.'],\n",
       "  'response': '¡Hola! Aquí tienes una recomendación perfecta para tu búsqueda de un apartamento espacioso en el corazón de Barcelona.\\n\\n### Apartamento Magnífico en el Centro de Barcelona\\n- **Descripción**: Este magnífico apartamento está situado en un edificio prestigioso con conserje, justo al lado de la Rambla de Cataluña. Es ideal para acomodar hasta 6 personas, con un diseño renovado y espacios amplios.\\n- **Características**:\\n  - 2 dormitorios con 2 camas individuales cada uno.\\n  - 1 gran dormitorio con una cama doble.\\n  - Cocina totalmente equipada.\\n  - Áreas de salón y comedor.\\n  - 2 baños.\\n  - Ventana de bahía que proporciona mucha luz natural.\\n\\n- **Licencia turística**: HUTB - 003179\\n\\n#### URL del listado de Airbnb:\\n[Ver apartamento en Airbnb](https://www.airbnb.com/rooms/12345678) *(Este es un enlace de ejemplo, por favor verifica el enlace real en Airbnb)*\\n\\n#### URL de la imagen:\\n![Apartamento en Barcelona](https://example.com/image.jpg) *(Este es un enlace de ejemplo, por favor verifica el enlace real en Airbnb)*\\n\\n### ¿Por qué elegí este apartamento?\\nEste apartamento cumple con todos tus criterios: está en una ubicación central, tiene un conserje, y puede acomodar cómodamente a 6 personas. Además, su diseño moderno y luminoso lo hace aún más atractivo. La cercanía a la Rambla de Cataluña y Passeig de Gracia te permitirá disfrutar de lo mejor de Barcelona.\\n\\nSi necesitas más información o tienes alguna otra preferencia, ¡no dudes en preguntar!',\n",
       "  'reference': 'Magnificent apartment situated in the heart of Barcelona. Located in a prestigious building with concierge next to Rambla de Cataluña, this apartment is the ideal choice to accomodate up to 6 people. The apartment is composed by an entrance hall, living room, dining room and a fully equipped kitchen with all the kitchen utensils. There are 2 dormitories with 2 single beds, a big bedroom with a double bed and two bathrooms.  Tourist licence HUTB - 003179. This magnificent apartment is situated in the heart of Barcelona, located in a prestigious building with concierge next to Rambla de Cataluña and the famous street of Passeig de Gracia. This fully renovated property offers wide spaces and a sunny living room thank to its bay window. Ideal to accommodate 6 people, the apartment is composed by an entrance hall, living room, dining room and a fully equipped kitchen with all the kitchen utensils. There are 2 dormitories with 2 single beds, a big bedroom with a double bed and two bathrooms.'},\n",
       " {'user_input': 'Comfortable 1-room apartment just 100m from the beach, walking distance to city center, supermarkets, restaurants, markets, shopping streets, and hospital, fully furnished, ideal for a couple or family with a child, with sofa bed or inflatable mattress available.',\n",
       "  'retrieved_contexts': ['Full 1 room apartment 100m by the beach. 5min Walking from the city center and all the facilities you might need. Supermarket, Restaurants, Small typical markets during the summer, shopping streets, Hospital,... Everything 5 min walking distance. The flat is fully furnished and ready to fill all your needs during your holidays.  Ideal for 1 couple or 1 couple with 1 child. For the 3rd person (child), we have the living room sofa or request an inflatable mattress on your booking. 1 Bedroom with a Kingsized bed, 1 big Living room with 1 sofa (or inflatable mattress by request),  1 big Kitchen where you find all the gear to cook, 1 bathroom complete. We will have someone 24/7 able to help you with any question or request. The keys are handed delivered so you can meet us or someone assigned by us to make it for you. We have a pick me point ready to solve any question you might have. The flat is 100m from the beach, literally 30 seconds walking for the most popular beach in Vila do Conde. V'],\n",
       "  'response': 'Here are some great Airbnb listings that match your criteria for a comfortable 1-room apartment near the beach:\\n\\n1. **Cozy Beachfront Apartment**\\n   - **URL:** [Cozy Beachfront Apartment](https://www.airbnb.com/rooms/12345678)\\n   - **Image URL:** ![Cozy Beachfront Apartment](https://a.airbnb.com/12345678.jpg)\\n   - **Why I chose this property:** This apartment is just 100m from the beach and offers a fully furnished space ideal for couples or small families. It features a king-sized bed and a sofa bed, perfect for accommodating a child. The location is excellent, with easy access to supermarkets, restaurants, and shopping streets, all within a 5-minute walk.\\n\\n2. **Charming 1-Bedroom Near the Beach**\\n   - **URL:** [Charming 1-Bedroom Near the Beach](https://www.airbnb.com/rooms/23456789)\\n   - **Image URL:** ![Charming 1-Bedroom Near the Beach](https://a.airbnb.com/23456789.jpg)\\n   - **Why I chose this property:** This listing is also located just a short walk from the beach and city center. It has a spacious living room with a sofa bed and a fully equipped kitchen, making it perfect for family meals. The host is available 24/7 for any assistance, ensuring a comfortable stay.\\n\\n3. **Modern Apartment Steps from the Beach**\\n   - **URL:** [Modern Apartment Steps from the Beach](https://www.airbnb.com/rooms/34567890)\\n   - **Image URL:** ![Modern Apartment Steps from the Beach](https://a.airbnb.com/34567890.jpg)\\n   - **Why I chose this property:** This modern apartment is just 100m from the beach and offers a cozy atmosphere with all the amenities you need. It includes a king-sized bed and a sofa bed, making it suitable for a couple or a small family. The proximity to local markets and restaurants adds to its appeal.\\n\\nThese properties not only meet your requirements but also provide a welcoming environment for a relaxing holiday. Enjoy your stay!',\n",
       "  'reference': 'Full 1 room apartment 100m by the beach. 5min Walking from the city center and all the facilities you might need. Supermarket, Restaurants, Small typical markets during the summer, shopping streets, Hospital,... Everything 5 min walking distance. The flat is fully furnished and ready to fill all your needs during your holidays.  Ideal for 1 couple or 1 couple with 1 child. For the 3rd person (child), we have the living room sofa or request an inflatable mattress on your booking. 1 Bedroom with a Kingsized bed, 1 big Living room with 1 sofa (or inflatable mattress by request),  1 big Kitchen where you find all the gear to cook, 1 bathroom complete. We will have someone 24/7 able to help you with any question or request. The keys are handed delivered so you can meet us or someone assigned by us to make it for you. We have a pick me point ready to solve any question you might have. The flat is 100m from the beach, literally 30 seconds walking for the most popular beach in Vila do Conde. V'},\n",
       " {'user_input': 'Waterfront home on the canal near Kailua beach, walking distance to the sand, with a comfortable two-story layout, ideal for relaxing by the water and exploring the vibrant beach town, perfect for a peaceful getaway or a fun group stay.',\n",
       "  'retrieved_contexts': ['Waterfront on the canal!  Wake up on the water and be walking distance to the beach. We are located just outside of downtown Kailua- a beach town situated along one of the best stretches of sand in the country. We have split our two story home to make a comfortable place for you to stay and enjoy.   This unit is directly above our second AirBnB unit, which may or may not be rented during your stay. Or, might we suggest, grabbing your best friend and renting them both :) E Komo Mai (Welcome!) We hope you have the best time staying and playing here in Hawaii- and that you leave with many fond memories of you time on this beautiful island. There are SO many wonderful things about beautiful Hawaii nei: It has some of the best beaches in the world, oceans the color of jade and emerald, waterfalls to hike to, a year-round verdant green jungle- whats not to love! This unit is WATERFRONT on the canal and a short walk (0.6m) to the beach. This home is immaculate and ready to be your little slic'],\n",
       "  'response': \"Aloha! Based on your request for a waterfront home on the canal near Kailua Beach, I have found a couple of fantastic options that match your criteria perfectly. Here are my top recommendations:\\n\\n1. **Waterfront Oasis in Kailua**\\n   - **URL:** [Waterfront Oasis](https://www.airbnb.com/rooms/12345678)\\n   - **Image:** ![Waterfront Oasis](https://a.airbnb.com/12345678.jpg)\\n   - **Why I chose this property:** This home is located directly on the canal, offering stunning water views and a peaceful atmosphere. It’s just a short walk to Kailua Beach, making it ideal for beach lovers. The two-story layout provides ample space for relaxation and socializing, perfect for both peaceful getaways and fun group stays. \\n\\n2. **Charming Canal Retreat**\\n   - **URL:** [Charming Canal Retreat](https://www.airbnb.com/rooms/87654321)\\n   - **Image:** ![Charming Canal Retreat](https://a.airbnb.com/87654321.jpg)\\n   - **Why I chose this property:** This property features a comfortable two-story design and is also situated on the canal, allowing you to enjoy the serene waterfront. It’s within walking distance to the beach and offers a cozy atmosphere for unwinding after a day of exploring Kailua. The vibrant beach town is just a stone's throw away, making it easy to enjoy local shops and restaurants.\\n\\nBoth of these properties offer the perfect blend of relaxation and adventure, with easy access to the beautiful beaches and the charm of Kailua. I hope you find these recommendations helpful for your stay in Hawaii! If you have any other questions or need further assistance, feel free to ask. Enjoy your trip!\",\n",
       "  'reference': 'Waterfront on the canal!  Wake up on the water and be walking distance to the beach. We are located just outside of downtown Kailua- a beach town situated along one of the best stretches of sand in the country. We have split our two story home to make a comfortable place for you to stay and enjoy.   This unit is directly above our second AirBnB unit, which may or may not be rented during your stay. Or, might we suggest, grabbing your best friend and renting them both :) E Komo Mai (Welcome!) We hope you have the best time staying and playing here in Hawaii- and that you leave with many fond memories of you time on this beautiful island. There are SO many wonderful things about beautiful Hawaii nei: It has some of the best beaches in the world, oceans the color of jade and emerald, waterfalls to hike to, a year-round verdant green jungle- whats not to love! This unit is WATERFRONT on the canal and a short walk (0.6m) to the beach. This home is immaculate and ready to be your little slic'},\n",
       " {'user_input': 'Spacious 3-storey heritage home with a raw industrial master bedroom featuring a super king-size bed, eye-catching wine cellar, open living area, cozy courtyard, and exposed brickwork by the dormer window.',\n",
       "  'retrieved_contexts': ['Wake up on the super king-size bed in the master bedroom that has a raw industrial look and an eye-catching wine cellar. This 3-storey heritage home boasts spacious open living with a cozy courtyard and exposed brickwork by the dormer window.'],\n",
       "  'response': \"It sounds like you're looking for a unique and spacious property that combines heritage charm with modern industrial elements. Here are a couple of recommendations that closely match your criteria:\\n\\n1. **Heritage Loft with Industrial Charm**\\n   - **URL:** [Heritage Loft Listing](https://www.airbnb.com/rooms/12345678)\\n   - **Image URL:** ![Heritage Loft](https://a.airbnb.com/loft_image.jpg)\\n   - **Why I chose this property:** This listing features a stunning industrial-style master bedroom with a super king-size bed, similar to what you described. The open living area is spacious and inviting, and it includes exposed brickwork that adds to the character of the home. The cozy courtyard is perfect for relaxing, and the overall ambiance is reminiscent of a heritage home.\\n\\n2. **Spacious Urban Retreat**\\n   - **URL:** [Urban Retreat Listing](https://www.airbnb.com/rooms/87654321)\\n   - **Image URL:** ![Urban Retreat](https://a.airbnb.com/urban_retreat_image.jpg)\\n   - **Why I chose this property:** This property offers a blend of modern and industrial design, featuring a large master bedroom with a king-size bed. The open living area is bright and airy, and there’s a charming courtyard that provides a peaceful escape. The exposed brickwork throughout the home enhances its heritage feel, making it a great match for your preferences.\\n\\nBoth of these properties offer the spaciousness and unique features you're looking for. I hope you find them appealing! If you have any other specific requirements or need further assistance, feel free to ask!\",\n",
       "  'reference': 'Wake up on the super king-size bed in the master bedroom that has a raw industrial look and an eye-catching wine cellar. This 3-storey heritage home boasts spacious open living with a cozy courtyard and exposed brickwork by the dormer window.'},\n",
       " {'user_input': 'apartamento na cidade com acesso fácil a transporte público, cozinha moderna, Wi-Fi rápido, ar-condicionado, perto de atrações turísticas, ambiente confortável e seguro, ideal para viagens de lazer ou negócios',\n",
       "  'retrieved_contexts': ['Apartamento localizado no Leblon, Rio de Janeiro. Não somos um hotel, oferecemos um apartamento inteiro com todos os utensílios necessários pra uma perfeita estadia. 10 minutos da praia e 5 minutos do metrô à pé. Fácil acesso. Ambiente acolhedor. Simples, confortável, aconchegante, seguro e limpo. Quarto com ar condicionado. TV,  Netflix , WiFi, portaria 24h e também com monitoramento por imagem. Excelente localização, próximo de mercado, fármacia, shopping Leblon e restaurantes. Além de ser bem perto à praia e ao metrô. Proprietários disponíveis para dar todas as informações sobre atrações e modo de vida local. Os hóspedes tem acesso à sala, cozinha, banheiro e quarto. Na cozinha tem disponível: microondas, sanduicheira, geladeira, filtro de água,liquidificador  e utensílios. Disponível pra dar toda a assistência possível necessária. Supermercado Farmácia Barzinhos Praia Metrô Delegacia  Shopping Leblon Metrô, ônibus, uber, táxi. Prédio sem elevador. Para acesso ao apartamento é neces'],\n",
       "  'response': 'Olá! Tenho uma ótima recomendação para você. O apartamento que encontrei está localizado no Leblon, Rio de Janeiro, e atende a todos os seus critérios:\\n\\n### Apartamento no Leblon\\n- **Descrição**: Este apartamento é um espaço inteiro, ideal para quem busca conforto e praticidade. Ele está a apenas 10 minutos da praia e a 5 minutos do metrô a pé, facilitando o acesso ao transporte público.\\n- **Características**:\\n  - Cozinha moderna e totalmente equipada com micro-ondas, sanduicheira, geladeira, filtro de água e liquidificador.\\n  - Wi-Fi rápido e TV com Netflix.\\n  - Ar-condicionado no quarto, garantindo um ambiente fresco e confortável.\\n  - Segurança com portaria 24h e monitoramento por imagem.\\n  - Localização excelente, perto de mercados, farmácias, shopping Leblon e diversos restaurantes.\\n\\n### Links\\n- **URL do anúncio**: [Apartamento no Leblon](https://www.airbnb.com.br/rooms/12345678) (exemplo)\\n- **Imagem do apartamento**: ![Imagem do Apartamento](https://a.airbnb.com/room12345678.jpg) (exemplo)\\n\\n### Por que escolhi este apartamento?\\nEste imóvel é perfeito para viagens de lazer ou negócios, pois oferece um ambiente acolhedor e seguro, além de estar próximo a várias atrações turísticas. Os proprietários estão disponíveis para fornecer informações sobre a área e ajudar com qualquer necessidade durante a sua estadia.\\n\\nEspero que você goste da recomendação! Se precisar de mais informações ou de outras opções, estou aqui para ajudar.',\n",
       "  'reference': 'apartamento na'},\n",
       " {'user_input': \"Cherche studio idéalement situé à Montréal, au cœur du Plateau et du Village, avec accès direct au métro Sherbrooke, proximité d'une station de bus pour l'aéroport, épicerie à pied, parfait pour explorer la ville facilement et rapidement.\",\n",
       "  'retrieved_contexts': [\"Studio idéalement situé à Montréal au milieu du Plateau et du Village, dans un immeuble qui communique directement avec le métro Sherbrooke, station de bus au pied de l'immeuble (Ligne 24, 30) bus 747 pour l'aéroport à 7min à pieds, épicerie à 5min à pieds. Perfectly located studio in Montréal in the middle of the Plateau and the Village, in a building which is directly connected with the Sherbrooke metro station, bus Station down the building Line (Phone number hidden by Airbnb) from the airport 7min away walking.\"],\n",
       "  'response': \"Bonjour ! Je suis ravi de vous aider à trouver le studio idéal à Montréal. Voici une recommandation qui correspond parfaitement à vos critères :\\n\\n### Studio au cœur du Plateau et du Village\\n- **URL de l'annonce** : [Studio à Montréal](https://www.airbnb.com/rooms/12345678) \\n- **URL de l'image** : ![Studio à Montréal](https://a.airbnb.com/12345678.jpg)\\n\\n#### Pourquoi ce choix ?\\nCe studio est idéalement situé au cœur du Plateau et du Village, offrant un accès direct à la station de métro Sherbrooke, ce qui facilite vos déplacements dans la ville. De plus, la station de bus pour l'aéroport est à seulement 7 minutes à pied, ce qui est très pratique pour vos voyages. Vous trouverez également une épicerie à 5 minutes à pied, ce qui vous permettra de faire vos courses facilement.\\n\\n#### Caractéristiques :\\n- **Emplacement central** : Proximité des attractions locales et des transports en commun.\\n- **Accès facile** : Métro et bus à proximité immédiate.\\n- **Confort** : Studio bien équipé pour un séjour agréable.\\n\\nN'hésitez pas à me faire savoir si vous avez besoin d'autres recommandations ou d'informations supplémentaires !\",\n",
       "  'reference': \"Studio idéalement situé à Montréal au milieu du Plateau et du Village, dans un immeuble qui communique directement avec le métro Sherbrooke, station de bus au pied de l'immeuble (Ligne 24, 30) bus 747 pour l'aéroport à 7min à pieds, épicerie à 5min à pieds. Perfectly located studio in Montréal in the middle of the Plateau and the Village, in a building which is directly connected with the Sherbrooke metro station, bus Station down the building Line (Phone number hidden by Airbnb) from the airport 7min away walking.\"},\n",
       " {'user_input': 'Bright apartment in trendy Barcelona neighborhood near the beach, Sagrada Familia, Glories Shopping Mall, and vibrant historic streets like Ramblas, Gothica, and El Born, with easy metro access. Perfect for families seeking a lively, authentic Spanish experience close to attractions and beaches.',\n",
       "  'retrieved_contexts': [\"This bright apartment is located in Barca's most upcoming neighbourhood. Walk along the street and you will reach Barca's finest beach. So you easily get a glimp of Barca's vibrant beach life. Close to the metro station, Glories Shopping mall & the beautiful Sagrada Familia. Also Ramblas, Gothica and El Born are closeby. In these historical streets you enjoy the best original spanish tapas! Ideal place for families.  It is our pleasure to make sure you have a unforgetable stay!\"],\n",
       "  'response': '¡Hola! Aquí tienes algunas recomendaciones de propiedades que se ajustan perfectamente a tus criterios en Barcelona:\\n\\n1. **Bright Apartment in Eixample**\\n   - **URL del listado**: [Bright Apartment in Eixample](https://www.airbnb.com/rooms/12345678)\\n   - **URL de la imagen**: ![Bright Apartment in Eixample](https://a.airbnb.com/12345678.jpg)\\n   - **Por qué lo elegí**: Este apartamento es luminoso y moderno, ubicado en el barrio de Eixample, que es conocido por su arquitectura impresionante y su cercanía a la Sagrada Familia. Además, está a solo unos minutos en metro de la playa y de las zonas históricas como Ramblas y El Born. Ideal para familias, cuenta con espacio suficiente y comodidades para una estancia agradable.\\n\\n2. **Family-Friendly Flat Near the Beach**\\n   - **URL del listado**: [Family-Friendly Flat Near the Beach](https://www.airbnb.com/rooms/23456789)\\n   - **URL de la imagen**: ![Family-Friendly Flat Near the Beach](https://a.airbnb.com/23456789.jpg)\\n   - **Por qué lo elegí**: Este apartamento está situado en un barrio vibrante y está a poca distancia de la playa. Ofrece fácil acceso al metro y está cerca de Glories Shopping Mall. Es perfecto para familias, con un ambiente acogedor y acceso a tapas auténticas en las calles cercanas.\\n\\n3. **Charming Apartment in Gothic Quarter**\\n   - **URL del listado**: [Charming Apartment in Gothic Quarter](https://www.airbnb.com/rooms/34567890)\\n   - **URL de la imagen**: ![Charming Apartment in Gothic Quarter](https://a.airbnb.com/34567890.jpg)\\n   - **Por qué lo elegí**: Este encantador apartamento se encuentra en el corazón del barrio gótico, rodeado de historia y cultura. A solo un corto paseo de la playa y de la Sagrada Familia, es ideal para familias que buscan una experiencia auténtica. La decoración es acogedora y refleja el estilo español.\\n\\nEspero que estas opciones te ayuden a encontrar el lugar perfecto para tu estancia en Barcelona. ¡Disfruta de tu viaje! Si necesitas más información, no dudes en preguntar.',\n",
       "  'reference': \"This bright apartment is located in Barca's most upcoming neighbourhood. Walk along the street and you will reach Barca's finest beach. So you easily get a glimp of Barca's vibrant beach life. Close to the metro station, Glories Shopping mall & the beautiful Sagrada Familia. Also Ramblas, Gothica and El Born are closeby. In these historical streets you enjoy the best original spanish tapas! Ideal place for families.  It is our pleasure to make sure you have a unforgetable stay!\"},\n",
       " {'user_input': 'Cozy boutique apartment for 3-4 people near Beyoglu, quiet and charming environment, suitable for relaxing stays, with an extra bed option, perfect for those seeking a peaceful and decent place close to activities.',\n",
       "  'retrieved_contexts': ['Cute and lovely boutique apart for 3 persons. 1 extra bed is avaliable for this apart making it suitable up to 4 persons. A cosy place for those who seek quiet and decent environment, near activities. The apartment is near Beyoglu.'],\n",
       "  'response': \"I have a great recommendation for you! \\n\\n**Cozy Boutique Apartment in Beyoglu**  \\n- **Search Score:** High  \\n- **URL:** [Airbnb Listing](https://www.airbnb.com/rooms/example)  \\n- **Image URL:** ![Apartment Image](https://www.example.com/image.jpg)  \\n\\n### Why I Chose This Property:\\nThis cute and lovely boutique apartment is perfect for your needs. It accommodates up to 4 people comfortably, thanks to the extra bed option. The environment is quiet and charming, making it ideal for relaxing stays. Plus, it's conveniently located near Beyoglu, so you can easily access various activities while still enjoying a peaceful retreat.\\n\\n### Features:\\n- **Capacity:** Suitable for 3-4 guests  \\n- **Extra Bed:** Available for added comfort  \\n- **Location:** Close to Beyoglu, providing access to vibrant city life while maintaining a serene atmosphere  \\n\\nI hope this recommendation helps you find the perfect place for your stay! If you have any other preferences or questions, feel free to ask!\",\n",
       "  'reference': 'Cute and lovely boutique apart for 3 persons. 1 extra bed is avaliable for this apart making it suitable up to 4 persons. A cosy place for those who seek quiet and decent environment, near activities. The apartment is near Beyoglu.'},\n",
       " {'user_input': 'Bright one-bedroom apartment with stunning views of Sydney Harbour Bridge and Harbour, balcony, wifi, undercover parking, close to ferry wharf, train station, and bus, featuring a Queen Bed and sofa bed, ideal for a scenic and convenient stay in North Sydney.',\n",
       "  'retrieved_contexts': ['This one bedroom apartment is bright and airy with unique views of the Sydney Harbour Bridge, Sydney Harbour and surrounding North Sydney and Kirribilli. One Queen Bed + Sofa Bed, wifi, balcony, undercover parking, 5 minutes to Ferry wharf, 7 minutes to Milsons Point train station, 2 minutes to bus. This apartment is quiet, neat and compact, with a newly renovated kitchen and bathroom and a great balcony for entertaining or just taking in the view. There is also a common grassed area just beneath the apartment with views of the Harbour Bridge as well which is excellent for picnics.  The apartment has a Queen Bed in the bedroom but also a Double Sofa Bed which would be fine for occasional guests or perhaps a child, though the apartment is ideal for 1-2 adults. There is a flat screen TV, DVD player, fully equipped kitchen, table and chairs (in the main room, plus an outdoor table and chairs on the balcony) ceiling fans, heaters and wireless internet access, as well as a common coin opera'],\n",
       "  'response': '¡Hola! Aquí tienes algunas recomendaciones de propiedades que se ajustan a tu búsqueda de un apartamento de una habitación brillante con vistas impresionantes del Puente de la Bahía de Sídney y la bahía. He priorizado opciones con altas puntuaciones de búsqueda y características similares a las que mencionaste.\\n\\n### 1. **Apartamento con vistas al Puente de Sídney**\\n- **URL del listado:** [Ver apartamento](https://www.airbnb.com/rooms/12345678)\\n- **URL de la imagen:** ![Apartamento con vistas](https://a.airbnb.com/12345678.jpg)\\n  \\n**Razones para elegirlo:**\\nEste apartamento ofrece vistas espectaculares del Puente de la Bahía de Sídney y cuenta con un balcón perfecto para disfrutar de la vista. Tiene una cama Queen y un sofá cama, ideal para 1-2 adultos. Además, está a solo unos minutos de la estación de tren y del muelle de ferry, lo que lo hace muy conveniente para explorar la ciudad. La cocina está completamente equipada y el espacio es luminoso y acogedor.\\n\\n### 2. **Moderno apartamento en North Sydney**\\n- **URL del listado:** [Ver apartamento](https://www.airbnb.com/rooms/23456789)\\n- **URL de la imagen:** ![Moderno apartamento](https://a.airbnb.com/23456789.jpg)\\n\\n**Razones para elegirlo:**\\nEste apartamento también cuenta con vistas al puerto y un balcón donde puedes relajarte. Tiene una cama Queen y un sofá cama, además de wifi y estacionamiento cubierto. La ubicación es excelente, a pocos minutos de las opciones de transporte público. La decoración es moderna y el ambiente es tranquilo, perfecto para una estancia relajante.\\n\\nAmbas propiedades ofrecen características que coinciden con tus criterios, como la cercanía al transporte público, vistas impresionantes y comodidades modernas. ¡Espero que encuentres el lugar perfecto para tu estancia en Sídney! Si necesitas más ayuda, no dudes en preguntar.',\n",
       "  'reference': 'This one bedroom apartment is bright and airy with unique views of the Sydney Harbour Bridge, Sydney Harbour and surrounding North Sydney and Kirribilli. One Queen Bed + Sofa Bed, wifi, balcony, undercover parking, 5 minutes to Ferry wharf, 7 minutes to Milsons Point train station, 2 minutes to bus. This apartment is quiet, neat and compact, with a newly renovated kitchen and bathroom and a great balcony for entertaining or just taking in the view. There is also a common grassed area just beneath the apartment with views of the Harbour Bridge as well which is excellent for picnics.  The apartment has a Queen Bed in the bedroom but also a Double Sofa Bed which would be fine for occasional guests or perhaps a child, though the apartment is ideal for 1-2 adults. There is a flat screen TV, DVD player, fully equipped kitchen, table and chairs (in the main room, plus an outdoor table and chairs on the balcony) ceiling fans, heaters and wireless internet access, as well as a common coin opera'},\n",
       " {'user_input': 'Two-bedroom apartment with a king bed, large closet, air conditioning in the room, cable TV, wireless internet, cozy atmosphere, available for daily rent or just the room, affordable at $200 a day.',\n",
       "  'retrieved_contexts': [\"Two bedroom apartment for rent with a king bed, very large closet in a very cozy apartment. Air conditioner in room, cable, wireless Internet and air conditioning. $200 a day. If you'd like just the room rental it is also available. air conditioner in the entire apartment. access to the entire apartment except one bedroom.  High speed Wifi available Minimal everything is walking distance. post office, varity of supermarkets, gym, shopping center. pier1 imports, century 21, khols , tjmax, sears, marshall, red mango, Ales Miller house, Queens center mall. Pool in building and 2 other pools in the area. walking distance from flushing medow park, 10 min walk to the train. US Open near by Q72 and Q88 R and M train to 63 drive rego park If you would just like to rent one room for the night it is available for 100 a night.\"],\n",
       "  'response': '¡Hola! Aquí tienes una recomendación para un apartamento de dos habitaciones que se ajusta a tus criterios:\\n\\n### Apartamento de Dos Habitaciones\\n- **Precio**: $200 por día (también disponible solo la habitación por $100)\\n- **Características**:\\n  - Cama king size\\n  - Armario muy grande\\n  - Aire acondicionado en la habitación\\n  - Televisión por cable\\n  - Internet inalámbrico de alta velocidad\\n  - Ambiente acogedor\\n  - Acceso a la piscina en el edificio y otras dos piscinas en la zona\\n  - A poca distancia de Flushing Meadow Park y varias tiendas y supermercados\\n\\n#### URL del listado: [Ver apartamento en Airbnb](https://www.airbnb.com/rooms/12345678)  \\n#### URL de la imagen: ![Imagen del apartamento](https://a.airbnb.com/room12345678.jpg)\\n\\n### ¿Por qué elegí este apartamento?\\nEste apartamento tiene todas las características que mencionaste: una cama king size, un armario grande y aire acondicionado. Además, el ambiente acogedor y la disponibilidad de acceso a la piscina son un gran plus. La ubicación es excelente, con muchas comodidades a poca distancia, lo que lo hace ideal para una estancia cómoda y conveniente.\\n\\nSi necesitas más información o tienes alguna otra pregunta, ¡no dudes en preguntar!',\n",
       "  'reference': \"Two bedroom apartment for rent with a king bed, very large closet in a very cozy apartment. Air conditioner in room, cable, wireless Internet and air conditioning. $200 a day. If you'd like just the room rental it is also available. air conditioner in the entire apartment. access to the entire apartment except one bedroom.  High speed Wifi available Minimal everything is walking distance. post office, varity of supermarkets, gym, shopping center. pier1 imports, century 21, khols , tjmax, sears, marshall, red mango, Ales Miller house, Queens center mall. Pool in building and 2 other pools in the area. walking distance from flushing medow park, 10 min walk to the train. US Open near by Q72 and Q88 R and M train to 63 drive rego park If you would just like to rent one room for the night it is available for 100 a night.\"},\n",
       " {'user_input': 'Comfortable room in large apartment with queen bed, private parking, basement, kitchen, dining area, backyard access, near metro, multilingual hosts, affordable stay, convenient location for exploring the city.',\n",
       "  'retrieved_contexts': [\"Private entrance to attached studio has separate and private bathroom and large lanai (balcony). Queen size bed, full size refrigerator, kitchenette, access to pool/hottub/bbq area.  Princeville is centrally located near local beaches and commerce. This comfortable and private space is the perfect place to enjoy a relaxing and/or adventurous holiday. With a comfortable bed for a good night's sleep, a spacious lanai for relaxing in between exploration, a simple kitchenette for preparing affordable meals at home, a pool/hottub/bbq area for unwinding after long beach days, and a convenient location to dining, shopping, golf, bus stop, post office, groceries, parks and beaches Guests have their own private entrance adjacent to the owner's entrance. All apartments have equal access to grounds and keyed entry pool area. Parking is free, though some stalls are reserved. Your hosts, Dan and Erin, live part-time in Hawaii and part-time in the Bay Area, so the accommodations are set up to be sel\"],\n",
       "  'response': \"Based on your request for a comfortable room in a large apartment with various amenities, I have found a great option that matches your criteria:\\n\\n### Listing Recommendation:\\n**Private Studio in Princeville**\\n- **URL:** [View Listing](https://www.airbnb.com/rooms/12345678) \\n- **Image URL:** ![Studio Image](https://a.airbnb.com/12345678.jpg)\\n\\n#### Why I Chose This Property:\\n1. **Comfortable Accommodation:** The studio features a queen-size bed, ensuring a good night's sleep after a day of exploring.\\n2. **Private Entrance & Bathroom:** You have your own private entrance and a separate bathroom, providing the privacy you desire.\\n3. **Kitchenette:** The kitchenette allows you to prepare affordable meals, which is perfect for budget-conscious travelers.\\n4. **Outdoor Space:** The large lanai (balcony) offers a relaxing space to unwind, and you also have access to a pool, hot tub, and BBQ area for leisure.\\n5. **Convenient Location:** Centrally located in Princeville, you are near local beaches, dining, shopping, and other amenities, making it easy to explore the area.\\n6. **Parking:** Free parking is available, which is a great convenience for guests with vehicles.\\n\\nThis property is ideal for both relaxation and adventure, making it a perfect fit for your needs. Enjoy your stay!\",\n",
       "  'reference': 'Hi! I have a simple room in a gigantic apartment for rent. w/ queen size bed, private parking, basement, kitchen /dining room backyard access, 800m to metro. email for info. We speak French, english, spanish and chinese. À plus tard!'},\n",
       " {'user_input': 'A studio with ceramic tiled floors, a large porcelain tiled shower, bamboo-insulated ceilings, and access to a renovated pool complex with a large pool, jacuzzi, and Weber gas grills, located in Sandpiper Village I near beautiful landscaped grounds.',\n",
       "  'retrieved_contexts': ['Our Studio has ceramic tiled floors and a large porcelain tiled shower. All the ceiling areas have been filled with insulation and faced with 2-ply bamboo. Our studio is located at Sandpiper Village I. The Sandpiper grounds boast beautiful mature landscaping and a recently renovated pool complex with a large tile-bottomed pool plus a good size jacuzzi and two Webber gas grills. My studio is less than a minute walk to the pool. HI TAX ID: TA (Phone number hidden by Airbnb) HI TAX ID: GE (Phone number hidden by Airbnb) You will find our rental rates on Airbnb to be very competitive and include Hawaii taxes. Our rates are also structured with discounts based on length-of-stay beginning with seven nights or more. Our Studio is completley renovated with ceramic tiled floors and a large porcelain tiled shower. All the ceiling areas have been filled with insulation and faced with 2-ply bamboo. Along with fresh paint throughout, all electrical outlets and switches have been replaced and additi'],\n",
       "  'response': \"Based on your request for a studio with specific features in Sandpiper Village I, I have found a property that matches your criteria perfectly. Here are the details:\\n\\n### Studio in Sandpiper Village I\\n- **URL**: [View Listing](https://www.airbnb.com/rooms/12345678) (This is a placeholder link; please replace it with the actual listing URL)\\n- **Image**: ![Studio Image](https://www.example.com/image.jpg) (This is a placeholder image URL; please replace it with the actual image URL)\\n\\n#### Why I Chose This Property:\\n1. **Matching Features**: The studio has ceramic tiled floors and a large porcelain tiled shower, just as you specified. The bamboo-insulated ceilings provide a unique and eco-friendly touch.\\n2. **Proximity to Amenities**: It is located less than a minute's walk from the renovated pool complex, which includes a large pool, jacuzzi, and Weber gas grills, perfect for relaxation and outdoor cooking.\\n3. **Beautiful Landscaping**: The property is situated in a beautifully landscaped area, enhancing the overall experience of your stay.\\n\\n#### Additional Highlights:\\n- **Renovated Space**: The studio has been completely renovated, ensuring a fresh and modern feel.\\n- **Competitive Rates**: The rental rates are competitive and include Hawaii taxes, with discounts available for longer stays.\\n\\nI hope this recommendation helps you find the perfect place for your stay! If you have any more questions or need further assistance, feel free to ask.\",\n",
       "  'reference': 'Our Studio has ceramic tiled floors and a large porcelain tiled shower. All the ceiling areas have been filled with insulation and faced with 2-ply bamboo. Our studio is located at Sandpiper Village I. The Sandpiper grounds boast beautiful mature landscaping and a recently renovated pool complex with a large tile-bottomed pool plus a good size jacuzzi and two Webber gas grills. My studio is less than a minute walk to the pool. HI TAX ID: TA (Phone number hidden by Airbnb) HI TAX ID: GE (Phone number hidden by Airbnb) You will find our rental rates on Airbnb to be very competitive and include Hawaii taxes. Our rates are also structured with discounts based on length-of-stay beginning with seven nights or more. Our Studio is completley renovated with ceramic tiled floors and a large porcelain tiled shower. All the ceiling areas have been filled with insulation and faced with 2-ply bamboo. Along with fresh paint throughout, all electrical outlets and switches have been replaced and additi'},\n",
       " {'user_input': 'Experience a private, quiet oceanfront condo in Maui with breathtaking ocean views, daily sunsets, tropical bird sounds, beach and pool access, and a serene end-unit location in Ekahi Village, perfect for enjoying the aloha spirit and ultimate relaxation.',\n",
       "  'retrieved_contexts': [\"Wake up to the sounds of tropical birds singing, waves crashing - breath taking ocean views and sunsets daily during your stay in Maui. This is a very private and quiet condo end unit with great neighbors and one of the closest units with an ocean front view in the Ekahi Village. With beach and pool access, you'll be able to experience Maui to the fullest! We look forward to sharing our unit and the aloha spirit with you. Located in the Wailea Ekahi Village - 29F has sweeping ocean views and is one of the best condos in Maui. The private remodeled end unit is best suited for quiet couples looking for a home away from home. However, we are now welcoming families spend their vacations with us! Children can sleep on the pull-out couch in the living room, while you can enjoy a stunning master bedroom with a private bathroom.  The Master bedroom has a completely redesigned bath/dressing area with walk in tile and glass shower. The second bathroom also features a walk-in shower with glass wa\"],\n",
       "  'response': \"Aloha! Based on your request for a private, quiet oceanfront condo in Maui, I have found a couple of excellent options that match your criteria perfectly. Here are my top recommendations:\\n\\n### 1. **Wailea Ekahi Village, Condo 29F**\\n- **URL:** [View Listing](https://www.airbnb.com/rooms/12345678) \\n- **Image:** ![Condo 29F](https://a.airbnb.com/12345678.jpg)\\n\\n**Why I chose this property:**\\nThis condo is exactly what you're looking for! It is an end unit, providing the privacy and quiet atmosphere you desire. With breathtaking ocean views and daily sunsets, you can truly immerse yourself in the beauty of Maui. The property also offers beach and pool access, making it perfect for relaxation and enjoyment.\\n\\n**Features:**\\n- Sweeping ocean views\\n- Private remodeled end unit\\n- Master bedroom with a private bathroom\\n- Walk-in tile and glass shower\\n- Family-friendly with a pull-out couch in the living room\\n\\n### 2. **Oceanfront Paradise in Wailea**\\n- **URL:** [View Listing](https://www.airbnb.com/rooms/87654321)\\n- **Image:** ![Oceanfront Paradise](https://a.airbnb.com/87654321.jpg)\\n\\n**Why I chose this property:**\\nThis property is also located in Wailea and offers stunning oceanfront views. It has a serene atmosphere, perfect for couples or families looking to unwind. The condo is well-equipped and designed for comfort, ensuring a relaxing stay.\\n\\n**Features:**\\n- Direct oceanfront access\\n- Spacious living area with modern amenities\\n- Access to community pools and beach\\n- Quiet location with beautiful surroundings\\n\\nBoth of these options will allow you to experience the aloha spirit and enjoy the ultimate relaxation you seek. If you have any questions or need further assistance, feel free to ask! Enjoy your stay in Maui! 🌺\",\n",
       "  'reference': \"Wake up to the sounds of tropical birds singing, waves crashing - breath taking ocean views and sunsets daily during your stay in Maui. This is a very private and quiet condo end unit with great neighbors and one of the closest units with an ocean front view in the Ekahi Village. With beach and pool access, you'll be able to experience Maui to the fullest! We look forward to sharing our unit and the aloha spirit with you. Located in the Wailea Ekahi Village - 29F has sweeping ocean views and is one of the best condos in Maui. The private remodeled end unit is best suited for quiet couples looking for a home away from home. However, we are now welcoming families spend their vacations with us! Children can sleep on the pull-out couch in the living room, while you can enjoy a stunning master bedroom with a private bathroom.  The Master bedroom has a completely redesigned bath/dressing area with walk in tile and glass shower. The second bathroom also features a walk-in shower with glass wa\"},\n",
       " {'user_input': 'Bright, airy private room with own bathroom near the beach, just half a block away, close to restaurants, cafes, and shops in Brighton Le Sands, 5.2km from the airport and 2.5km from St George Hospital, suitable for couples, solo travelers, and business visitors.',\n",
       "  'retrieved_contexts': ['My home is close to the Airport (5.2km - no Airport noise) and St George Hospital (2.5km), it is half a block from the beach, 15 min walk to the Novotel Hotel in  Brighton Le sands where you can also find an abundance of restaurants, cafes and shops. You’ll love my place because of the light, airy room in our spacious house and your own  bathroom. My place is good for couples, solo adventurers and business travellers. We are on the 3rd floor with no lift. Angela and Coby Welcomes You To Monterey The Room:  A bright and airy room awaits you which features: A Double size bed in a private room Desk Access to unlimited Wi-Fi Internet Kitchen Dining room Balcony Laundry service (I will do your washing for you at no charge - its a big machine,  and I am washing everyday so easier for me to do for you.) Bedroom, main bathroom, kitchen, dining room, balcony and laundry (baskets on top of laundry cupboard to put your dirty washing in, I will return it outside your bedroom door when dry). My son'],\n",
       "  'response': 'Based on your request for a bright, airy private room with its own bathroom near the beach in Brighton Le Sands, I have found a couple of excellent Airbnb listings that match your criteria. Here are my top recommendations:\\n\\n### 1. **Bright and Airy Room Near the Beach**\\n- **URL:** [Airbnb Listing](https://www.airbnb.com/rooms/12345678)\\n- **Image URL:** ![Room Image](https://a.airbnb.com/room12345678.jpg)\\n\\n**Why I chose this property:**\\nThis listing is just a short walk from the beach, similar to your description. It features a bright and airy atmosphere, perfect for couples or solo travelers. The room includes a private bathroom, which is a key requirement for your stay. Additionally, it offers access to a kitchen and dining area, making it convenient for meals.\\n\\n### 2. **Cozy Beachside Retreat**\\n- **URL:** [Airbnb Listing](https://www.airbnb.com/rooms/87654321)\\n- **Image URL:** ![Room Image](https://a.airbnb.com/room87654321.jpg)\\n\\n**Why I chose this property:**\\nThis cozy retreat is also located near the beach and is well-rated for its cleanliness and comfort. It has a private bathroom and is close to various restaurants and cafes, just like your home. The property is suitable for business travelers and solo adventurers, providing a peaceful environment to unwind after a busy day.\\n\\nBoth of these properties are highly rated and offer the amenities you are looking for, including proximity to the beach, restaurants, and shops. They also provide a comfortable and welcoming atmosphere, making them ideal for your stay. Enjoy your time in Brighton Le Sands!',\n",
       "  'reference': 'My home is close to the Airport (5.2km - no Airport noise) and St George Hospital (2.5km), it is half a block from the beach, 15 min walk to the Novotel Hotel in  Brighton Le sands where you can also find an abundance of restaurants, cafes and shops. You’ll love my place because of the light, airy room in our spacious house and your own  bathroom. My place is good for couples, solo adventurers and business travellers. We are on the 3rd floor with no lift. Angela and Coby Welcomes You To Monterey The Room:  A bright and airy room awaits you which features: A Double size bed in a private room Desk Access to unlimited Wi-Fi Internet Kitchen Dining room Balcony Laundry service (I will do your washing for you at no charge - its a big machine,  and I am washing everyday so easier for me to do for you.) Bedroom, main bathroom, kitchen, dining room, balcony and laundry (baskets on top of laundry cupboard to put your dirty washing in, I will return it outside your bedroom door when dry). My son'},\n",
       " {'user_input': 'Apartamento de 30m2 em casa com 6 unidades, localizado no centro de Santa Teresa, ideal para quem busca hospedagem confortável, prática e próxima às atrações do bairro histórico.',\n",
       "  'retrieved_contexts': ['Apartamento de 30m2, em uma casa c/ 6 apartamentos, localizada no centro de Santa Teresa. O aprtamento tem configuração de um mini-loft, com os espaços integrados. É bem luminoso e possui um balcão com vista para a rua.'],\n",
       "  'response': 'Olá! Com base na sua descrição de um apartamento de 30m² em Santa Teresa, aqui estão algumas recomendações que podem atender ao que você está buscando:\\n\\n1. **Apartamento Charmoso em Santa Teresa**\\n   - **URL do anúncio:** [Clique aqui](https://www.airbnb.com.br/rooms/12345678)\\n   - **URL da imagem:** ![Imagem do apartamento](https://a.airbnb.com/12345678.jpg)\\n   - **Por que escolhi este imóvel:** Este apartamento também é um mini-loft, com uma configuração integrada que maximiza o espaço. Ele é bem iluminado e possui uma varanda com vista para a rua, ideal para relaxar após um dia explorando o bairro histórico.\\n\\n2. **Estúdio Moderno em Santa Teresa**\\n   - **URL do anúncio:** [Clique aqui](https://www.airbnb.com.br/rooms/87654321)\\n   - **URL da imagem:** ![Imagem do estúdio](https://a.airbnb.com/87654321.jpg)\\n   - **Por que escolhi este imóvel:** Este estúdio é compacto e prático, perfeito para quem busca conforto. Ele está localizado no coração de Santa Teresa, próximo a várias atrações culturais e gastronômicas, assim como o seu apartamento.\\n\\n3. **Loft Aconchegante em Santa Teresa**\\n   - **URL do anúncio:** [Clique aqui](https://www.airbnb.com.br/rooms/23456789)\\n   - **URL da imagem:** ![Imagem do loft](https://a.airbnb.com/23456789.jpg)\\n   - **Por que escolhi este imóvel:** Este loft é bem iluminado e possui uma decoração moderna. A localização é excelente, permitindo fácil acesso às principais atrações do bairro, assim como o seu apartamento.\\n\\nEssas opções foram escolhidas por suas características que se alinham com o que você mencionou: conforto, praticidade e proximidade das atrações de Santa Teresa. Espero que você encontre a hospedagem perfeita! Se precisar de mais informações, estou à disposição!',\n",
       "  'reference': 'Apartamento de 30m2, em uma casa c/ 6 apartamentos, localizada no centro de Santa Teresa. O aprtamento tem configuração de um mini-loft, com os espaços integrados. É bem luminoso e possui um balcão com vista para a rua.'},\n",
       " {'user_input': 'Spacious garden apartment in a historic brownstone with 3 double bedrooms, 1.5 bathrooms, two windows, closet, recently renovated with old character and modern finishes, perfect for a comfortable stay.',\n",
       "  'retrieved_contexts': [\"This spacious apartment in a historic brownstone has 3 double bedrooms, and 1 and 1/2 bathrooms. The room has two windows and a closet. It's a beautiful garden unit in a recently renovated brownstone with old character and new finishing. This spacious apartment in a historic brownstone has 3 double bedrooms, and 1 and 1/2 bathrooms. The room has two windows and a closet. It's a beautiful garden unit in a recently renovated brownstone with old character and new finishing, included in the Bedford Historic District. Everything is brand new including the central air and heat, marble bathroom, stainless steel appliances, and hardwood floors, as well as exposed brick throughout. The neighborhood is gorgeous on a charming brownstone street, close to plenty of hotspots on Tompkins, Franklin and Bedford Avenues (Hothouse, Saraghina (best Italian in all of NYC), bakeries, new restaurants, coffee shops and boutiques. Metro stations Nostrand (A/C) or Bedford-Nostrand (G). It's a rather extraordina\"],\n",
       "  'response': '¡Hola! Aquí tienes una recomendación para un apartamento que se ajusta a tus criterios:\\n\\n### Apartamento en Brownstone Histórico\\n- **Descripción**: Este espacioso apartamento en un brownstone histórico cuenta con 3 habitaciones dobles y 1.5 baños. Tiene dos ventanas y un armario, y ha sido recientemente renovado, manteniendo su carácter antiguo pero con acabados modernos.\\n- **Características destacadas**:\\n  - **Espacio**: Amplio y cómodo, ideal para una estancia agradable.\\n  - **Acabados**: Incluye aire acondicionado central, baño de mármol, electrodomésticos de acero inoxidable y suelos de madera.\\n  - **Estilo**: Expuesto ladrillo que añade un toque de encanto.\\n  - **Ubicación**: Situado en el encantador distrito histórico de Bedford, cerca de restaurantes, cafeterías y boutiques.\\n\\n#### Enlace a la propiedad:\\n[Ver apartamento en Airbnb](https://www.airbnb.com/rooms/12345678)\\n\\n#### Imagen del apartamento:\\n![Apartamento en Brownstone](https://a.airbnb.com/room/12345678/photo.jpg)\\n\\nElegí este apartamento porque cumple con todas tus especificaciones y está en una ubicación vibrante, perfecta para disfrutar de la cultura local y la gastronomía. ¡Espero que te guste! Si necesitas más opciones o información, no dudes en preguntar.',\n",
       "  'reference': \"This spacious apartment in a historic brownstone has 3 double bedrooms, and 1 and 1/2 bathrooms. The room has two windows and a closet. It's a beautiful garden unit in a recently renovated brownstone with old character and new finishing. This spacious apartment in a historic brownstone has 3 double bedrooms, and 1 and 1/2 bathrooms. The room has two windows and a closet. It's a beautiful garden unit in a recently renovated brownstone with old character and new finishing, included in the Bedford Historic District. Everything is brand new including the central air and heat, marble bathroom, stainless steel appliances, and hardwood floors, as well as exposed brick throughout. The neighborhood is gorgeous on a charming brownstone street, close to plenty of hotspots on Tompkins, Franklin and Bedford Avenues (Hothouse, Saraghina (best Italian in all of NYC), bakeries, new restaurants, coffee shops and boutiques. Metro stations Nostrand (A/C) or Bedford-Nostrand (G). It's a rather extraordina\"},\n",
       " {'user_input': 'Cozy apartment with modern amenities, beachfront location, private balcony with ocean views, fully equipped kitchen, high-speed Wi-Fi, and close to local attractions for a relaxing and convenient seaside stay.',\n",
       "  'retrieved_contexts': [\"Fantastic Duplex penthouse fully equipped with private terrace and amazing views, air conditioner, high speed wi-fi and Smart TV. Close to the beach and the city center. Awesome Duplex penthouse fully equipped with private terrace and amazing views. The apartment has Nespresso coffee machine, air conditioner, Smart TV, High speed  Wi-fi fiber connection. FULL EQUIPPED KITCHEN - Large fridge  - Glass-ceramic hob  - Microwave  - Washing & dryer machine  - Nespresso machine (capsules included) - Toaster - All kitchen/dishes stuff you could need to enjoy cooking at home. All the apartment and the private terrace. Nespresso coffee machine. High speed Wi-fi. 24/7 Emergency calls Apartament's location is AMAZING, close to the beach (less than 1 minute walking distance) and for tourism since you can enjoy most of Barcelona's points of interest just by walk. As an example, you are less than 10 minutes by walk from: Beach Ramblas Plaza Real Barcelona's Town Hall and Palau de la Generalitat Picas\"],\n",
       "  'response': '¡Hola! Basado en tu búsqueda de un apartamento acogedor con comodidades modernas y una ubicación frente a la playa, tengo una recomendación que se ajusta perfectamente a tus criterios:\\n\\n### **Fantástico Dúplex Penthouse**\\n- **Descripción**: Este impresionante dúplex cuenta con una terraza privada y vistas increíbles. Está completamente equipado con aire acondicionado, Wi-Fi de alta velocidad y un Smart TV. La cocina está totalmente equipada, lo que te permitirá disfrutar de tus comidas en casa.\\n- **Características destacadas**:\\n  - **Ubicación**: A menos de 1 minuto a pie de la playa y cerca del centro de la ciudad, lo que te permite acceder fácilmente a las atracciones locales.\\n  - **Cocina completa**: Incluye una gran nevera, vitrocerámica, microondas, lavadora y secadora, máquina de café Nespresso (con cápsulas incluidas), tostadora y todo lo necesario para cocinar.\\n  - **Terraza privada**: Perfecta para disfrutar de las vistas al océano y relajarte al aire libre.\\n\\n- **URL del listado**: [Fantástico Dúplex Penthouse en Airbnb](https://www.airbnb.com/rooms/12345678) (este es un enlace de ejemplo, por favor verifica en la plataforma real)\\n- **URL de la imagen**: ![Dúplex Penthouse](https://example.com/image.jpg) (este es un enlace de ejemplo, por favor verifica en la plataforma real)\\n\\nElegí este apartamento porque cumple con todas tus necesidades: tiene una ubicación ideal frente a la playa, una cocina completamente equipada y una terraza privada para disfrutar de las vistas. Además, la conexión Wi-Fi de alta velocidad y el aire acondicionado aseguran que tu estancia sea cómoda y relajante.\\n\\n¡Espero que esta recomendación te ayude a encontrar el lugar perfecto para tu estancia! Si necesitas más información o más opciones, no dudes en preguntar.',\n",
       "  'reference': \"Beyoğlun'a 2 dk mesafede, Merkezi lokasyonda, şirin, son derece kullanışlı, her ihtiyacınızı karşılayacak, müthiş bir tarihi stüdyo, (1+0 - 10m2). Bina önden 4 katlı,  arkadan 5 katlı'dır. Stüdyo 2, girişin alt katında, arka tarafın zemin hizasındadır, (Stüdyo, girişin alt katındadır). Minimal kullanım alanı fakat, mutfak ve her türlü mutfak gereci, bir banyo, bir oturma grubu ile  ihtiyacınız olan her şey. Size kalan rezervasyon yapmak ve neredeyse bedava konaklamanın keyfini çıkarmak...\"}]"
      ]
     },
     "execution_count": 194,
     "metadata": {},
     "output_type": "execute_result"
    }
   ],
   "source": [
    "dataset"
   ]
  },
  {
   "cell_type": "code",
   "execution_count": 195,
   "metadata": {},
   "outputs": [],
   "source": [
    "from ragas import EvaluationDataset\n",
    "from ragas import evaluate\n",
    "from ragas.llms import LangchainLLMWrapper\n",
    "from ragas.metrics import LLMContextRecall, Faithfulness, FactualCorrectness\n",
    "\n",
    "\n",
    "evaluation_dataset = EvaluationDataset.from_list(dataset)\n",
    "evaluator_llm = LangchainLLMWrapper(ChatOpenAI(model=\"gpt-4.1-nano\"))"
   ]
  },
  {
   "cell_type": "code",
   "execution_count": 196,
   "metadata": {},
   "outputs": [
    {
     "name": "stderr",
     "output_type": "stream",
     "text": [
      "Evaluating:  52%|█████▏    | 31/60 [00:15<00:08,  3.59it/s]Exception raised in Job[17]: OutputParserException(Invalid json output: {\n",
      "    \"claims\": [\n",
      "      \"The property is located on the waterfront on the canal.\",\n",
      "      \"Guests can wake up on the water.\",\n",
      "      \"Guests can walk to the beach.\",\n",
      "      \"The property is located just outside of downtown Kailua.\",\n",
      "      \"Kailua is a beach town situated along one of the best stretches of sand in the country.\",\n",
      "      \"The home is a two-story house.\",\n",
      "      \"The house has been split to make a comfortable place for guests.\",\n",
      "      \"The unit is directly above a second AirBnB unit.\",\n",
      "      \"The second AirBnB unit may or may not be rented during the guest's stay.\",\n",
      "      \"Guests are encouraged to rent both units with their best friend.\",\n",
      "      \"The welcome phrase \"E Komo Mai\" means \"Welcome\".\",\n",
      "      \"The hosts hope guests have the best time staying and playing in Hawaii.\",\n",
      "      \"The hosts hope guests leave with many fond memories of their time on the island.\",\n",
      "      \"Hawaii has some of the best beaches in the world.\",\n",
      "      \"Hawaii has oceans the color of jade and emerald.\",\n",
      "      \"Hawaii has waterfalls that can be hiked to.\",\n",
      "      \"Hawaii has a year-round verdant green jungle.\",\n",
      "      \"The unit is waterfront on the canal.\",\n",
      "      \"The unit is a short walk (0.6 miles) to the beach.\",\n",
      "      \"The home is immaculate.\",\n",
      "      \"The home is ready to be a guest's little slice of paradise.\"\n",
      "    ]\n",
      "  }\n",
      "For troubleshooting, visit: https://python.langchain.com/docs/troubleshooting/errors/OUTPUT_PARSING_FAILURE )\n",
      "Evaluating:  75%|███████▌  | 45/60 [00:22<00:05,  2.93it/s]Exception raised in Job[48]: OutputParserException(Failed to parse StringIO from completion {\"claims\": [\"My home is close to the Airport (5.2km - no Airport noise) and St George Hospital (2.5km).\", \"It is half a block from the beach.\", \"15 min walk to the Novotel Hotel in Brighton Le Sands where you can also find an abundance of restaurants, cafes and shops.\", \"You\\u2019ll love my place because of the light, airy room in our spacious house and your own bathroom.\", \"My place is good for couples, solo travelers, and business visitors.\", \"We are on the 3rd floor with no lift.\", \"Angela and Coby Welcomes You To Monterey The Room: A bright and airy room awaits you which features: A Double size bed in a private room Desk Access to unlimited Wi-Fi Internet Kitchen Dining room Balcony Laundry service (I will do your washing for you at no charge - its a big machine, and I am washing every day so easier for me to do for you.) Bedroom, main bathroom, kitchen, dining room, balcony and laundry (baskets on top of laundry cupboard to put your dirty washing in, I will return it outside your bedroom door when dry). My son\"]}. Got: 1 validation error for StringIO\n",
      "text\n",
      "  Field required [type=missing, input_value={'claims': ['My home is c...oor when dry). My son']}, input_type=dict]\n",
      "    For further information visit https://errors.pydantic.dev/2.10/v/missing\n",
      "For troubleshooting, visit: https://python.langchain.com/docs/troubleshooting/errors/OUTPUT_PARSING_FAILURE )\n",
      "Evaluating: 100%|██████████| 60/60 [00:42<00:00,  1.42it/s]\n"
     ]
    },
    {
     "data": {
      "text/plain": [
       "{'context_recall': 0.9114, 'faithfulness': 0.6587, 'factual_correctness(mode=f1)': 0.6032}"
      ]
     },
     "execution_count": 196,
     "metadata": {},
     "output_type": "execute_result"
    }
   ],
   "source": [
    "result = evaluate(dataset=evaluation_dataset,metrics=[LLMContextRecall(), Faithfulness(), FactualCorrectness()],llm=evaluator_llm)\n",
    "result\n"
   ]
  },
  {
   "cell_type": "code",
   "execution_count": 197,
   "metadata": {},
   "outputs": [
    {
     "name": "stderr",
     "output_type": "stream",
     "text": [
      "[2025-04-15 21:00:26 - (2025-04-16 01:00:26 UTC)] [ERROR] [ragas.utils] [RagasID: a-d3ee32eef0fe470fa68b390f1d1bfd91, App-Version: 0.2.14] [API_ERROR] Request failed. Status Code: 500, URL: https://api.ragas.io/api/v1/alignment/evaluation, Error Message: \n",
      "API Message: An internal server error occured\n"
     ]
    },
    {
     "ename": "UploadException",
     "evalue": "Request failed: \nAPI Message: An internal server error occured",
     "output_type": "error",
     "traceback": [
      "\u001b[0;31m---------------------------------------------------------------------------\u001b[0m",
      "\u001b[0;31mHTTPError\u001b[0m                                 Traceback (most recent call last)",
      "File \u001b[0;32m/opt/miniconda3/envs/nlp_course_prj/lib/python3.12/site-packages/ragas/sdk.py:165\u001b[0m, in \u001b[0;36mcheck_api_response\u001b[0;34m(response)\u001b[0m\n\u001b[1;32m    164\u001b[0m \u001b[38;5;28;01mtry\u001b[39;00m:\n\u001b[0;32m--> 165\u001b[0m     \u001b[43mresponse\u001b[49m\u001b[38;5;241;43m.\u001b[39;49m\u001b[43mraise_for_status\u001b[49m\u001b[43m(\u001b[49m\u001b[43m)\u001b[49m\n\u001b[1;32m    166\u001b[0m \u001b[38;5;28;01mexcept\u001b[39;00m requests\u001b[38;5;241m.\u001b[39mexceptions\u001b[38;5;241m.\u001b[39mHTTPError:\n",
      "File \u001b[0;32m/opt/miniconda3/envs/nlp_course_prj/lib/python3.12/site-packages/requests/models.py:1024\u001b[0m, in \u001b[0;36mResponse.raise_for_status\u001b[0;34m(self)\u001b[0m\n\u001b[1;32m   1023\u001b[0m \u001b[38;5;28;01mif\u001b[39;00m http_error_msg:\n\u001b[0;32m-> 1024\u001b[0m     \u001b[38;5;28;01mraise\u001b[39;00m HTTPError(http_error_msg, response\u001b[38;5;241m=\u001b[39m\u001b[38;5;28mself\u001b[39m)\n",
      "\u001b[0;31mHTTPError\u001b[0m: 500 Server Error: Internal Server Error for url: https://api.ragas.io/api/v1/alignment/evaluation",
      "\nDuring handling of the above exception, another exception occurred:\n",
      "\u001b[0;31mUploadException\u001b[0m                           Traceback (most recent call last)",
      "Cell \u001b[0;32mIn[197], line 1\u001b[0m\n\u001b[0;32m----> 1\u001b[0m \u001b[43mresult\u001b[49m\u001b[38;5;241;43m.\u001b[39;49m\u001b[43mupload\u001b[49m\u001b[43m(\u001b[49m\u001b[43m)\u001b[49m \n",
      "File \u001b[0;32m/opt/miniconda3/envs/nlp_course_prj/lib/python3.12/site-packages/ragas/dataset_schema.py:542\u001b[0m, in \u001b[0;36mEvaluationResult.upload\u001b[0;34m(self, verbose)\u001b[0m\n\u001b[1;32m    531\u001b[0m root_trace \u001b[38;5;241m=\u001b[39m [\n\u001b[1;32m    532\u001b[0m     trace \u001b[38;5;28;01mfor\u001b[39;00m trace \u001b[38;5;129;01min\u001b[39;00m \u001b[38;5;28mself\u001b[39m\u001b[38;5;241m.\u001b[39mragas_traces\u001b[38;5;241m.\u001b[39mvalues() \u001b[38;5;28;01mif\u001b[39;00m trace\u001b[38;5;241m.\u001b[39mparent_run_id \u001b[38;5;129;01mis\u001b[39;00m \u001b[38;5;28;01mNone\u001b[39;00m\n\u001b[1;32m    533\u001b[0m ][\u001b[38;5;241m0\u001b[39m]\n\u001b[1;32m    534\u001b[0m packet \u001b[38;5;241m=\u001b[39m json\u001b[38;5;241m.\u001b[39mdumps(\n\u001b[1;32m    535\u001b[0m     {\n\u001b[1;32m    536\u001b[0m         \u001b[38;5;124m\"\u001b[39m\u001b[38;5;124mrun_id\u001b[39m\u001b[38;5;124m\"\u001b[39m: \u001b[38;5;28mstr\u001b[39m(root_trace\u001b[38;5;241m.\u001b[39mrun_id),\n\u001b[0;32m   (...)\u001b[0m\n\u001b[1;32m    540\u001b[0m     \u001b[38;5;28mcls\u001b[39m\u001b[38;5;241m=\u001b[39mChainRunEncoder,\n\u001b[1;32m    541\u001b[0m )\n\u001b[0;32m--> 542\u001b[0m response \u001b[38;5;241m=\u001b[39m \u001b[43mupload_packet\u001b[49m\u001b[43m(\u001b[49m\n\u001b[1;32m    543\u001b[0m \u001b[43m    \u001b[49m\u001b[43mpath\u001b[49m\u001b[38;5;241;43m=\u001b[39;49m\u001b[38;5;124;43m\"\u001b[39;49m\u001b[38;5;124;43m/alignment/evaluation\u001b[39;49m\u001b[38;5;124;43m\"\u001b[39;49m\u001b[43m,\u001b[49m\n\u001b[1;32m    544\u001b[0m \u001b[43m    \u001b[49m\u001b[43mdata_json_string\u001b[49m\u001b[38;5;241;43m=\u001b[39;49m\u001b[43mpacket\u001b[49m\u001b[43m,\u001b[49m\n\u001b[1;32m    545\u001b[0m \u001b[43m\u001b[49m\u001b[43m)\u001b[49m\n\u001b[1;32m    547\u001b[0m \u001b[38;5;66;03m# check status codes\u001b[39;00m\n\u001b[1;32m    548\u001b[0m app_url \u001b[38;5;241m=\u001b[39m get_app_url()\n",
      "File \u001b[0;32m/opt/miniconda3/envs/nlp_course_prj/lib/python3.12/site-packages/ragas/sdk.py:135\u001b[0m, in \u001b[0;36mupload_packet\u001b[0;34m(path, data_json_string)\u001b[0m\n\u001b[1;32m    132\u001b[0m     \u001b[38;5;28mprint\u001b[39m(\u001b[38;5;124m\"\u001b[39m\u001b[38;5;124mLogging ended\u001b[39m\u001b[38;5;124m\"\u001b[39m)\n\u001b[1;32m    133\u001b[0m     \u001b[38;5;28mprint\u001b[39m(\u001b[38;5;124mf\u001b[39m\u001b[38;5;124m\"\u001b[39m\u001b[38;5;132;01m{\u001b[39;00mdelimiter\u001b[38;5;132;01m}\u001b[39;00m\u001b[38;5;130;01m\\n\u001b[39;00m\u001b[38;5;130;01m\\n\u001b[39;00m\u001b[38;5;124m\"\u001b[39m)\n\u001b[0;32m--> 135\u001b[0m \u001b[43mcheck_api_response\u001b[49m\u001b[43m(\u001b[49m\u001b[43mresponse\u001b[49m\u001b[43m)\u001b[49m\n\u001b[1;32m    136\u001b[0m \u001b[38;5;28;01mreturn\u001b[39;00m response\n",
      "File \u001b[0;32m/opt/miniconda3/envs/nlp_course_prj/lib/python3.12/site-packages/ragas/sdk.py:182\u001b[0m, in \u001b[0;36mcheck_api_response\u001b[0;34m(response)\u001b[0m\n\u001b[1;32m    175\u001b[0m     error_msg \u001b[38;5;241m=\u001b[39m \u001b[38;5;124mf\u001b[39m\u001b[38;5;124m\"\u001b[39m\u001b[38;5;130;01m\\n\u001b[39;00m\u001b[38;5;124mStatus Code: \u001b[39m\u001b[38;5;132;01m{\u001b[39;00mresponse\u001b[38;5;241m.\u001b[39mstatus_code\u001b[38;5;132;01m}\u001b[39;00m\u001b[38;5;124m\"\u001b[39m\n\u001b[1;32m    177\u001b[0m base_logger\u001b[38;5;241m.\u001b[39merror(\n\u001b[1;32m    178\u001b[0m     \u001b[38;5;124mf\u001b[39m\u001b[38;5;124m\"\u001b[39m\u001b[38;5;124m[API_ERROR] Request failed. \u001b[39m\u001b[38;5;124m\"\u001b[39m\n\u001b[1;32m    179\u001b[0m     \u001b[38;5;124mf\u001b[39m\u001b[38;5;124m\"\u001b[39m\u001b[38;5;124mStatus Code: \u001b[39m\u001b[38;5;132;01m{\u001b[39;00mresponse\u001b[38;5;241m.\u001b[39mstatus_code\u001b[38;5;132;01m}\u001b[39;00m\u001b[38;5;124m, URL: \u001b[39m\u001b[38;5;132;01m{\u001b[39;00mresponse\u001b[38;5;241m.\u001b[39murl\u001b[38;5;132;01m}\u001b[39;00m\u001b[38;5;124m, \u001b[39m\u001b[38;5;124m\"\u001b[39m\n\u001b[1;32m    180\u001b[0m     \u001b[38;5;124mf\u001b[39m\u001b[38;5;124m\"\u001b[39m\u001b[38;5;124mError Message: \u001b[39m\u001b[38;5;132;01m{\u001b[39;00merror_msg\u001b[38;5;132;01m}\u001b[39;00m\u001b[38;5;124m\"\u001b[39m\n\u001b[1;32m    181\u001b[0m )\n\u001b[0;32m--> 182\u001b[0m \u001b[38;5;28;01mraise\u001b[39;00m UploadException(\n\u001b[1;32m    183\u001b[0m     status_code\u001b[38;5;241m=\u001b[39mresponse\u001b[38;5;241m.\u001b[39mstatus_code, message\u001b[38;5;241m=\u001b[39m\u001b[38;5;124mf\u001b[39m\u001b[38;5;124m\"\u001b[39m\u001b[38;5;124mRequest failed: \u001b[39m\u001b[38;5;132;01m{\u001b[39;00merror_msg\u001b[38;5;132;01m}\u001b[39;00m\u001b[38;5;124m\"\u001b[39m\n\u001b[1;32m    184\u001b[0m )\n",
      "\u001b[0;31mUploadException\u001b[0m: Request failed: \nAPI Message: An internal server error occured"
     ]
    }
   ],
   "source": [
    "result.upload() "
   ]
  }
 ],
 "metadata": {
  "kernelspec": {
   "display_name": "nlp_course_prj",
   "language": "python",
   "name": "python3"
  },
  "language_info": {
   "codemirror_mode": {
    "name": "ipython",
    "version": 3
   },
   "file_extension": ".py",
   "mimetype": "text/x-python",
   "name": "python",
   "nbconvert_exporter": "python",
   "pygments_lexer": "ipython3",
   "version": "3.12.8"
  }
 },
 "nbformat": 4,
 "nbformat_minor": 2
}
