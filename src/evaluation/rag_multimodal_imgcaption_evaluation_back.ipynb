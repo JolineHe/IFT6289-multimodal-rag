{
 "cells": [
  {
   "cell_type": "code",
   "metadata": {
    "ExecuteTime": {
     "end_time": "2025-04-16T02:30:16.404133Z",
     "start_time": "2025-04-16T02:30:16.401043Z"
    }
   },
   "source": [
    "import sys\n",
    "import os\n",
    "\n",
    "# 获取当前notebook的绝对路径\n",
    "current_dir = os.path.abspath('')\n",
    "# 获取项目根目录的路径（src的父目录）\n",
    "project_root = os.path.dirname(os.path.dirname(current_dir))\n",
    "sys.path.append(project_root)\n",
    "\n",
    "N_samp = 20\n",
    "alpha = 0.5\n",
    "\n",
    "from src.evaluation.evaluation_multimodal import *"
   ],
   "outputs": [],
   "execution_count": 50
  },
  {
   "cell_type": "markdown",
   "metadata": {},
   "source": [
    "### Get random properties as test set"
   ]
  },
  {
   "cell_type": "code",
   "metadata": {
    "ExecuteTime": {
     "end_time": "2025-04-16T02:30:26.978874Z",
     "start_time": "2025-04-16T02:30:16.446061Z"
    }
   },
   "source": [
    "random_properties, random_property_ids = get_random_img_properties(N_samp)\n",
    "# random_properties[0], random_property_ids\n"
   ],
   "outputs": [],
   "execution_count": 51
  },
  {
   "cell_type": "markdown",
   "metadata": {},
   "source": [
    "### Generate queries for these properties"
   ]
  },
  {
   "cell_type": "code",
   "metadata": {
    "ExecuteTime": {
     "end_time": "2025-04-16T02:30:54.192651Z",
     "start_time": "2025-04-16T02:30:27.023219Z"
    }
   },
   "source": [
    "random_properties_and_queries = generate_queries(random_properties)"
   ],
   "outputs": [],
   "execution_count": 52
  },
  {
   "cell_type": "code",
   "metadata": {
    "ExecuteTime": {
     "end_time": "2025-04-16T02:30:54.211991Z",
     "start_time": "2025-04-16T02:30:54.210124Z"
    }
   },
   "source": "# random_properties_and_queries[0]",
   "outputs": [],
   "execution_count": 53
  },
  {
   "cell_type": "code",
   "metadata": {
    "ExecuteTime": {
     "end_time": "2025-04-16T02:30:54.254400Z",
     "start_time": "2025-04-16T02:30:54.251920Z"
    }
   },
   "source": [
    "sample_queries = [\n",
    "    {'text': property['generated_query'], 'files': [property['image_path']]}\n",
    "    for property in random_properties_and_queries\n",
    "]\n",
    "# print(sample_queries[0])\n",
    "# print(len(sample_queries))"
   ],
   "outputs": [],
   "execution_count": 54
  },
  {
   "cell_type": "code",
   "metadata": {
    "ExecuteTime": {
     "end_time": "2025-04-16T02:30:54.308194Z",
     "start_time": "2025-04-16T02:30:54.297791Z"
    }
   },
   "source": [
    "from typing import Optional\n",
    "from pydantic import BaseModel, Field\n",
    "from typing import List, Dict, Any\n",
    "from src.data_models import Address, ImageDescrib\n",
    "import pandas as pd \n",
    "from src.multimodal_search import *\n",
    "\n",
    "\n",
    "collection = get_collection()\n",
    "hybrid_searcher = MultiModalSearch(collection)\n",
    "\n",
    "\n",
    "class SearchResultItem(BaseModel):\n",
    "    id: int = Field(alias='_id')\n",
    "    name: str\n",
    "    accommodates: Optional[int] = None\n",
    "    address: Address\n",
    "    summary: Optional[str] = None\n",
    "    description: Optional[str] = None\n",
    "    neighborhood_overview: Optional[str] = None\n",
    "    notes: Optional[str] = None\n",
    "    images: ImageDescrib\n",
    "    search_score: Optional[float] = None\n",
    "    reviews: Optional[List[Dict[str, Any]]] = None"
   ],
   "outputs": [],
   "execution_count": 55
  },
  {
   "cell_type": "markdown",
   "metadata": {},
   "source": [
    "### Retrive top 10 most similar listings from database for each property"
   ]
  },
  {
   "cell_type": "code",
   "metadata": {
    "ExecuteTime": {
     "end_time": "2025-04-16T02:31:51.746829Z",
     "start_time": "2025-04-16T02:30:54.343987Z"
    }
   },
   "source": [
    "retrieved_results = []\n",
    "for query in sample_queries:\n",
    "    results = hybrid_searcher.do_search(query,alpha_text=alpha)\n",
    "    search_results_models = [SearchResultItem(**result)  for result in results]\n",
    "    search_results_df = pd.DataFrame([item.model_dump() for item in search_results_models])\n",
    "    retrieved_results.append(search_results_df)\n",
    "\n",
    "    \n"
   ],
   "outputs": [],
   "execution_count": 56
  },
  {
   "metadata": {
    "ExecuteTime": {
     "end_time": "2025-04-16T02:31:51.808458Z",
     "start_time": "2025-04-16T02:31:51.806151Z"
    }
   },
   "cell_type": "code",
   "source": "# (retrieved_results[0]).columns",
   "outputs": [],
   "execution_count": 57
  },
  {
   "cell_type": "code",
   "metadata": {
    "ExecuteTime": {
     "end_time": "2025-04-16T02:31:51.828143Z",
     "start_time": "2025-04-16T02:31:51.825297Z"
    }
   },
   "source": [
    "retrieved_ids = []\n",
    "for result in retrieved_results:\n",
    "    retrieved_ids.append(result['id'].tolist())"
   ],
   "outputs": [],
   "execution_count": 58
  },
  {
   "cell_type": "markdown",
   "metadata": {},
   "source": [
    "### Check if random property ids are in the top k retrieved ids"
   ]
  },
  {
   "cell_type": "code",
   "metadata": {
    "ExecuteTime": {
     "end_time": "2025-04-16T02:31:51.873048Z",
     "start_time": "2025-04-16T02:31:51.870375Z"
    }
   },
   "source": [
    "top_k_positions = []\n",
    "for i in range(len(retrieved_ids)):\n",
    "    top_k_positions.append(check_top_k_positions(retrieved_ids[i], random_property_ids[i]))\n",
    "    \n",
    "# top_k_positions"
   ],
   "outputs": [],
   "execution_count": 59
  },
  {
   "cell_type": "code",
   "metadata": {
    "ExecuteTime": {
     "end_time": "2025-04-16T02:31:51.926857Z",
     "start_time": "2025-04-16T02:31:51.923224Z"
    }
   },
   "source": [
    "# Convert top_k_positions list to DataFrame\n",
    "top_k_df = pd.DataFrame(top_k_positions, columns=['top_1', 'top_3', 'top_5', 'top_10'])\n",
    "top_1 = sum(top_k_df['top_1'].tolist())/len(top_k_df)\n",
    "top_3 = sum(top_k_df['top_3'].tolist())/len(top_k_df)\n",
    "top_5 = sum(top_k_df['top_5'].tolist())/len(top_k_df)\n",
    "top_10 = sum(top_k_df['top_10'].tolist())/len(top_k_df)\n",
    "\n",
    "# top_1, top_3, top_5, top_10"
   ],
   "outputs": [],
   "execution_count": 60
  },
  {
   "cell_type": "markdown",
   "metadata": {},
   "source": [
    "### Using Ragas to evaluate the response by LLM\n",
    "- Context Recall: \n",
    "- Faithfulness\n",
    "- Factual correctness"
   ]
  },
  {
   "cell_type": "markdown",
   "metadata": {},
   "source": [
    "Context Recall measures how many of the relevant documents (or pieces of information) were successfully retrieved. It focuses on not missing important results. Higher recall means fewer relevant documents were left out. In short, recall is about not missing anything important. Since it is about not missing anything, calculating context recall always requires a reference to compare against."
   ]
  },
  {
   "cell_type": "markdown",
   "metadata": {},
   "source": [
    "The Faithfulness metric measures how factually consistent a response is with the retrieved context. It ranges from 0 to 1, with higher scores indicating better consistency."
   ]
  },
  {
   "cell_type": "markdown",
   "metadata": {},
   "source": [
    "FactualCorrectness is a metric class that evaluates the factual correctness of responses generated by a language model. It uses claim decomposition and natural language inference (NLI) to verify the claims made in the responses against reference texts."
   ]
  },
  {
   "cell_type": "code",
   "metadata": {
    "ExecuteTime": {
     "end_time": "2025-04-16T02:32:28.876627Z",
     "start_time": "2025-04-16T02:31:51.968871Z"
    }
   },
   "source": [
    "expected_responses = []\n",
    "# for i in range(len(sample_queries)):\n",
    "#     expected_responses.append(random_properties[i]['description'])\n",
    "\n",
    "from src.evaluation.evaluation_multimodal import Gen_MultimodalEvlDataset\n",
    "data_generator = Gen_MultimodalEvlDataset()\n",
    "\n",
    "expected_responses = data_generator.gen_combined_gt(random_properties)\n"
   ],
   "outputs": [],
   "execution_count": 61
  },
  {
   "metadata": {
    "ExecuteTime": {
     "end_time": "2025-04-16T02:32:28.923746Z",
     "start_time": "2025-04-16T02:32:28.921722Z"
    }
   },
   "cell_type": "code",
   "source": [
    "# generate ground truth image caption\n",
    "# expected_responses[0]"
   ],
   "outputs": [],
   "execution_count": 62
  },
  {
   "metadata": {
    "ExecuteTime": {
     "end_time": "2025-04-16T02:32:28.968891Z",
     "start_time": "2025-04-16T02:32:28.965812Z"
    }
   },
   "cell_type": "code",
   "source": "retrieved_results[1]['images'][0]['picture_url']",
   "outputs": [
    {
     "data": {
      "text/plain": [
       "'https://a0.muscache.com/im/pictures/6d3c7ee5-228c-4022-bec9-415ea454b9be.jpg?aki_policy=large'"
      ]
     },
     "execution_count": 63,
     "metadata": {},
     "output_type": "execute_result"
    }
   ],
   "execution_count": 63
  },
  {
   "metadata": {
    "ExecuteTime": {
     "end_time": "2025-04-16T02:33:00.070457Z",
     "start_time": "2025-04-16T02:32:29.012211Z"
    }
   },
   "cell_type": "code",
   "source": [
    "# top_1_retrieved_contexts = []\n",
    "# top_1_retrieved_contexts = [retrieved_results[i]['description'][0] for i in range(len(retrieved_results))]\n",
    "# top_1_retrieved_contexts\n",
    "# retrieved_results[0]['images'][0]['picture_url']\n",
    "\n",
    "top_1_retrieved_contexts = data_generator.gen_combined_retrieved(retrieved_results)"
   ],
   "outputs": [],
   "execution_count": 64
  },
  {
   "cell_type": "code",
   "metadata": {
    "ExecuteTime": {
     "end_time": "2025-04-16T02:33:00.118221Z",
     "start_time": "2025-04-16T02:33:00.115992Z"
    }
   },
   "source": "# top_1_retrieved_contexts[0]",
   "outputs": [],
   "execution_count": 65
  },
  {
   "cell_type": "code",
   "metadata": {
    "ExecuteTime": {
     "end_time": "2025-04-16T02:33:00.162766Z",
     "start_time": "2025-04-16T02:33:00.160014Z"
    }
   },
   "source": [
    "def generate_response(query, context):      \n",
    "    prompt_template = ChatPromptTemplate.from_messages([\n",
    "                (\"system\", \"\"\"You are an Airbnb listing recommendation system. Please:\n",
    "                1. Respond in the same language as the user\n",
    "                2. If the user is asking for property recommendations:\n",
    "                   - Prioritize results with higher search scores\n",
    "                   - Include the Airbnb listing URL and image URL\n",
    "                   - Explain why you chose these properties\n",
    "                   - Highlight features that match the user's criteria\n",
    "                3. If the user has provided an image, consider visual similarity in your recommendations\n",
    "                4. Be friendly and helpful in your responses\n",
    "                5, answer the question in the same language as the query\"\"\"),\n",
    "                (\"human\", \"Answer this user query: {query} with the following context:\\n{context}\")\n",
    "            ])\n",
    "\n",
    "    formatted_messages = prompt_template.format_messages(query=query, context=context)\n",
    "    return rag_llm(formatted_messages)  "
   ],
   "outputs": [],
   "execution_count": 66
  },
  {
   "cell_type": "code",
   "metadata": {
    "ExecuteTime": {
     "end_time": "2025-04-16T02:36:26.838837Z",
     "start_time": "2025-04-16T02:33:00.205767Z"
    }
   },
   "source": [
    "dataset = []\n",
    "\n",
    "for query, reference, context in zip(sample_queries, expected_responses, top_1_retrieved_contexts):\n",
    "    response = generate_response(query, context)\n",
    "    query_input = data_generator.gen_combined_query(query)\n",
    "    dataset.append(\n",
    "        {\n",
    "            \"user_input\":query_input,\n",
    "            \"retrieved_contexts\": [context],\n",
    "            \"response\":response.content,\n",
    "            \"reference\":reference\n",
    "        }\n",
    "    )"
   ],
   "outputs": [],
   "execution_count": 67
  },
  {
   "metadata": {
    "ExecuteTime": {
     "end_time": "2025-04-16T02:36:26.901767Z",
     "start_time": "2025-04-16T02:36:26.899959Z"
    }
   },
   "cell_type": "code",
   "source": [
    "# print('--response: ',response.content)\n",
    "# print('--ground_truth: ', reference)\n",
    "# print('--input: ', query_input)\n",
    "# print('--top1_retrived_contexts: ', context)"
   ],
   "outputs": [],
   "execution_count": 68
  },
  {
   "cell_type": "code",
   "metadata": {
    "ExecuteTime": {
     "end_time": "2025-04-16T02:36:26.917324Z",
     "start_time": "2025-04-16T02:36:26.915359Z"
    }
   },
   "source": "# dataset",
   "outputs": [],
   "execution_count": 69
  },
  {
   "cell_type": "code",
   "metadata": {
    "ExecuteTime": {
     "end_time": "2025-04-16T02:36:27.060579Z",
     "start_time": "2025-04-16T02:36:26.960011Z"
    }
   },
   "source": [
    "from ragas import EvaluationDataset\n",
    "from ragas import evaluate\n",
    "from ragas.llms import LangchainLLMWrapper\n",
    "from ragas.metrics import LLMContextRecall, Faithfulness, FactualCorrectness\n",
    "\n",
    "\n",
    "evaluation_dataset = EvaluationDataset.from_list(dataset)\n",
    "evaluator_llm = LangchainLLMWrapper(ChatOpenAI(model=\"gpt-4.1-nano\"))"
   ],
   "outputs": [],
   "execution_count": 70
  },
  {
   "cell_type": "code",
   "metadata": {
    "ExecuteTime": {
     "end_time": "2025-04-16T02:37:08.972286Z",
     "start_time": "2025-04-16T02:36:27.081190Z"
    }
   },
   "source": [
    "result = evaluate(dataset=evaluation_dataset,metrics=[LLMContextRecall(), Faithfulness(), FactualCorrectness()],llm=evaluator_llm)\n",
    "result\n"
   ],
   "outputs": [
    {
     "name": "stderr",
     "output_type": "stream",
     "text": [
      "Evaluating: 100%|██████████| 60/60 [00:41<00:00,  1.45it/s]\n"
     ]
    },
    {
     "data": {
      "text/plain": [
       "{'context_recall': 0.7126, 'faithfulness': 0.4216, 'factual_correctness(mode=f1)': 0.4880}"
      ]
     },
     "execution_count": 71,
     "metadata": {},
     "output_type": "execute_result"
    }
   ],
   "execution_count": 71
  },
  {
   "metadata": {
    "ExecuteTime": {
     "end_time": "2025-04-16T02:37:08.996626Z",
     "start_time": "2025-04-16T02:37:08.993419Z"
    }
   },
   "cell_type": "code",
   "source": "top_1, top_3, top_5, top_10",
   "outputs": [
    {
     "data": {
      "text/plain": [
       "(0.2, 0.25, 0.3, 0.3)"
      ]
     },
     "execution_count": 72,
     "metadata": {},
     "output_type": "execute_result"
    }
   ],
   "execution_count": 72
  },
  {
   "cell_type": "code",
   "metadata": {
    "ExecuteTime": {
     "end_time": "2025-04-16T02:37:09.097502Z",
     "start_time": "2025-04-16T02:37:09.025543Z"
    }
   },
   "source": "result.upload()",
   "outputs": [
    {
     "ename": "ValueError",
     "evalue": "RAGAS_APP_TOKEN is not set",
     "output_type": "error",
     "traceback": [
      "\u001B[31m---------------------------------------------------------------------------\u001B[39m",
      "\u001B[31mValueError\u001B[39m                                Traceback (most recent call last)",
      "\u001B[36mCell\u001B[39m\u001B[36m \u001B[39m\u001B[32mIn[73]\u001B[39m\u001B[32m, line 1\u001B[39m\n\u001B[32m----> \u001B[39m\u001B[32m1\u001B[39m \u001B[43mresult\u001B[49m\u001B[43m.\u001B[49m\u001B[43mupload\u001B[49m\u001B[43m(\u001B[49m\u001B[43m)\u001B[49m\n",
      "\u001B[36mFile \u001B[39m\u001B[32m~/Codes/IFT6289-multimodal-rag/venv/lib/python3.11/site-packages/ragas/dataset_schema.py:542\u001B[39m, in \u001B[36mEvaluationResult.upload\u001B[39m\u001B[34m(self, verbose)\u001B[39m\n\u001B[32m    531\u001B[39m root_trace = [\n\u001B[32m    532\u001B[39m     trace \u001B[38;5;28;01mfor\u001B[39;00m trace \u001B[38;5;129;01min\u001B[39;00m \u001B[38;5;28mself\u001B[39m.ragas_traces.values() \u001B[38;5;28;01mif\u001B[39;00m trace.parent_run_id \u001B[38;5;129;01mis\u001B[39;00m \u001B[38;5;28;01mNone\u001B[39;00m\n\u001B[32m    533\u001B[39m ][\u001B[32m0\u001B[39m]\n\u001B[32m    534\u001B[39m packet = json.dumps(\n\u001B[32m    535\u001B[39m     {\n\u001B[32m    536\u001B[39m         \u001B[33m\"\u001B[39m\u001B[33mrun_id\u001B[39m\u001B[33m\"\u001B[39m: \u001B[38;5;28mstr\u001B[39m(root_trace.run_id),\n\u001B[32m   (...)\u001B[39m\u001B[32m    540\u001B[39m     \u001B[38;5;28mcls\u001B[39m=ChainRunEncoder,\n\u001B[32m    541\u001B[39m )\n\u001B[32m--> \u001B[39m\u001B[32m542\u001B[39m response = \u001B[43mupload_packet\u001B[49m\u001B[43m(\u001B[49m\n\u001B[32m    543\u001B[39m \u001B[43m    \u001B[49m\u001B[43mpath\u001B[49m\u001B[43m=\u001B[49m\u001B[33;43m\"\u001B[39;49m\u001B[33;43m/alignment/evaluation\u001B[39;49m\u001B[33;43m\"\u001B[39;49m\u001B[43m,\u001B[49m\n\u001B[32m    544\u001B[39m \u001B[43m    \u001B[49m\u001B[43mdata_json_string\u001B[49m\u001B[43m=\u001B[49m\u001B[43mpacket\u001B[49m\u001B[43m,\u001B[49m\n\u001B[32m    545\u001B[39m \u001B[43m\u001B[49m\u001B[43m)\u001B[49m\n\u001B[32m    547\u001B[39m \u001B[38;5;66;03m# check status codes\u001B[39;00m\n\u001B[32m    548\u001B[39m app_url = get_app_url()\n",
      "\u001B[36mFile \u001B[39m\u001B[32m~/Codes/IFT6289-multimodal-rag/venv/lib/python3.11/site-packages/ragas/sdk.py:48\u001B[39m, in \u001B[36mupload_packet\u001B[39m\u001B[34m(path, data_json_string)\u001B[39m\n\u001B[32m     47\u001B[39m \u001B[38;5;28;01mdef\u001B[39;00m\u001B[38;5;250m \u001B[39m\u001B[34mupload_packet\u001B[39m(path: \u001B[38;5;28mstr\u001B[39m, data_json_string: \u001B[38;5;28mstr\u001B[39m):\n\u001B[32m---> \u001B[39m\u001B[32m48\u001B[39m     app_token = \u001B[43mget_app_token\u001B[49m\u001B[43m(\u001B[49m\u001B[43m)\u001B[49m\n\u001B[32m     49\u001B[39m     base_url = get_api_url()\n\u001B[32m     50\u001B[39m     app_url = get_app_url()\n",
      "\u001B[36mFile \u001B[39m\u001B[32m~/Codes/IFT6289-multimodal-rag/venv/lib/python3.11/site-packages/ragas/sdk.py:27\u001B[39m, in \u001B[36mget_app_token\u001B[39m\u001B[34m()\u001B[39m\n\u001B[32m     25\u001B[39m app_token = os.environ.get(\u001B[33m\"\u001B[39m\u001B[33mRAGAS_APP_TOKEN\u001B[39m\u001B[33m\"\u001B[39m)\n\u001B[32m     26\u001B[39m \u001B[38;5;28;01mif\u001B[39;00m app_token \u001B[38;5;129;01mis\u001B[39;00m \u001B[38;5;28;01mNone\u001B[39;00m:\n\u001B[32m---> \u001B[39m\u001B[32m27\u001B[39m     \u001B[38;5;28;01mraise\u001B[39;00m \u001B[38;5;167;01mValueError\u001B[39;00m(\u001B[33m\"\u001B[39m\u001B[33mRAGAS_APP_TOKEN is not set\u001B[39m\u001B[33m\"\u001B[39m)\n\u001B[32m     28\u001B[39m \u001B[38;5;28;01mreturn\u001B[39;00m app_token\n",
      "\u001B[31mValueError\u001B[39m: RAGAS_APP_TOKEN is not set"
     ]
    }
   ],
   "execution_count": 73
  },
  {
   "metadata": {},
   "cell_type": "code",
   "source": "",
   "outputs": [],
   "execution_count": null
  }
 ],
 "metadata": {
  "kernelspec": {
   "display_name": "nlp_course_prj",
   "language": "python",
   "name": "python3"
  },
  "language_info": {
   "codemirror_mode": {
    "name": "ipython",
    "version": 3
   },
   "file_extension": ".py",
   "mimetype": "text/x-python",
   "name": "python",
   "nbconvert_exporter": "python",
   "pygments_lexer": "ipython3",
   "version": "3.12.8"
  }
 },
 "nbformat": 4,
 "nbformat_minor": 2
}
